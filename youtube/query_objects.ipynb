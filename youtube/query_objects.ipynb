{
  "nbformat": 4,
  "nbformat_minor": 0,
  "metadata": {
    "colab": {
      "name": "query-objects.ipynb",
      "provenance": [],
      "collapsed_sections": []
    },
    "kernelspec": {
      "name": "python3",
      "display_name": "Python 3"
    }
  },
  "cells": [
    {
      "cell_type": "markdown",
      "metadata": {
        "id": "H0Hpp08xeenl",
        "colab_type": "text"
      },
      "source": [
        "# Examining Python Objects and Source Code\n",
        "\n",
        "[Jeff Heaton](https://www.youtube.com/channel/UCR1-GEpyOPzT2AO4D_eifdw)\n",
        "\n",
        "Not every Python library is documented as well as it should be. For example, I've been working with [OpenAI gym](https://gym.openai.com/), and had some questions that were just not answered by the documentation.  To resolve these questions I both used Python reflexive functions to analyze the AI Gym objects at runtime and examined the OpenAI source code at GitHub.  I created a YouTube video that explains both techniques:\n",
        "\n",
        "* [Dealing with Python Libraries that have Limited Documentation]()\n",
        "\n",
        "The first step is to create an object from AI Gym to begin exploring.  For this example, we will look at the [Mountain Car game](https://gym.openai.com/envs/MountainCar-v0/)."
      ]
    },
    {
      "cell_type": "code",
      "metadata": {
        "id": "OmsosGiJe8R_",
        "colab_type": "code",
        "colab": {}
      },
      "source": [
        "import gym\n",
        "\n",
        "env = gym.make(\"MountainCar-v0\")"
      ],
      "execution_count": 0,
      "outputs": []
    },
    {
      "cell_type": "markdown",
      "metadata": {
        "id": "XAD1g7gJnKdl",
        "colab_type": "text"
      },
      "source": [
        "Make use of the following Python functions to examine the **env** variable:\n",
        "\n",
        "* callable()\n",
        "* dir()\n",
        "* getattr()\n",
        "* globals()\n",
        "* hasattr()\n",
        "* id()\n",
        "* locals()\n",
        "* type()\n"
      ]
    },
    {
      "cell_type": "markdown",
      "metadata": {
        "id": "JvtWo2RByHNe",
        "colab_type": "text"
      },
      "source": [
        "# Using Callable\n",
        "\n",
        "The callable function allows you to determine if parts of an object are callable as functions or are data."
      ]
    },
    {
      "cell_type": "code",
      "metadata": {
        "id": "OAsfkm_-lRVw",
        "colab_type": "code",
        "colab": {
          "base_uri": "https://localhost:8080/",
          "height": 35
        },
        "outputId": "3dc3516f-6e5b-42be-9156-4b1e17159f49"
      },
      "source": [
        "callable(env)"
      ],
      "execution_count": 3,
      "outputs": [
        {
          "output_type": "execute_result",
          "data": {
            "text/plain": [
              "False"
            ]
          },
          "metadata": {
            "tags": []
          },
          "execution_count": 3
        }
      ]
    },
    {
      "cell_type": "code",
      "metadata": {
        "id": "O5RgDOuXpHDr",
        "colab_type": "code",
        "colab": {
          "base_uri": "https://localhost:8080/",
          "height": 35
        },
        "outputId": "b4d321c7-2026-49dd-8fad-f888d5c6a91e"
      },
      "source": [
        "callable(env.action_space)"
      ],
      "execution_count": 10,
      "outputs": [
        {
          "output_type": "execute_result",
          "data": {
            "text/plain": [
              "False"
            ]
          },
          "metadata": {
            "tags": []
          },
          "execution_count": 10
        }
      ]
    },
    {
      "cell_type": "code",
      "metadata": {
        "id": "IAre8sRIhiWi",
        "colab_type": "code",
        "colab": {
          "base_uri": "https://localhost:8080/",
          "height": 35
        },
        "outputId": "e8df09c6-fad5-4228-cdce-24064ab82eb9"
      },
      "source": [
        "callable(env.render)"
      ],
      "execution_count": 35,
      "outputs": [
        {
          "output_type": "execute_result",
          "data": {
            "text/plain": [
              "True"
            ]
          },
          "metadata": {
            "tags": []
          },
          "execution_count": 35
        }
      ]
    },
    {
      "cell_type": "markdown",
      "metadata": {
        "id": "QyzWF-3jyL5b",
        "colab_type": "text"
      },
      "source": [
        "# Using Dir\n",
        "\n",
        "The dir command is my first stop for examining an unknown object, as it gives me a complete list of the contents of an object.  "
      ]
    },
    {
      "cell_type": "code",
      "metadata": {
        "id": "nmAeNExxoT6j",
        "colab_type": "code",
        "colab": {
          "base_uri": "https://localhost:8080/",
          "height": 797
        },
        "outputId": "f7ee2e93-cddd-46d7-f210-bbcfae11f9dc"
      },
      "source": [
        "dir(env)"
      ],
      "execution_count": 4,
      "outputs": [
        {
          "output_type": "execute_result",
          "data": {
            "text/plain": [
              "['__class__',\n",
              " '__delattr__',\n",
              " '__dict__',\n",
              " '__dir__',\n",
              " '__doc__',\n",
              " '__enter__',\n",
              " '__eq__',\n",
              " '__exit__',\n",
              " '__format__',\n",
              " '__ge__',\n",
              " '__getattr__',\n",
              " '__getattribute__',\n",
              " '__gt__',\n",
              " '__hash__',\n",
              " '__init__',\n",
              " '__init_subclass__',\n",
              " '__le__',\n",
              " '__lt__',\n",
              " '__module__',\n",
              " '__ne__',\n",
              " '__new__',\n",
              " '__reduce__',\n",
              " '__reduce_ex__',\n",
              " '__repr__',\n",
              " '__setattr__',\n",
              " '__sizeof__',\n",
              " '__str__',\n",
              " '__subclasshook__',\n",
              " '__weakref__',\n",
              " '_elapsed_steps',\n",
              " '_max_episode_steps',\n",
              " 'action_space',\n",
              " 'class_name',\n",
              " 'close',\n",
              " 'compute_reward',\n",
              " 'env',\n",
              " 'metadata',\n",
              " 'observation_space',\n",
              " 'render',\n",
              " 'reset',\n",
              " 'reward_range',\n",
              " 'seed',\n",
              " 'spec',\n",
              " 'step',\n",
              " 'unwrapped']"
            ]
          },
          "metadata": {
            "tags": []
          },
          "execution_count": 4
        }
      ]
    },
    {
      "cell_type": "markdown",
      "metadata": {
        "id": "iXeZc1gsyPty",
        "colab_type": "text"
      },
      "source": [
        "# Using Getattr\n",
        "\n",
        "Though not as useful some of the other functions here for interactive mode, getattr allows the programmer to programatically access elements in a collection."
      ]
    },
    {
      "cell_type": "code",
      "metadata": {
        "id": "7Tm4EPvYqkVZ",
        "colab_type": "code",
        "colab": {
          "base_uri": "https://localhost:8080/",
          "height": 35
        },
        "outputId": "9d7907a9-6cd9-48d2-e6b4-4c0d5eb4c3ac"
      },
      "source": [
        "getattr(env,'action_space')\n",
        "# This is nearly the same as calling executing: enc.action_space"
      ],
      "execution_count": 14,
      "outputs": [
        {
          "output_type": "execute_result",
          "data": {
            "text/plain": [
              "Discrete(3)"
            ]
          },
          "metadata": {
            "tags": []
          },
          "execution_count": 14
        }
      ]
    },
    {
      "cell_type": "markdown",
      "metadata": {
        "id": "oFPIJDUoyT6p",
        "colab_type": "text"
      },
      "source": [
        "# Using globals\n",
        "\n",
        "Despite being the bane of many programmers, the reputation of global variables and the global namespace has improved in the last decade.  Python libraries often make extensive use of the global namespace.  If you would like to see what is declared globally, this function allows that."
      ]
    },
    {
      "cell_type": "code",
      "metadata": {
        "id": "XhmTYAAyq1zS",
        "colab_type": "code",
        "colab": {
          "base_uri": "https://localhost:8080/",
          "height": 1000
        },
        "outputId": "9a599e7f-4d7d-4f1f-d18a-8ec6fa566430"
      },
      "source": [
        "globals()"
      ],
      "execution_count": 15,
      "outputs": [
        {
          "output_type": "execute_result",
          "data": {
            "text/plain": [
              "{'In': ['',\n",
              "  'import gym\\n\\nenv = gym.make(\"MountainCar-v0\")',\n",
              "  'import gym\\n\\nenv = gym.make(\"MountainCar-v0\")',\n",
              "  'callable(env)',\n",
              "  'dir(env)',\n",
              "  'env.class_name',\n",
              "  'callable(env.class_name)',\n",
              "  'callable(env.seed)',\n",
              "  'callable(1)',\n",
              "  'a = \\ncallable(\"test\")',\n",
              "  'callable(\"test\")',\n",
              "  'callable(env.action_space)',\n",
              "  'env.class_name',\n",
              "  'str(env.class_name)',\n",
              "  \"getattr(env,'step')\",\n",
              "  \"getattr(env,'action_space')\",\n",
              "  'globals()'],\n",
              " 'Out': {3: False,\n",
              "  4: ['__class__',\n",
              "   '__delattr__',\n",
              "   '__dict__',\n",
              "   '__dir__',\n",
              "   '__doc__',\n",
              "   '__enter__',\n",
              "   '__eq__',\n",
              "   '__exit__',\n",
              "   '__format__',\n",
              "   '__ge__',\n",
              "   '__getattr__',\n",
              "   '__getattribute__',\n",
              "   '__gt__',\n",
              "   '__hash__',\n",
              "   '__init__',\n",
              "   '__init_subclass__',\n",
              "   '__le__',\n",
              "   '__lt__',\n",
              "   '__module__',\n",
              "   '__ne__',\n",
              "   '__new__',\n",
              "   '__reduce__',\n",
              "   '__reduce_ex__',\n",
              "   '__repr__',\n",
              "   '__setattr__',\n",
              "   '__sizeof__',\n",
              "   '__str__',\n",
              "   '__subclasshook__',\n",
              "   '__weakref__',\n",
              "   '_elapsed_steps',\n",
              "   '_max_episode_steps',\n",
              "   'action_space',\n",
              "   'class_name',\n",
              "   'close',\n",
              "   'compute_reward',\n",
              "   'env',\n",
              "   'metadata',\n",
              "   'observation_space',\n",
              "   'render',\n",
              "   'reset',\n",
              "   'reward_range',\n",
              "   'seed',\n",
              "   'spec',\n",
              "   'step',\n",
              "   'unwrapped'],\n",
              "  5: <bound method Wrapper.class_name of <class 'gym.wrappers.time_limit.TimeLimit'>>,\n",
              "  6: True,\n",
              "  7: True,\n",
              "  8: False,\n",
              "  9: False,\n",
              "  10: False,\n",
              "  11: <bound method Wrapper.class_name of <class 'gym.wrappers.time_limit.TimeLimit'>>,\n",
              "  12: \"<bound method Wrapper.class_name of <class 'gym.wrappers.time_limit.TimeLimit'>>\",\n",
              "  13: <bound method TimeLimit.step of <TimeLimit<MountainCarEnv<MountainCar-v0>>>>,\n",
              "  14: Discrete(3)},\n",
              " '_': Discrete(3),\n",
              " '_10': False,\n",
              " '_11': <bound method Wrapper.class_name of <class 'gym.wrappers.time_limit.TimeLimit'>>,\n",
              " '_12': \"<bound method Wrapper.class_name of <class 'gym.wrappers.time_limit.TimeLimit'>>\",\n",
              " '_13': <bound method TimeLimit.step of <TimeLimit<MountainCarEnv<MountainCar-v0>>>>,\n",
              " '_14': Discrete(3),\n",
              " '_3': False,\n",
              " '_4': ['__class__',\n",
              "  '__delattr__',\n",
              "  '__dict__',\n",
              "  '__dir__',\n",
              "  '__doc__',\n",
              "  '__enter__',\n",
              "  '__eq__',\n",
              "  '__exit__',\n",
              "  '__format__',\n",
              "  '__ge__',\n",
              "  '__getattr__',\n",
              "  '__getattribute__',\n",
              "  '__gt__',\n",
              "  '__hash__',\n",
              "  '__init__',\n",
              "  '__init_subclass__',\n",
              "  '__le__',\n",
              "  '__lt__',\n",
              "  '__module__',\n",
              "  '__ne__',\n",
              "  '__new__',\n",
              "  '__reduce__',\n",
              "  '__reduce_ex__',\n",
              "  '__repr__',\n",
              "  '__setattr__',\n",
              "  '__sizeof__',\n",
              "  '__str__',\n",
              "  '__subclasshook__',\n",
              "  '__weakref__',\n",
              "  '_elapsed_steps',\n",
              "  '_max_episode_steps',\n",
              "  'action_space',\n",
              "  'class_name',\n",
              "  'close',\n",
              "  'compute_reward',\n",
              "  'env',\n",
              "  'metadata',\n",
              "  'observation_space',\n",
              "  'render',\n",
              "  'reset',\n",
              "  'reward_range',\n",
              "  'seed',\n",
              "  'spec',\n",
              "  'step',\n",
              "  'unwrapped'],\n",
              " '_5': <bound method Wrapper.class_name of <class 'gym.wrappers.time_limit.TimeLimit'>>,\n",
              " '_6': True,\n",
              " '_7': True,\n",
              " '_8': False,\n",
              " '_9': False,\n",
              " '__': <bound method TimeLimit.step of <TimeLimit<MountainCarEnv<MountainCar-v0>>>>,\n",
              " '___': \"<bound method Wrapper.class_name of <class 'gym.wrappers.time_limit.TimeLimit'>>\",\n",
              " '__builtin__': <module 'builtins' (built-in)>,\n",
              " '__builtins__': <module 'builtins' (built-in)>,\n",
              " '__doc__': 'Automatically created module for IPython interactive environment',\n",
              " '__loader__': None,\n",
              " '__name__': '__main__',\n",
              " '__package__': None,\n",
              " '__spec__': None,\n",
              " '_dh': ['/content'],\n",
              " '_i': \"getattr(env,'action_space')\",\n",
              " '_i1': 'import gym\\n\\nenv = gym.make(\"MountainCar-v0\")',\n",
              " '_i10': 'callable(env.action_space)',\n",
              " '_i11': 'env.class_name',\n",
              " '_i12': 'str(env.class_name)',\n",
              " '_i13': \"getattr(env,'step')\",\n",
              " '_i14': \"getattr(env,'action_space')\",\n",
              " '_i15': 'globals()',\n",
              " '_i2': 'import gym\\n\\nenv = gym.make(\"MountainCar-v0\")',\n",
              " '_i3': 'callable(env)',\n",
              " '_i4': 'dir(env)',\n",
              " '_i5': 'env.class_name',\n",
              " '_i6': 'callable(env.class_name)',\n",
              " '_i7': 'callable(env.seed)',\n",
              " '_i8': 'callable(1)',\n",
              " '_i9': 'callable(\"test\")',\n",
              " '_ih': ['',\n",
              "  'import gym\\n\\nenv = gym.make(\"MountainCar-v0\")',\n",
              "  'import gym\\n\\nenv = gym.make(\"MountainCar-v0\")',\n",
              "  'callable(env)',\n",
              "  'dir(env)',\n",
              "  'env.class_name',\n",
              "  'callable(env.class_name)',\n",
              "  'callable(env.seed)',\n",
              "  'callable(1)',\n",
              "  'a = \\ncallable(\"test\")',\n",
              "  'callable(\"test\")',\n",
              "  'callable(env.action_space)',\n",
              "  'env.class_name',\n",
              "  'str(env.class_name)',\n",
              "  \"getattr(env,'step')\",\n",
              "  \"getattr(env,'action_space')\",\n",
              "  'globals()'],\n",
              " '_ii': \"getattr(env,'step')\",\n",
              " '_iii': 'str(env.class_name)',\n",
              " '_oh': {3: False,\n",
              "  4: ['__class__',\n",
              "   '__delattr__',\n",
              "   '__dict__',\n",
              "   '__dir__',\n",
              "   '__doc__',\n",
              "   '__enter__',\n",
              "   '__eq__',\n",
              "   '__exit__',\n",
              "   '__format__',\n",
              "   '__ge__',\n",
              "   '__getattr__',\n",
              "   '__getattribute__',\n",
              "   '__gt__',\n",
              "   '__hash__',\n",
              "   '__init__',\n",
              "   '__init_subclass__',\n",
              "   '__le__',\n",
              "   '__lt__',\n",
              "   '__module__',\n",
              "   '__ne__',\n",
              "   '__new__',\n",
              "   '__reduce__',\n",
              "   '__reduce_ex__',\n",
              "   '__repr__',\n",
              "   '__setattr__',\n",
              "   '__sizeof__',\n",
              "   '__str__',\n",
              "   '__subclasshook__',\n",
              "   '__weakref__',\n",
              "   '_elapsed_steps',\n",
              "   '_max_episode_steps',\n",
              "   'action_space',\n",
              "   'class_name',\n",
              "   'close',\n",
              "   'compute_reward',\n",
              "   'env',\n",
              "   'metadata',\n",
              "   'observation_space',\n",
              "   'render',\n",
              "   'reset',\n",
              "   'reward_range',\n",
              "   'seed',\n",
              "   'spec',\n",
              "   'step',\n",
              "   'unwrapped'],\n",
              "  5: <bound method Wrapper.class_name of <class 'gym.wrappers.time_limit.TimeLimit'>>,\n",
              "  6: True,\n",
              "  7: True,\n",
              "  8: False,\n",
              "  9: False,\n",
              "  10: False,\n",
              "  11: <bound method Wrapper.class_name of <class 'gym.wrappers.time_limit.TimeLimit'>>,\n",
              "  12: \"<bound method Wrapper.class_name of <class 'gym.wrappers.time_limit.TimeLimit'>>\",\n",
              "  13: <bound method TimeLimit.step of <TimeLimit<MountainCarEnv<MountainCar-v0>>>>,\n",
              "  14: Discrete(3)},\n",
              " '_sh': <module 'IPython.core.shadowns' from '/usr/local/lib/python3.6/dist-packages/IPython/core/shadowns.py'>,\n",
              " 'env': <TimeLimit<MountainCarEnv<MountainCar-v0>>>,\n",
              " 'exit': <IPython.core.autocall.ZMQExitAutocall at 0x7f29a1239390>,\n",
              " 'get_ipython': <bound method InteractiveShell.get_ipython of <google.colab._shell.Shell object at 0x7f29a146e940>>,\n",
              " 'gym': <module 'gym' from '/usr/local/lib/python3.6/dist-packages/gym/__init__.py'>,\n",
              " 'quit': <IPython.core.autocall.ZMQExitAutocall at 0x7f29a1239390>}"
            ]
          },
          "metadata": {
            "tags": []
          },
          "execution_count": 15
        }
      ]
    },
    {
      "cell_type": "markdown",
      "metadata": {
        "id": "Y79LeT21ydGQ",
        "colab_type": "text"
      },
      "source": [
        "# Using hasattr\n",
        "\n",
        "The getattr function will error out if you give it a bad function name.  For example:\n",
        "\n",
        "```\n",
        "getattr(env,'bad_function_name')\n",
        "```\n",
        "\n",
        "This will result in an error:\n",
        "\n",
        "```\n",
        "AttributeError                            Traceback (most recent call last)\n",
        "<ipython-input-20-9a098c83bd15> in <module>()\n",
        "----> 1 getattr(env,'bad_function_name')\n",
        "```"
      ]
    },
    {
      "cell_type": "markdown",
      "metadata": {
        "id": "C9mI7qfskMkL",
        "colab_type": "text"
      },
      "source": [
        "Calling the method below can prevent these exceptions from occuring."
      ]
    },
    {
      "cell_type": "code",
      "metadata": {
        "id": "Y6ROLgY4sDxq",
        "colab_type": "code",
        "colab": {
          "base_uri": "https://localhost:8080/",
          "height": 35
        },
        "outputId": "a1ecebd1-f629-475b-ffca-551264af572a"
      },
      "source": [
        "hasattr(env,'bad_function_name')"
      ],
      "execution_count": 21,
      "outputs": [
        {
          "output_type": "execute_result",
          "data": {
            "text/plain": [
              "False"
            ]
          },
          "metadata": {
            "tags": []
          },
          "execution_count": 21
        }
      ]
    },
    {
      "cell_type": "markdown",
      "metadata": {
        "id": "q2EsN_3-yiC4",
        "colab_type": "text"
      },
      "source": [
        "# Using id\n",
        "\n",
        "Though not as useful as the other functions given here for exploring libraries, the *id* function returns the *identity* of an object. This identity is an integer, which is guaranteed to be unique and constant during the object's lifetime. Two objects with non-overlapping lifetimes may have the same *id* value."
      ]
    },
    {
      "cell_type": "code",
      "metadata": {
        "id": "iifxcHZisfsL",
        "colab_type": "code",
        "colab": {
          "base_uri": "https://localhost:8080/",
          "height": 35
        },
        "outputId": "ed304143-b711-4e99-8a39-1270a0877982"
      },
      "source": [
        "id(env)"
      ],
      "execution_count": 22,
      "outputs": [
        {
          "output_type": "execute_result",
          "data": {
            "text/plain": [
              "139816561372296"
            ]
          },
          "metadata": {
            "tags": []
          },
          "execution_count": 22
        }
      ]
    },
    {
      "cell_type": "markdown",
      "metadata": {
        "id": "kKswEd9SylHH",
        "colab_type": "text"
      },
      "source": [
        "# Using Locals\n",
        "\n",
        "The *locals* function allows you to see the variables defined at local scope, such as inside of a function.  If locals is called from global scope, it returns the same output as the *globals* function."
      ]
    },
    {
      "cell_type": "code",
      "metadata": {
        "id": "LsrVZoyXsiRO",
        "colab_type": "code",
        "colab": {
          "base_uri": "https://localhost:8080/",
          "height": 1000
        },
        "outputId": "1efaf633-46a2-483b-97b0-1773ae9388ac"
      },
      "source": [
        "locals()"
      ],
      "execution_count": 23,
      "outputs": [
        {
          "output_type": "execute_result",
          "data": {
            "text/plain": [
              "{'In': ['',\n",
              "  'import gym\\n\\nenv = gym.make(\"MountainCar-v0\")',\n",
              "  'import gym\\n\\nenv = gym.make(\"MountainCar-v0\")',\n",
              "  'callable(env)',\n",
              "  'dir(env)',\n",
              "  'env.class_name',\n",
              "  'callable(env.class_name)',\n",
              "  'callable(env.seed)',\n",
              "  'callable(1)',\n",
              "  'a = \\ncallable(\"test\")',\n",
              "  'callable(\"test\")',\n",
              "  'callable(env.action_space)',\n",
              "  'env.class_name',\n",
              "  'str(env.class_name)',\n",
              "  \"getattr(env,'step')\",\n",
              "  \"getattr(env,'action_space')\",\n",
              "  'globals()',\n",
              "  'locals()',\n",
              "  'if True:\\n  locals()',\n",
              "  'if True:\\n  a = 10\\n  locals()',\n",
              "  'if True:\\n  a = 10\\n  print(locals())',\n",
              "  \"getattr(env,'bad_function_name')\",\n",
              "  \"hasattr(env,'bad_function_name')\",\n",
              "  'id(env)',\n",
              "  'locals()'],\n",
              " 'Out': {3: False,\n",
              "  4: ['__class__',\n",
              "   '__delattr__',\n",
              "   '__dict__',\n",
              "   '__dir__',\n",
              "   '__doc__',\n",
              "   '__enter__',\n",
              "   '__eq__',\n",
              "   '__exit__',\n",
              "   '__format__',\n",
              "   '__ge__',\n",
              "   '__getattr__',\n",
              "   '__getattribute__',\n",
              "   '__gt__',\n",
              "   '__hash__',\n",
              "   '__init__',\n",
              "   '__init_subclass__',\n",
              "   '__le__',\n",
              "   '__lt__',\n",
              "   '__module__',\n",
              "   '__ne__',\n",
              "   '__new__',\n",
              "   '__reduce__',\n",
              "   '__reduce_ex__',\n",
              "   '__repr__',\n",
              "   '__setattr__',\n",
              "   '__sizeof__',\n",
              "   '__str__',\n",
              "   '__subclasshook__',\n",
              "   '__weakref__',\n",
              "   '_elapsed_steps',\n",
              "   '_max_episode_steps',\n",
              "   'action_space',\n",
              "   'class_name',\n",
              "   'close',\n",
              "   'compute_reward',\n",
              "   'env',\n",
              "   'metadata',\n",
              "   'observation_space',\n",
              "   'render',\n",
              "   'reset',\n",
              "   'reward_range',\n",
              "   'seed',\n",
              "   'spec',\n",
              "   'step',\n",
              "   'unwrapped'],\n",
              "  5: <bound method Wrapper.class_name of <class 'gym.wrappers.time_limit.TimeLimit'>>,\n",
              "  6: True,\n",
              "  7: True,\n",
              "  8: False,\n",
              "  9: False,\n",
              "  10: False,\n",
              "  11: <bound method Wrapper.class_name of <class 'gym.wrappers.time_limit.TimeLimit'>>,\n",
              "  12: \"<bound method Wrapper.class_name of <class 'gym.wrappers.time_limit.TimeLimit'>>\",\n",
              "  13: <bound method TimeLimit.step of <TimeLimit<MountainCarEnv<MountainCar-v0>>>>,\n",
              "  14: Discrete(3),\n",
              "  15: {...},\n",
              "  16: {...},\n",
              "  21: False,\n",
              "  22: 139816561372296},\n",
              " '_': 139816561372296,\n",
              " '_10': False,\n",
              " '_11': <bound method Wrapper.class_name of <class 'gym.wrappers.time_limit.TimeLimit'>>,\n",
              " '_12': \"<bound method Wrapper.class_name of <class 'gym.wrappers.time_limit.TimeLimit'>>\",\n",
              " '_13': <bound method TimeLimit.step of <TimeLimit<MountainCarEnv<MountainCar-v0>>>>,\n",
              " '_14': Discrete(3),\n",
              " '_15': {...},\n",
              " '_16': {...},\n",
              " '_21': False,\n",
              " '_22': 139816561372296,\n",
              " '_3': False,\n",
              " '_4': ['__class__',\n",
              "  '__delattr__',\n",
              "  '__dict__',\n",
              "  '__dir__',\n",
              "  '__doc__',\n",
              "  '__enter__',\n",
              "  '__eq__',\n",
              "  '__exit__',\n",
              "  '__format__',\n",
              "  '__ge__',\n",
              "  '__getattr__',\n",
              "  '__getattribute__',\n",
              "  '__gt__',\n",
              "  '__hash__',\n",
              "  '__init__',\n",
              "  '__init_subclass__',\n",
              "  '__le__',\n",
              "  '__lt__',\n",
              "  '__module__',\n",
              "  '__ne__',\n",
              "  '__new__',\n",
              "  '__reduce__',\n",
              "  '__reduce_ex__',\n",
              "  '__repr__',\n",
              "  '__setattr__',\n",
              "  '__sizeof__',\n",
              "  '__str__',\n",
              "  '__subclasshook__',\n",
              "  '__weakref__',\n",
              "  '_elapsed_steps',\n",
              "  '_max_episode_steps',\n",
              "  'action_space',\n",
              "  'class_name',\n",
              "  'close',\n",
              "  'compute_reward',\n",
              "  'env',\n",
              "  'metadata',\n",
              "  'observation_space',\n",
              "  'render',\n",
              "  'reset',\n",
              "  'reward_range',\n",
              "  'seed',\n",
              "  'spec',\n",
              "  'step',\n",
              "  'unwrapped'],\n",
              " '_5': <bound method Wrapper.class_name of <class 'gym.wrappers.time_limit.TimeLimit'>>,\n",
              " '_6': True,\n",
              " '_7': True,\n",
              " '_8': False,\n",
              " '_9': False,\n",
              " '__': False,\n",
              " '___': {...},\n",
              " '__builtin__': <module 'builtins' (built-in)>,\n",
              " '__builtins__': <module 'builtins' (built-in)>,\n",
              " '__doc__': 'Automatically created module for IPython interactive environment',\n",
              " '__loader__': None,\n",
              " '__name__': '__main__',\n",
              " '__package__': None,\n",
              " '__spec__': None,\n",
              " '_dh': ['/content'],\n",
              " '_i': 'id(env)',\n",
              " '_i1': 'import gym\\n\\nenv = gym.make(\"MountainCar-v0\")',\n",
              " '_i10': 'callable(env.action_space)',\n",
              " '_i11': 'env.class_name',\n",
              " '_i12': 'str(env.class_name)',\n",
              " '_i13': \"getattr(env,'step')\",\n",
              " '_i14': \"getattr(env,'action_space')\",\n",
              " '_i15': 'globals()',\n",
              " '_i16': 'locals()',\n",
              " '_i17': 'if True:\\n  locals()',\n",
              " '_i18': 'if True:\\n  a = 10\\n  locals()',\n",
              " '_i19': 'if True:\\n  a = 10\\n  print(locals())',\n",
              " '_i2': 'import gym\\n\\nenv = gym.make(\"MountainCar-v0\")',\n",
              " '_i20': \"getattr(env,'bad_function_name')\",\n",
              " '_i21': \"hasattr(env,'bad_function_name')\",\n",
              " '_i22': 'id(env)',\n",
              " '_i23': 'locals()',\n",
              " '_i3': 'callable(env)',\n",
              " '_i4': 'dir(env)',\n",
              " '_i5': 'env.class_name',\n",
              " '_i6': 'callable(env.class_name)',\n",
              " '_i7': 'callable(env.seed)',\n",
              " '_i8': 'callable(1)',\n",
              " '_i9': 'callable(\"test\")',\n",
              " '_ih': ['',\n",
              "  'import gym\\n\\nenv = gym.make(\"MountainCar-v0\")',\n",
              "  'import gym\\n\\nenv = gym.make(\"MountainCar-v0\")',\n",
              "  'callable(env)',\n",
              "  'dir(env)',\n",
              "  'env.class_name',\n",
              "  'callable(env.class_name)',\n",
              "  'callable(env.seed)',\n",
              "  'callable(1)',\n",
              "  'a = \\ncallable(\"test\")',\n",
              "  'callable(\"test\")',\n",
              "  'callable(env.action_space)',\n",
              "  'env.class_name',\n",
              "  'str(env.class_name)',\n",
              "  \"getattr(env,'step')\",\n",
              "  \"getattr(env,'action_space')\",\n",
              "  'globals()',\n",
              "  'locals()',\n",
              "  'if True:\\n  locals()',\n",
              "  'if True:\\n  a = 10\\n  locals()',\n",
              "  'if True:\\n  a = 10\\n  print(locals())',\n",
              "  \"getattr(env,'bad_function_name')\",\n",
              "  \"hasattr(env,'bad_function_name')\",\n",
              "  'id(env)',\n",
              "  'locals()'],\n",
              " '_ii': \"hasattr(env,'bad_function_name')\",\n",
              " '_iii': \"getattr(env,'bad_function_name')\",\n",
              " '_oh': {3: False,\n",
              "  4: ['__class__',\n",
              "   '__delattr__',\n",
              "   '__dict__',\n",
              "   '__dir__',\n",
              "   '__doc__',\n",
              "   '__enter__',\n",
              "   '__eq__',\n",
              "   '__exit__',\n",
              "   '__format__',\n",
              "   '__ge__',\n",
              "   '__getattr__',\n",
              "   '__getattribute__',\n",
              "   '__gt__',\n",
              "   '__hash__',\n",
              "   '__init__',\n",
              "   '__init_subclass__',\n",
              "   '__le__',\n",
              "   '__lt__',\n",
              "   '__module__',\n",
              "   '__ne__',\n",
              "   '__new__',\n",
              "   '__reduce__',\n",
              "   '__reduce_ex__',\n",
              "   '__repr__',\n",
              "   '__setattr__',\n",
              "   '__sizeof__',\n",
              "   '__str__',\n",
              "   '__subclasshook__',\n",
              "   '__weakref__',\n",
              "   '_elapsed_steps',\n",
              "   '_max_episode_steps',\n",
              "   'action_space',\n",
              "   'class_name',\n",
              "   'close',\n",
              "   'compute_reward',\n",
              "   'env',\n",
              "   'metadata',\n",
              "   'observation_space',\n",
              "   'render',\n",
              "   'reset',\n",
              "   'reward_range',\n",
              "   'seed',\n",
              "   'spec',\n",
              "   'step',\n",
              "   'unwrapped'],\n",
              "  5: <bound method Wrapper.class_name of <class 'gym.wrappers.time_limit.TimeLimit'>>,\n",
              "  6: True,\n",
              "  7: True,\n",
              "  8: False,\n",
              "  9: False,\n",
              "  10: False,\n",
              "  11: <bound method Wrapper.class_name of <class 'gym.wrappers.time_limit.TimeLimit'>>,\n",
              "  12: \"<bound method Wrapper.class_name of <class 'gym.wrappers.time_limit.TimeLimit'>>\",\n",
              "  13: <bound method TimeLimit.step of <TimeLimit<MountainCarEnv<MountainCar-v0>>>>,\n",
              "  14: Discrete(3),\n",
              "  15: {...},\n",
              "  16: {...},\n",
              "  21: False,\n",
              "  22: 139816561372296},\n",
              " '_sh': <module 'IPython.core.shadowns' from '/usr/local/lib/python3.6/dist-packages/IPython/core/shadowns.py'>,\n",
              " 'a': 10,\n",
              " 'env': <TimeLimit<MountainCarEnv<MountainCar-v0>>>,\n",
              " 'exit': <IPython.core.autocall.ZMQExitAutocall at 0x7f29a1239390>,\n",
              " 'get_ipython': <bound method InteractiveShell.get_ipython of <google.colab._shell.Shell object at 0x7f29a146e940>>,\n",
              " 'gym': <module 'gym' from '/usr/local/lib/python3.6/dist-packages/gym/__init__.py'>,\n",
              " 'quit': <IPython.core.autocall.ZMQExitAutocall at 0x7f29a1239390>}"
            ]
          },
          "metadata": {
            "tags": []
          },
          "execution_count": 23
        }
      ]
    },
    {
      "cell_type": "code",
      "metadata": {
        "id": "iU-5Is4_tE5H",
        "colab_type": "code",
        "colab": {
          "base_uri": "https://localhost:8080/",
          "height": 35
        },
        "outputId": "53998a39-9a87-4e15-8944-877c18e1bb32"
      },
      "source": [
        "def my_function():\n",
        "  my_local = 10\n",
        "  print(locals())\n",
        "\n",
        "my_function()"
      ],
      "execution_count": 25,
      "outputs": [
        {
          "output_type": "stream",
          "text": [
            "{'my_local': 10}\n"
          ],
          "name": "stdout"
        }
      ]
    },
    {
      "cell_type": "markdown",
      "metadata": {
        "id": "bidQ0MoHyow0",
        "colab_type": "text"
      },
      "source": [
        "# Using Type\n",
        "\n",
        "The *type* function tells you the type of any Python object."
      ]
    },
    {
      "cell_type": "code",
      "metadata": {
        "id": "TmoaMuRMsnbf",
        "colab_type": "code",
        "colab": {
          "base_uri": "https://localhost:8080/",
          "height": 35
        },
        "outputId": "2755daff-a1fe-4113-f648-77a6348b9283"
      },
      "source": [
        "type(env)"
      ],
      "execution_count": 24,
      "outputs": [
        {
          "output_type": "execute_result",
          "data": {
            "text/plain": [
              "gym.wrappers.time_limit.TimeLimit"
            ]
          },
          "metadata": {
            "tags": []
          },
          "execution_count": 24
        }
      ]
    },
    {
      "cell_type": "markdown",
      "metadata": {
        "id": "yU2QmSzwzfLQ",
        "colab_type": "text"
      },
      "source": [
        "# Investigating Gym\n",
        "\n",
        "```\n",
        " '_elapsed_steps',\n",
        " '_max_episode_steps',\n",
        " 'action_space',\n",
        " 'class_name',\n",
        " 'close',\n",
        " 'compute_reward',\n",
        " 'env',\n",
        " 'metadata',\n",
        " 'observation_space',\n",
        " 'render',\n",
        " 'reset',\n",
        " 'reward_range',\n",
        " 'seed',\n",
        " 'spec',\n",
        " 'step',\n",
        " 'unwrapped']\n",
        " ```"
      ]
    },
    {
      "cell_type": "code",
      "metadata": {
        "id": "xOkZ3Oam1oSa",
        "colab_type": "code",
        "colab": {
          "base_uri": "https://localhost:8080/",
          "height": 35
        },
        "outputId": "1b82a41e-2e5e-443b-e0af-57184ba97a6b"
      },
      "source": [
        "spec = gym.spec(\"MountainCar-v0\")\n",
        "print(spec.max_episode_steps)"
      ],
      "execution_count": 34,
      "outputs": [
        {
          "output_type": "stream",
          "text": [
            "200\n"
          ],
          "name": "stdout"
        }
      ]
    }
  ]
}