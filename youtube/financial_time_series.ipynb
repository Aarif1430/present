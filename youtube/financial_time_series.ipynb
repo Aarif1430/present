{
 "cells": [
  {
   "cell_type": "markdown",
   "metadata": {},
   "source": [
    "The data used for this example comes from [TickData](https://www.tickdata.com).  You can find their [sample data here](https://www.tickdata.com/tooltip/sample-data/)."
   ]
  },
  {
   "cell_type": "code",
   "execution_count": 1,
   "metadata": {},
   "outputs": [],
   "source": [
    "import pandas as pd\n",
    "\n",
    "df = pd.read_csv(\"/Users/jheaton/Downloads/SampleEquityData_US/Trades/14081.csv\",\n",
    "                header = None)\n"
   ]
  },
  {
   "cell_type": "code",
   "execution_count": 2,
   "metadata": {},
   "outputs": [],
   "source": [
    "df.dtypes\n",
    "df.columns = ['date','time','price','size',\n",
    "                \"exchange_code\",\n",
    "                \"sales_condition\",\n",
    "                \"correction_indicator\",\n",
    "                \"sequence_number\",\n",
    "                \"trade_stop_indicator\",\n",
    "                \"trade_source\",\n",
    "                \"trf\",\n",
    "                \"exclude_record_flag\",\n",
    "                \"filtered_price\"]"
   ]
  },
  {
   "cell_type": "code",
   "execution_count": 3,
   "metadata": {},
   "outputs": [],
   "source": [
    "df.drop(\"exchange_code\", axis=1, inplace=True)\n",
    "df.drop(\"sales_condition\", axis=1, inplace=True)\n",
    "df.drop(\"correction_indicator\", axis=1, inplace=True)\n",
    "df.drop(\"sequence_number\", axis=1, inplace=True)\n",
    "df.drop(\"trade_stop_indicator\", axis=1, inplace=True)\n",
    "df.drop(\"trade_source\", axis=1, inplace=True)\n",
    "df.drop(\"trf\", axis=1, inplace=True)\n",
    "df.drop(\"exclude_record_flag\", axis=1, inplace=True)\n",
    "df.drop(\"filtered_price\", axis=1, inplace=True)"
   ]
  },
  {
   "cell_type": "code",
   "execution_count": 4,
   "metadata": {},
   "outputs": [
    {
     "data": {
      "text/html": [
       "<div>\n",
       "<style scoped>\n",
       "    .dataframe tbody tr th:only-of-type {\n",
       "        vertical-align: middle;\n",
       "    }\n",
       "\n",
       "    .dataframe tbody tr th {\n",
       "        vertical-align: top;\n",
       "    }\n",
       "\n",
       "    .dataframe thead th {\n",
       "        text-align: right;\n",
       "    }\n",
       "</style>\n",
       "<table border=\"1\" class=\"dataframe\">\n",
       "  <thead>\n",
       "    <tr style=\"text-align: right;\">\n",
       "      <th></th>\n",
       "      <th>date</th>\n",
       "      <th>time</th>\n",
       "      <th>price</th>\n",
       "      <th>size</th>\n",
       "    </tr>\n",
       "  </thead>\n",
       "  <tbody>\n",
       "    <tr>\n",
       "      <td>0</td>\n",
       "      <td>03/03/2014</td>\n",
       "      <td>08:36:36.814</td>\n",
       "      <td>43.90</td>\n",
       "      <td>3300</td>\n",
       "    </tr>\n",
       "    <tr>\n",
       "      <td>1</td>\n",
       "      <td>03/03/2014</td>\n",
       "      <td>09:30:02.381</td>\n",
       "      <td>43.40</td>\n",
       "      <td>4173</td>\n",
       "    </tr>\n",
       "    <tr>\n",
       "      <td>2</td>\n",
       "      <td>03/03/2014</td>\n",
       "      <td>09:30:02.749</td>\n",
       "      <td>43.39</td>\n",
       "      <td>200</td>\n",
       "    </tr>\n",
       "    <tr>\n",
       "      <td>3</td>\n",
       "      <td>03/03/2014</td>\n",
       "      <td>09:30:04.894</td>\n",
       "      <td>43.40</td>\n",
       "      <td>55</td>\n",
       "    </tr>\n",
       "    <tr>\n",
       "      <td>4</td>\n",
       "      <td>03/03/2014</td>\n",
       "      <td>09:30:04.897</td>\n",
       "      <td>43.40</td>\n",
       "      <td>110</td>\n",
       "    </tr>\n",
       "  </tbody>\n",
       "</table>\n",
       "</div>"
      ],
      "text/plain": [
       "         date          time  price  size\n",
       "0  03/03/2014  08:36:36.814  43.90  3300\n",
       "1  03/03/2014  09:30:02.381  43.40  4173\n",
       "2  03/03/2014  09:30:02.749  43.39   200\n",
       "3  03/03/2014  09:30:04.894  43.40    55\n",
       "4  03/03/2014  09:30:04.897  43.40   110"
      ]
     },
     "execution_count": 4,
     "metadata": {},
     "output_type": "execute_result"
    }
   ],
   "source": [
    "df.head()"
   ]
  },
  {
   "cell_type": "code",
   "execution_count": 5,
   "metadata": {},
   "outputs": [],
   "source": [
    "df.insert(0,\"timestamp\", pd.to_datetime(df['date'] + ' ' + df['time']))\n",
    "df.drop(\"date\", axis=1, inplace=True)\n",
    "df.drop(\"time\", axis=1, inplace=True)"
   ]
  },
  {
   "cell_type": "code",
   "execution_count": 6,
   "metadata": {},
   "outputs": [],
   "source": [
    "df.set_index(\"timestamp\",inplace=True)"
   ]
  },
  {
   "cell_type": "code",
   "execution_count": 10,
   "metadata": {},
   "outputs": [
    {
     "data": {
      "text/html": [
       "<div>\n",
       "<style scoped>\n",
       "    .dataframe tbody tr th:only-of-type {\n",
       "        vertical-align: middle;\n",
       "    }\n",
       "\n",
       "    .dataframe tbody tr th {\n",
       "        vertical-align: top;\n",
       "    }\n",
       "\n",
       "    .dataframe thead th {\n",
       "        text-align: right;\n",
       "    }\n",
       "</style>\n",
       "<table border=\"1\" class=\"dataframe\">\n",
       "  <thead>\n",
       "    <tr style=\"text-align: right;\">\n",
       "      <th></th>\n",
       "      <th>open</th>\n",
       "      <th>high</th>\n",
       "      <th>low</th>\n",
       "      <th>close</th>\n",
       "    </tr>\n",
       "    <tr>\n",
       "      <th>timestamp</th>\n",
       "      <th></th>\n",
       "      <th></th>\n",
       "      <th></th>\n",
       "      <th></th>\n",
       "    </tr>\n",
       "  </thead>\n",
       "  <tbody>\n",
       "    <tr>\n",
       "      <td>2014-03-03 08:00:00</td>\n",
       "      <td>43.90</td>\n",
       "      <td>43.9000</td>\n",
       "      <td>43.900</td>\n",
       "      <td>43.9000</td>\n",
       "    </tr>\n",
       "    <tr>\n",
       "      <td>2014-03-03 09:00:00</td>\n",
       "      <td>43.40</td>\n",
       "      <td>43.4100</td>\n",
       "      <td>43.044</td>\n",
       "      <td>43.1000</td>\n",
       "    </tr>\n",
       "    <tr>\n",
       "      <td>2014-03-03 10:00:00</td>\n",
       "      <td>43.14</td>\n",
       "      <td>43.3700</td>\n",
       "      <td>43.110</td>\n",
       "      <td>43.2000</td>\n",
       "    </tr>\n",
       "    <tr>\n",
       "      <td>2014-03-03 11:00:00</td>\n",
       "      <td>43.19</td>\n",
       "      <td>43.2000</td>\n",
       "      <td>42.930</td>\n",
       "      <td>42.9500</td>\n",
       "    </tr>\n",
       "    <tr>\n",
       "      <td>2014-03-03 12:00:00</td>\n",
       "      <td>42.95</td>\n",
       "      <td>43.0600</td>\n",
       "      <td>42.910</td>\n",
       "      <td>42.9900</td>\n",
       "    </tr>\n",
       "    <tr>\n",
       "      <td>2014-03-03 13:00:00</td>\n",
       "      <td>42.99</td>\n",
       "      <td>43.0900</td>\n",
       "      <td>42.970</td>\n",
       "      <td>43.0100</td>\n",
       "    </tr>\n",
       "    <tr>\n",
       "      <td>2014-03-03 14:00:00</td>\n",
       "      <td>43.02</td>\n",
       "      <td>43.0800</td>\n",
       "      <td>42.950</td>\n",
       "      <td>42.9600</td>\n",
       "    </tr>\n",
       "    <tr>\n",
       "      <td>2014-03-03 15:00:00</td>\n",
       "      <td>42.96</td>\n",
       "      <td>43.0000</td>\n",
       "      <td>42.740</td>\n",
       "      <td>42.7900</td>\n",
       "    </tr>\n",
       "    <tr>\n",
       "      <td>2014-03-03 16:00:00</td>\n",
       "      <td>42.79</td>\n",
       "      <td>42.8100</td>\n",
       "      <td>42.790</td>\n",
       "      <td>42.8100</td>\n",
       "    </tr>\n",
       "    <tr>\n",
       "      <td>2014-03-03 17:00:00</td>\n",
       "      <td>NaN</td>\n",
       "      <td>NaN</td>\n",
       "      <td>NaN</td>\n",
       "      <td>NaN</td>\n",
       "    </tr>\n",
       "    <tr>\n",
       "      <td>2014-03-03 18:00:00</td>\n",
       "      <td>NaN</td>\n",
       "      <td>NaN</td>\n",
       "      <td>NaN</td>\n",
       "      <td>NaN</td>\n",
       "    </tr>\n",
       "    <tr>\n",
       "      <td>2014-03-03 19:00:00</td>\n",
       "      <td>NaN</td>\n",
       "      <td>NaN</td>\n",
       "      <td>NaN</td>\n",
       "      <td>NaN</td>\n",
       "    </tr>\n",
       "    <tr>\n",
       "      <td>2014-03-03 20:00:00</td>\n",
       "      <td>NaN</td>\n",
       "      <td>NaN</td>\n",
       "      <td>NaN</td>\n",
       "      <td>NaN</td>\n",
       "    </tr>\n",
       "    <tr>\n",
       "      <td>2014-03-03 21:00:00</td>\n",
       "      <td>NaN</td>\n",
       "      <td>NaN</td>\n",
       "      <td>NaN</td>\n",
       "      <td>NaN</td>\n",
       "    </tr>\n",
       "    <tr>\n",
       "      <td>2014-03-03 22:00:00</td>\n",
       "      <td>NaN</td>\n",
       "      <td>NaN</td>\n",
       "      <td>NaN</td>\n",
       "      <td>NaN</td>\n",
       "    </tr>\n",
       "    <tr>\n",
       "      <td>2014-03-03 23:00:00</td>\n",
       "      <td>NaN</td>\n",
       "      <td>NaN</td>\n",
       "      <td>NaN</td>\n",
       "      <td>NaN</td>\n",
       "    </tr>\n",
       "    <tr>\n",
       "      <td>2014-03-04 00:00:00</td>\n",
       "      <td>NaN</td>\n",
       "      <td>NaN</td>\n",
       "      <td>NaN</td>\n",
       "      <td>NaN</td>\n",
       "    </tr>\n",
       "    <tr>\n",
       "      <td>2014-03-04 01:00:00</td>\n",
       "      <td>NaN</td>\n",
       "      <td>NaN</td>\n",
       "      <td>NaN</td>\n",
       "      <td>NaN</td>\n",
       "    </tr>\n",
       "    <tr>\n",
       "      <td>2014-03-04 02:00:00</td>\n",
       "      <td>NaN</td>\n",
       "      <td>NaN</td>\n",
       "      <td>NaN</td>\n",
       "      <td>NaN</td>\n",
       "    </tr>\n",
       "    <tr>\n",
       "      <td>2014-03-04 03:00:00</td>\n",
       "      <td>NaN</td>\n",
       "      <td>NaN</td>\n",
       "      <td>NaN</td>\n",
       "      <td>NaN</td>\n",
       "    </tr>\n",
       "    <tr>\n",
       "      <td>2014-03-04 04:00:00</td>\n",
       "      <td>NaN</td>\n",
       "      <td>NaN</td>\n",
       "      <td>NaN</td>\n",
       "      <td>NaN</td>\n",
       "    </tr>\n",
       "    <tr>\n",
       "      <td>2014-03-04 05:00:00</td>\n",
       "      <td>NaN</td>\n",
       "      <td>NaN</td>\n",
       "      <td>NaN</td>\n",
       "      <td>NaN</td>\n",
       "    </tr>\n",
       "    <tr>\n",
       "      <td>2014-03-04 06:00:00</td>\n",
       "      <td>NaN</td>\n",
       "      <td>NaN</td>\n",
       "      <td>NaN</td>\n",
       "      <td>NaN</td>\n",
       "    </tr>\n",
       "    <tr>\n",
       "      <td>2014-03-04 07:00:00</td>\n",
       "      <td>NaN</td>\n",
       "      <td>NaN</td>\n",
       "      <td>NaN</td>\n",
       "      <td>NaN</td>\n",
       "    </tr>\n",
       "    <tr>\n",
       "      <td>2014-03-04 08:00:00</td>\n",
       "      <td>NaN</td>\n",
       "      <td>NaN</td>\n",
       "      <td>NaN</td>\n",
       "      <td>NaN</td>\n",
       "    </tr>\n",
       "    <tr>\n",
       "      <td>2014-03-04 09:00:00</td>\n",
       "      <td>43.40</td>\n",
       "      <td>43.6400</td>\n",
       "      <td>43.200</td>\n",
       "      <td>43.6200</td>\n",
       "    </tr>\n",
       "    <tr>\n",
       "      <td>2014-03-04 10:00:00</td>\n",
       "      <td>43.64</td>\n",
       "      <td>43.8700</td>\n",
       "      <td>43.530</td>\n",
       "      <td>43.8500</td>\n",
       "    </tr>\n",
       "    <tr>\n",
       "      <td>2014-03-04 11:00:00</td>\n",
       "      <td>43.85</td>\n",
       "      <td>43.8500</td>\n",
       "      <td>43.630</td>\n",
       "      <td>43.7700</td>\n",
       "    </tr>\n",
       "    <tr>\n",
       "      <td>2014-03-04 12:00:00</td>\n",
       "      <td>43.77</td>\n",
       "      <td>43.9600</td>\n",
       "      <td>43.670</td>\n",
       "      <td>43.7100</td>\n",
       "    </tr>\n",
       "    <tr>\n",
       "      <td>2014-03-04 13:00:00</td>\n",
       "      <td>43.71</td>\n",
       "      <td>43.7900</td>\n",
       "      <td>43.540</td>\n",
       "      <td>43.5500</td>\n",
       "    </tr>\n",
       "    <tr>\n",
       "      <td>2014-03-04 14:00:00</td>\n",
       "      <td>43.54</td>\n",
       "      <td>43.6800</td>\n",
       "      <td>43.450</td>\n",
       "      <td>43.5600</td>\n",
       "    </tr>\n",
       "    <tr>\n",
       "      <td>2014-03-04 15:00:00</td>\n",
       "      <td>43.56</td>\n",
       "      <td>43.6350</td>\n",
       "      <td>43.480</td>\n",
       "      <td>43.5200</td>\n",
       "    </tr>\n",
       "    <tr>\n",
       "      <td>2014-03-04 16:00:00</td>\n",
       "      <td>43.52</td>\n",
       "      <td>43.6366</td>\n",
       "      <td>43.520</td>\n",
       "      <td>43.5200</td>\n",
       "    </tr>\n",
       "    <tr>\n",
       "      <td>2014-03-04 17:00:00</td>\n",
       "      <td>NaN</td>\n",
       "      <td>NaN</td>\n",
       "      <td>NaN</td>\n",
       "      <td>NaN</td>\n",
       "    </tr>\n",
       "    <tr>\n",
       "      <td>2014-03-04 18:00:00</td>\n",
       "      <td>NaN</td>\n",
       "      <td>NaN</td>\n",
       "      <td>NaN</td>\n",
       "      <td>NaN</td>\n",
       "    </tr>\n",
       "    <tr>\n",
       "      <td>2014-03-04 19:00:00</td>\n",
       "      <td>NaN</td>\n",
       "      <td>NaN</td>\n",
       "      <td>NaN</td>\n",
       "      <td>NaN</td>\n",
       "    </tr>\n",
       "    <tr>\n",
       "      <td>2014-03-04 20:00:00</td>\n",
       "      <td>NaN</td>\n",
       "      <td>NaN</td>\n",
       "      <td>NaN</td>\n",
       "      <td>NaN</td>\n",
       "    </tr>\n",
       "    <tr>\n",
       "      <td>2014-03-04 21:00:00</td>\n",
       "      <td>NaN</td>\n",
       "      <td>NaN</td>\n",
       "      <td>NaN</td>\n",
       "      <td>NaN</td>\n",
       "    </tr>\n",
       "    <tr>\n",
       "      <td>2014-03-04 22:00:00</td>\n",
       "      <td>NaN</td>\n",
       "      <td>NaN</td>\n",
       "      <td>NaN</td>\n",
       "      <td>NaN</td>\n",
       "    </tr>\n",
       "    <tr>\n",
       "      <td>2014-03-04 23:00:00</td>\n",
       "      <td>NaN</td>\n",
       "      <td>NaN</td>\n",
       "      <td>NaN</td>\n",
       "      <td>NaN</td>\n",
       "    </tr>\n",
       "    <tr>\n",
       "      <td>2014-03-05 00:00:00</td>\n",
       "      <td>NaN</td>\n",
       "      <td>NaN</td>\n",
       "      <td>NaN</td>\n",
       "      <td>NaN</td>\n",
       "    </tr>\n",
       "    <tr>\n",
       "      <td>2014-03-05 01:00:00</td>\n",
       "      <td>NaN</td>\n",
       "      <td>NaN</td>\n",
       "      <td>NaN</td>\n",
       "      <td>NaN</td>\n",
       "    </tr>\n",
       "    <tr>\n",
       "      <td>2014-03-05 02:00:00</td>\n",
       "      <td>NaN</td>\n",
       "      <td>NaN</td>\n",
       "      <td>NaN</td>\n",
       "      <td>NaN</td>\n",
       "    </tr>\n",
       "    <tr>\n",
       "      <td>2014-03-05 03:00:00</td>\n",
       "      <td>NaN</td>\n",
       "      <td>NaN</td>\n",
       "      <td>NaN</td>\n",
       "      <td>NaN</td>\n",
       "    </tr>\n",
       "    <tr>\n",
       "      <td>2014-03-05 04:00:00</td>\n",
       "      <td>NaN</td>\n",
       "      <td>NaN</td>\n",
       "      <td>NaN</td>\n",
       "      <td>NaN</td>\n",
       "    </tr>\n",
       "    <tr>\n",
       "      <td>2014-03-05 05:00:00</td>\n",
       "      <td>NaN</td>\n",
       "      <td>NaN</td>\n",
       "      <td>NaN</td>\n",
       "      <td>NaN</td>\n",
       "    </tr>\n",
       "    <tr>\n",
       "      <td>2014-03-05 06:00:00</td>\n",
       "      <td>NaN</td>\n",
       "      <td>NaN</td>\n",
       "      <td>NaN</td>\n",
       "      <td>NaN</td>\n",
       "    </tr>\n",
       "    <tr>\n",
       "      <td>2014-03-05 07:00:00</td>\n",
       "      <td>NaN</td>\n",
       "      <td>NaN</td>\n",
       "      <td>NaN</td>\n",
       "      <td>NaN</td>\n",
       "    </tr>\n",
       "    <tr>\n",
       "      <td>2014-03-05 08:00:00</td>\n",
       "      <td>NaN</td>\n",
       "      <td>NaN</td>\n",
       "      <td>NaN</td>\n",
       "      <td>NaN</td>\n",
       "    </tr>\n",
       "    <tr>\n",
       "      <td>2014-03-05 09:00:00</td>\n",
       "      <td>43.58</td>\n",
       "      <td>43.7000</td>\n",
       "      <td>43.400</td>\n",
       "      <td>43.5600</td>\n",
       "    </tr>\n",
       "    <tr>\n",
       "      <td>2014-03-05 10:00:00</td>\n",
       "      <td>43.54</td>\n",
       "      <td>43.6800</td>\n",
       "      <td>43.480</td>\n",
       "      <td>43.4800</td>\n",
       "    </tr>\n",
       "    <tr>\n",
       "      <td>2014-03-05 11:00:00</td>\n",
       "      <td>43.48</td>\n",
       "      <td>43.5500</td>\n",
       "      <td>43.360</td>\n",
       "      <td>43.3800</td>\n",
       "    </tr>\n",
       "    <tr>\n",
       "      <td>2014-03-05 12:00:00</td>\n",
       "      <td>43.38</td>\n",
       "      <td>43.4900</td>\n",
       "      <td>43.380</td>\n",
       "      <td>43.4538</td>\n",
       "    </tr>\n",
       "    <tr>\n",
       "      <td>2014-03-05 13:00:00</td>\n",
       "      <td>43.48</td>\n",
       "      <td>43.5000</td>\n",
       "      <td>43.260</td>\n",
       "      <td>43.3200</td>\n",
       "    </tr>\n",
       "    <tr>\n",
       "      <td>2014-03-05 14:00:00</td>\n",
       "      <td>43.31</td>\n",
       "      <td>43.4100</td>\n",
       "      <td>43.240</td>\n",
       "      <td>43.3940</td>\n",
       "    </tr>\n",
       "    <tr>\n",
       "      <td>2014-03-05 15:00:00</td>\n",
       "      <td>43.40</td>\n",
       "      <td>43.4200</td>\n",
       "      <td>43.290</td>\n",
       "      <td>43.3600</td>\n",
       "    </tr>\n",
       "    <tr>\n",
       "      <td>2014-03-05 16:00:00</td>\n",
       "      <td>43.36</td>\n",
       "      <td>43.3700</td>\n",
       "      <td>43.360</td>\n",
       "      <td>43.3600</td>\n",
       "    </tr>\n",
       "  </tbody>\n",
       "</table>\n",
       "</div>"
      ],
      "text/plain": [
       "                      open     high     low    close\n",
       "timestamp                                           \n",
       "2014-03-03 08:00:00  43.90  43.9000  43.900  43.9000\n",
       "2014-03-03 09:00:00  43.40  43.4100  43.044  43.1000\n",
       "2014-03-03 10:00:00  43.14  43.3700  43.110  43.2000\n",
       "2014-03-03 11:00:00  43.19  43.2000  42.930  42.9500\n",
       "2014-03-03 12:00:00  42.95  43.0600  42.910  42.9900\n",
       "2014-03-03 13:00:00  42.99  43.0900  42.970  43.0100\n",
       "2014-03-03 14:00:00  43.02  43.0800  42.950  42.9600\n",
       "2014-03-03 15:00:00  42.96  43.0000  42.740  42.7900\n",
       "2014-03-03 16:00:00  42.79  42.8100  42.790  42.8100\n",
       "2014-03-03 17:00:00    NaN      NaN     NaN      NaN\n",
       "2014-03-03 18:00:00    NaN      NaN     NaN      NaN\n",
       "2014-03-03 19:00:00    NaN      NaN     NaN      NaN\n",
       "2014-03-03 20:00:00    NaN      NaN     NaN      NaN\n",
       "2014-03-03 21:00:00    NaN      NaN     NaN      NaN\n",
       "2014-03-03 22:00:00    NaN      NaN     NaN      NaN\n",
       "2014-03-03 23:00:00    NaN      NaN     NaN      NaN\n",
       "2014-03-04 00:00:00    NaN      NaN     NaN      NaN\n",
       "2014-03-04 01:00:00    NaN      NaN     NaN      NaN\n",
       "2014-03-04 02:00:00    NaN      NaN     NaN      NaN\n",
       "2014-03-04 03:00:00    NaN      NaN     NaN      NaN\n",
       "2014-03-04 04:00:00    NaN      NaN     NaN      NaN\n",
       "2014-03-04 05:00:00    NaN      NaN     NaN      NaN\n",
       "2014-03-04 06:00:00    NaN      NaN     NaN      NaN\n",
       "2014-03-04 07:00:00    NaN      NaN     NaN      NaN\n",
       "2014-03-04 08:00:00    NaN      NaN     NaN      NaN\n",
       "2014-03-04 09:00:00  43.40  43.6400  43.200  43.6200\n",
       "2014-03-04 10:00:00  43.64  43.8700  43.530  43.8500\n",
       "2014-03-04 11:00:00  43.85  43.8500  43.630  43.7700\n",
       "2014-03-04 12:00:00  43.77  43.9600  43.670  43.7100\n",
       "2014-03-04 13:00:00  43.71  43.7900  43.540  43.5500\n",
       "2014-03-04 14:00:00  43.54  43.6800  43.450  43.5600\n",
       "2014-03-04 15:00:00  43.56  43.6350  43.480  43.5200\n",
       "2014-03-04 16:00:00  43.52  43.6366  43.520  43.5200\n",
       "2014-03-04 17:00:00    NaN      NaN     NaN      NaN\n",
       "2014-03-04 18:00:00    NaN      NaN     NaN      NaN\n",
       "2014-03-04 19:00:00    NaN      NaN     NaN      NaN\n",
       "2014-03-04 20:00:00    NaN      NaN     NaN      NaN\n",
       "2014-03-04 21:00:00    NaN      NaN     NaN      NaN\n",
       "2014-03-04 22:00:00    NaN      NaN     NaN      NaN\n",
       "2014-03-04 23:00:00    NaN      NaN     NaN      NaN\n",
       "2014-03-05 00:00:00    NaN      NaN     NaN      NaN\n",
       "2014-03-05 01:00:00    NaN      NaN     NaN      NaN\n",
       "2014-03-05 02:00:00    NaN      NaN     NaN      NaN\n",
       "2014-03-05 03:00:00    NaN      NaN     NaN      NaN\n",
       "2014-03-05 04:00:00    NaN      NaN     NaN      NaN\n",
       "2014-03-05 05:00:00    NaN      NaN     NaN      NaN\n",
       "2014-03-05 06:00:00    NaN      NaN     NaN      NaN\n",
       "2014-03-05 07:00:00    NaN      NaN     NaN      NaN\n",
       "2014-03-05 08:00:00    NaN      NaN     NaN      NaN\n",
       "2014-03-05 09:00:00  43.58  43.7000  43.400  43.5600\n",
       "2014-03-05 10:00:00  43.54  43.6800  43.480  43.4800\n",
       "2014-03-05 11:00:00  43.48  43.5500  43.360  43.3800\n",
       "2014-03-05 12:00:00  43.38  43.4900  43.380  43.4538\n",
       "2014-03-05 13:00:00  43.48  43.5000  43.260  43.3200\n",
       "2014-03-05 14:00:00  43.31  43.4100  43.240  43.3940\n",
       "2014-03-05 15:00:00  43.40  43.4200  43.290  43.3600\n",
       "2014-03-05 16:00:00  43.36  43.3700  43.360  43.3600"
      ]
     },
     "execution_count": 10,
     "metadata": {},
     "output_type": "execute_result"
    }
   ],
   "source": [
    "df2 = df['price'].resample('1H').ohlc()\n",
    "#df2 = df2.asfreq('D')\n",
    "#df2.to_csv(\"test.csv\")\n",
    "df2"
   ]
  },
  {
   "cell_type": "code",
   "execution_count": null,
   "metadata": {},
   "outputs": [],
   "source": [
    "df2"
   ]
  },
  {
   "cell_type": "code",
   "execution_count": 11,
   "metadata": {},
   "outputs": [
    {
     "data": {
      "application/vnd.plotly.v1+json": {
       "config": {
        "plotlyServerURL": "https://plot.ly"
       },
       "data": [
        {
         "close": [
          43.9,
          43.1,
          43.2,
          42.95,
          42.99,
          43.01,
          42.96,
          42.79,
          42.81,
          null,
          null,
          null,
          null,
          null,
          null,
          null,
          null,
          null,
          null,
          null,
          null,
          null,
          null,
          null,
          null,
          43.62,
          43.85,
          43.77,
          43.71,
          43.55,
          43.56,
          43.52,
          43.52,
          null,
          null,
          null,
          null,
          null,
          null,
          null,
          null,
          null,
          null,
          null,
          null,
          null,
          null,
          null,
          null,
          43.56,
          43.48,
          43.38,
          43.4538,
          43.32,
          43.394,
          43.36,
          43.36
         ],
         "high": [
          43.9,
          43.41,
          43.37,
          43.2,
          43.06,
          43.09,
          43.08,
          43,
          42.81,
          null,
          null,
          null,
          null,
          null,
          null,
          null,
          null,
          null,
          null,
          null,
          null,
          null,
          null,
          null,
          null,
          43.64,
          43.87,
          43.85,
          43.96,
          43.79,
          43.68,
          43.635,
          43.6366,
          null,
          null,
          null,
          null,
          null,
          null,
          null,
          null,
          null,
          null,
          null,
          null,
          null,
          null,
          null,
          null,
          43.7,
          43.68,
          43.55,
          43.49,
          43.5,
          43.41,
          43.42,
          43.37
         ],
         "low": [
          43.9,
          43.044,
          43.11,
          42.93,
          42.91,
          42.97,
          42.95,
          42.74,
          42.79,
          null,
          null,
          null,
          null,
          null,
          null,
          null,
          null,
          null,
          null,
          null,
          null,
          null,
          null,
          null,
          null,
          43.2,
          43.53,
          43.63,
          43.67,
          43.54,
          43.45,
          43.48,
          43.52,
          null,
          null,
          null,
          null,
          null,
          null,
          null,
          null,
          null,
          null,
          null,
          null,
          null,
          null,
          null,
          null,
          43.4,
          43.48,
          43.36,
          43.38,
          43.26,
          43.24,
          43.29,
          43.36
         ],
         "open": [
          43.9,
          43.4,
          43.14,
          43.19,
          42.95,
          42.99,
          43.02,
          42.96,
          42.79,
          null,
          null,
          null,
          null,
          null,
          null,
          null,
          null,
          null,
          null,
          null,
          null,
          null,
          null,
          null,
          null,
          43.4,
          43.64,
          43.85,
          43.77,
          43.71,
          43.54,
          43.56,
          43.52,
          null,
          null,
          null,
          null,
          null,
          null,
          null,
          null,
          null,
          null,
          null,
          null,
          null,
          null,
          null,
          null,
          43.58,
          43.54,
          43.48,
          43.38,
          43.48,
          43.31,
          43.4,
          43.36
         ],
         "type": "candlestick",
         "x": [
          "2014-03-03T08:00:00",
          "2014-03-03T09:00:00",
          "2014-03-03T10:00:00",
          "2014-03-03T11:00:00",
          "2014-03-03T12:00:00",
          "2014-03-03T13:00:00",
          "2014-03-03T14:00:00",
          "2014-03-03T15:00:00",
          "2014-03-03T16:00:00",
          "2014-03-03T17:00:00",
          "2014-03-03T18:00:00",
          "2014-03-03T19:00:00",
          "2014-03-03T20:00:00",
          "2014-03-03T21:00:00",
          "2014-03-03T22:00:00",
          "2014-03-03T23:00:00",
          "2014-03-04T00:00:00",
          "2014-03-04T01:00:00",
          "2014-03-04T02:00:00",
          "2014-03-04T03:00:00",
          "2014-03-04T04:00:00",
          "2014-03-04T05:00:00",
          "2014-03-04T06:00:00",
          "2014-03-04T07:00:00",
          "2014-03-04T08:00:00",
          "2014-03-04T09:00:00",
          "2014-03-04T10:00:00",
          "2014-03-04T11:00:00",
          "2014-03-04T12:00:00",
          "2014-03-04T13:00:00",
          "2014-03-04T14:00:00",
          "2014-03-04T15:00:00",
          "2014-03-04T16:00:00",
          "2014-03-04T17:00:00",
          "2014-03-04T18:00:00",
          "2014-03-04T19:00:00",
          "2014-03-04T20:00:00",
          "2014-03-04T21:00:00",
          "2014-03-04T22:00:00",
          "2014-03-04T23:00:00",
          "2014-03-05T00:00:00",
          "2014-03-05T01:00:00",
          "2014-03-05T02:00:00",
          "2014-03-05T03:00:00",
          "2014-03-05T04:00:00",
          "2014-03-05T05:00:00",
          "2014-03-05T06:00:00",
          "2014-03-05T07:00:00",
          "2014-03-05T08:00:00",
          "2014-03-05T09:00:00",
          "2014-03-05T10:00:00",
          "2014-03-05T11:00:00",
          "2014-03-05T12:00:00",
          "2014-03-05T13:00:00",
          "2014-03-05T14:00:00",
          "2014-03-05T15:00:00",
          "2014-03-05T16:00:00"
         ]
        }
       ],
       "layout": {
        "template": {
         "data": {
          "bar": [
           {
            "error_x": {
             "color": "#2a3f5f"
            },
            "error_y": {
             "color": "#2a3f5f"
            },
            "marker": {
             "line": {
              "color": "#E5ECF6",
              "width": 0.5
             }
            },
            "type": "bar"
           }
          ],
          "barpolar": [
           {
            "marker": {
             "line": {
              "color": "#E5ECF6",
              "width": 0.5
             }
            },
            "type": "barpolar"
           }
          ],
          "carpet": [
           {
            "aaxis": {
             "endlinecolor": "#2a3f5f",
             "gridcolor": "white",
             "linecolor": "white",
             "minorgridcolor": "white",
             "startlinecolor": "#2a3f5f"
            },
            "baxis": {
             "endlinecolor": "#2a3f5f",
             "gridcolor": "white",
             "linecolor": "white",
             "minorgridcolor": "white",
             "startlinecolor": "#2a3f5f"
            },
            "type": "carpet"
           }
          ],
          "choropleth": [
           {
            "colorbar": {
             "outlinewidth": 0,
             "ticks": ""
            },
            "type": "choropleth"
           }
          ],
          "contour": [
           {
            "colorbar": {
             "outlinewidth": 0,
             "ticks": ""
            },
            "colorscale": [
             [
              0,
              "#0d0887"
             ],
             [
              0.1111111111111111,
              "#46039f"
             ],
             [
              0.2222222222222222,
              "#7201a8"
             ],
             [
              0.3333333333333333,
              "#9c179e"
             ],
             [
              0.4444444444444444,
              "#bd3786"
             ],
             [
              0.5555555555555556,
              "#d8576b"
             ],
             [
              0.6666666666666666,
              "#ed7953"
             ],
             [
              0.7777777777777778,
              "#fb9f3a"
             ],
             [
              0.8888888888888888,
              "#fdca26"
             ],
             [
              1,
              "#f0f921"
             ]
            ],
            "type": "contour"
           }
          ],
          "contourcarpet": [
           {
            "colorbar": {
             "outlinewidth": 0,
             "ticks": ""
            },
            "type": "contourcarpet"
           }
          ],
          "heatmap": [
           {
            "colorbar": {
             "outlinewidth": 0,
             "ticks": ""
            },
            "colorscale": [
             [
              0,
              "#0d0887"
             ],
             [
              0.1111111111111111,
              "#46039f"
             ],
             [
              0.2222222222222222,
              "#7201a8"
             ],
             [
              0.3333333333333333,
              "#9c179e"
             ],
             [
              0.4444444444444444,
              "#bd3786"
             ],
             [
              0.5555555555555556,
              "#d8576b"
             ],
             [
              0.6666666666666666,
              "#ed7953"
             ],
             [
              0.7777777777777778,
              "#fb9f3a"
             ],
             [
              0.8888888888888888,
              "#fdca26"
             ],
             [
              1,
              "#f0f921"
             ]
            ],
            "type": "heatmap"
           }
          ],
          "heatmapgl": [
           {
            "colorbar": {
             "outlinewidth": 0,
             "ticks": ""
            },
            "colorscale": [
             [
              0,
              "#0d0887"
             ],
             [
              0.1111111111111111,
              "#46039f"
             ],
             [
              0.2222222222222222,
              "#7201a8"
             ],
             [
              0.3333333333333333,
              "#9c179e"
             ],
             [
              0.4444444444444444,
              "#bd3786"
             ],
             [
              0.5555555555555556,
              "#d8576b"
             ],
             [
              0.6666666666666666,
              "#ed7953"
             ],
             [
              0.7777777777777778,
              "#fb9f3a"
             ],
             [
              0.8888888888888888,
              "#fdca26"
             ],
             [
              1,
              "#f0f921"
             ]
            ],
            "type": "heatmapgl"
           }
          ],
          "histogram": [
           {
            "marker": {
             "colorbar": {
              "outlinewidth": 0,
              "ticks": ""
             }
            },
            "type": "histogram"
           }
          ],
          "histogram2d": [
           {
            "colorbar": {
             "outlinewidth": 0,
             "ticks": ""
            },
            "colorscale": [
             [
              0,
              "#0d0887"
             ],
             [
              0.1111111111111111,
              "#46039f"
             ],
             [
              0.2222222222222222,
              "#7201a8"
             ],
             [
              0.3333333333333333,
              "#9c179e"
             ],
             [
              0.4444444444444444,
              "#bd3786"
             ],
             [
              0.5555555555555556,
              "#d8576b"
             ],
             [
              0.6666666666666666,
              "#ed7953"
             ],
             [
              0.7777777777777778,
              "#fb9f3a"
             ],
             [
              0.8888888888888888,
              "#fdca26"
             ],
             [
              1,
              "#f0f921"
             ]
            ],
            "type": "histogram2d"
           }
          ],
          "histogram2dcontour": [
           {
            "colorbar": {
             "outlinewidth": 0,
             "ticks": ""
            },
            "colorscale": [
             [
              0,
              "#0d0887"
             ],
             [
              0.1111111111111111,
              "#46039f"
             ],
             [
              0.2222222222222222,
              "#7201a8"
             ],
             [
              0.3333333333333333,
              "#9c179e"
             ],
             [
              0.4444444444444444,
              "#bd3786"
             ],
             [
              0.5555555555555556,
              "#d8576b"
             ],
             [
              0.6666666666666666,
              "#ed7953"
             ],
             [
              0.7777777777777778,
              "#fb9f3a"
             ],
             [
              0.8888888888888888,
              "#fdca26"
             ],
             [
              1,
              "#f0f921"
             ]
            ],
            "type": "histogram2dcontour"
           }
          ],
          "mesh3d": [
           {
            "colorbar": {
             "outlinewidth": 0,
             "ticks": ""
            },
            "type": "mesh3d"
           }
          ],
          "parcoords": [
           {
            "line": {
             "colorbar": {
              "outlinewidth": 0,
              "ticks": ""
             }
            },
            "type": "parcoords"
           }
          ],
          "scatter": [
           {
            "marker": {
             "colorbar": {
              "outlinewidth": 0,
              "ticks": ""
             }
            },
            "type": "scatter"
           }
          ],
          "scatter3d": [
           {
            "line": {
             "colorbar": {
              "outlinewidth": 0,
              "ticks": ""
             }
            },
            "marker": {
             "colorbar": {
              "outlinewidth": 0,
              "ticks": ""
             }
            },
            "type": "scatter3d"
           }
          ],
          "scattercarpet": [
           {
            "marker": {
             "colorbar": {
              "outlinewidth": 0,
              "ticks": ""
             }
            },
            "type": "scattercarpet"
           }
          ],
          "scattergeo": [
           {
            "marker": {
             "colorbar": {
              "outlinewidth": 0,
              "ticks": ""
             }
            },
            "type": "scattergeo"
           }
          ],
          "scattergl": [
           {
            "marker": {
             "colorbar": {
              "outlinewidth": 0,
              "ticks": ""
             }
            },
            "type": "scattergl"
           }
          ],
          "scattermapbox": [
           {
            "marker": {
             "colorbar": {
              "outlinewidth": 0,
              "ticks": ""
             }
            },
            "type": "scattermapbox"
           }
          ],
          "scatterpolar": [
           {
            "marker": {
             "colorbar": {
              "outlinewidth": 0,
              "ticks": ""
             }
            },
            "type": "scatterpolar"
           }
          ],
          "scatterpolargl": [
           {
            "marker": {
             "colorbar": {
              "outlinewidth": 0,
              "ticks": ""
             }
            },
            "type": "scatterpolargl"
           }
          ],
          "scatterternary": [
           {
            "marker": {
             "colorbar": {
              "outlinewidth": 0,
              "ticks": ""
             }
            },
            "type": "scatterternary"
           }
          ],
          "surface": [
           {
            "colorbar": {
             "outlinewidth": 0,
             "ticks": ""
            },
            "colorscale": [
             [
              0,
              "#0d0887"
             ],
             [
              0.1111111111111111,
              "#46039f"
             ],
             [
              0.2222222222222222,
              "#7201a8"
             ],
             [
              0.3333333333333333,
              "#9c179e"
             ],
             [
              0.4444444444444444,
              "#bd3786"
             ],
             [
              0.5555555555555556,
              "#d8576b"
             ],
             [
              0.6666666666666666,
              "#ed7953"
             ],
             [
              0.7777777777777778,
              "#fb9f3a"
             ],
             [
              0.8888888888888888,
              "#fdca26"
             ],
             [
              1,
              "#f0f921"
             ]
            ],
            "type": "surface"
           }
          ],
          "table": [
           {
            "cells": {
             "fill": {
              "color": "#EBF0F8"
             },
             "line": {
              "color": "white"
             }
            },
            "header": {
             "fill": {
              "color": "#C8D4E3"
             },
             "line": {
              "color": "white"
             }
            },
            "type": "table"
           }
          ]
         },
         "layout": {
          "annotationdefaults": {
           "arrowcolor": "#2a3f5f",
           "arrowhead": 0,
           "arrowwidth": 1
          },
          "colorscale": {
           "diverging": [
            [
             0,
             "#8e0152"
            ],
            [
             0.1,
             "#c51b7d"
            ],
            [
             0.2,
             "#de77ae"
            ],
            [
             0.3,
             "#f1b6da"
            ],
            [
             0.4,
             "#fde0ef"
            ],
            [
             0.5,
             "#f7f7f7"
            ],
            [
             0.6,
             "#e6f5d0"
            ],
            [
             0.7,
             "#b8e186"
            ],
            [
             0.8,
             "#7fbc41"
            ],
            [
             0.9,
             "#4d9221"
            ],
            [
             1,
             "#276419"
            ]
           ],
           "sequential": [
            [
             0,
             "#0d0887"
            ],
            [
             0.1111111111111111,
             "#46039f"
            ],
            [
             0.2222222222222222,
             "#7201a8"
            ],
            [
             0.3333333333333333,
             "#9c179e"
            ],
            [
             0.4444444444444444,
             "#bd3786"
            ],
            [
             0.5555555555555556,
             "#d8576b"
            ],
            [
             0.6666666666666666,
             "#ed7953"
            ],
            [
             0.7777777777777778,
             "#fb9f3a"
            ],
            [
             0.8888888888888888,
             "#fdca26"
            ],
            [
             1,
             "#f0f921"
            ]
           ],
           "sequentialminus": [
            [
             0,
             "#0d0887"
            ],
            [
             0.1111111111111111,
             "#46039f"
            ],
            [
             0.2222222222222222,
             "#7201a8"
            ],
            [
             0.3333333333333333,
             "#9c179e"
            ],
            [
             0.4444444444444444,
             "#bd3786"
            ],
            [
             0.5555555555555556,
             "#d8576b"
            ],
            [
             0.6666666666666666,
             "#ed7953"
            ],
            [
             0.7777777777777778,
             "#fb9f3a"
            ],
            [
             0.8888888888888888,
             "#fdca26"
            ],
            [
             1,
             "#f0f921"
            ]
           ]
          },
          "colorway": [
           "#636efa",
           "#EF553B",
           "#00cc96",
           "#ab63fa",
           "#FFA15A",
           "#19d3f3",
           "#FF6692",
           "#B6E880",
           "#FF97FF",
           "#FECB52"
          ],
          "font": {
           "color": "#2a3f5f"
          },
          "geo": {
           "bgcolor": "white",
           "lakecolor": "white",
           "landcolor": "#E5ECF6",
           "showlakes": true,
           "showland": true,
           "subunitcolor": "white"
          },
          "hoverlabel": {
           "align": "left"
          },
          "hovermode": "closest",
          "mapbox": {
           "style": "light"
          },
          "paper_bgcolor": "white",
          "plot_bgcolor": "#E5ECF6",
          "polar": {
           "angularaxis": {
            "gridcolor": "white",
            "linecolor": "white",
            "ticks": ""
           },
           "bgcolor": "#E5ECF6",
           "radialaxis": {
            "gridcolor": "white",
            "linecolor": "white",
            "ticks": ""
           }
          },
          "scene": {
           "xaxis": {
            "backgroundcolor": "#E5ECF6",
            "gridcolor": "white",
            "gridwidth": 2,
            "linecolor": "white",
            "showbackground": true,
            "ticks": "",
            "zerolinecolor": "white"
           },
           "yaxis": {
            "backgroundcolor": "#E5ECF6",
            "gridcolor": "white",
            "gridwidth": 2,
            "linecolor": "white",
            "showbackground": true,
            "ticks": "",
            "zerolinecolor": "white"
           },
           "zaxis": {
            "backgroundcolor": "#E5ECF6",
            "gridcolor": "white",
            "gridwidth": 2,
            "linecolor": "white",
            "showbackground": true,
            "ticks": "",
            "zerolinecolor": "white"
           }
          },
          "shapedefaults": {
           "line": {
            "color": "#2a3f5f"
           }
          },
          "ternary": {
           "aaxis": {
            "gridcolor": "white",
            "linecolor": "white",
            "ticks": ""
           },
           "baxis": {
            "gridcolor": "white",
            "linecolor": "white",
            "ticks": ""
           },
           "bgcolor": "#E5ECF6",
           "caxis": {
            "gridcolor": "white",
            "linecolor": "white",
            "ticks": ""
           }
          },
          "title": {
           "x": 0.05
          },
          "xaxis": {
           "automargin": true,
           "gridcolor": "white",
           "linecolor": "white",
           "ticks": "",
           "zerolinecolor": "white",
           "zerolinewidth": 2
          },
          "yaxis": {
           "automargin": true,
           "gridcolor": "white",
           "linecolor": "white",
           "ticks": "",
           "zerolinecolor": "white",
           "zerolinewidth": 2
          }
         }
        }
       }
      },
      "text/html": [
       "<div>\n",
       "        \n",
       "        \n",
       "            <div id=\"90bd570b-fd04-48a5-b5bc-cdb710a69df0\" class=\"plotly-graph-div\" style=\"height:525px; width:100%;\"></div>\n",
       "            <script type=\"text/javascript\">\n",
       "                require([\"plotly\"], function(Plotly) {\n",
       "                    window.PLOTLYENV=window.PLOTLYENV || {};\n",
       "                    \n",
       "                if (document.getElementById(\"90bd570b-fd04-48a5-b5bc-cdb710a69df0\")) {\n",
       "                    Plotly.newPlot(\n",
       "                        '90bd570b-fd04-48a5-b5bc-cdb710a69df0',\n",
       "                        [{\"close\": [43.9, 43.1, 43.2, 42.95, 42.99, 43.01, 42.96, 42.79, 42.81, null, null, null, null, null, null, null, null, null, null, null, null, null, null, null, null, 43.62, 43.85, 43.77, 43.71, 43.55, 43.56, 43.52, 43.52, null, null, null, null, null, null, null, null, null, null, null, null, null, null, null, null, 43.56, 43.48, 43.38, 43.4538, 43.32, 43.394, 43.36, 43.36], \"high\": [43.9, 43.41, 43.37, 43.2, 43.06, 43.09, 43.08, 43.0, 42.81, null, null, null, null, null, null, null, null, null, null, null, null, null, null, null, null, 43.64, 43.87, 43.85, 43.96, 43.79, 43.68, 43.635, 43.6366, null, null, null, null, null, null, null, null, null, null, null, null, null, null, null, null, 43.7, 43.68, 43.55, 43.49, 43.5, 43.41, 43.42, 43.37], \"low\": [43.9, 43.044, 43.11, 42.93, 42.91, 42.97, 42.95, 42.74, 42.79, null, null, null, null, null, null, null, null, null, null, null, null, null, null, null, null, 43.2, 43.53, 43.63, 43.67, 43.54, 43.45, 43.48, 43.52, null, null, null, null, null, null, null, null, null, null, null, null, null, null, null, null, 43.4, 43.48, 43.36, 43.38, 43.26, 43.24, 43.29, 43.36], \"open\": [43.9, 43.4, 43.14, 43.19, 42.95, 42.99, 43.02, 42.96, 42.79, null, null, null, null, null, null, null, null, null, null, null, null, null, null, null, null, 43.4, 43.64, 43.85, 43.77, 43.71, 43.54, 43.56, 43.52, null, null, null, null, null, null, null, null, null, null, null, null, null, null, null, null, 43.58, 43.54, 43.48, 43.38, 43.48, 43.31, 43.4, 43.36], \"type\": \"candlestick\", \"x\": [\"2014-03-03T08:00:00\", \"2014-03-03T09:00:00\", \"2014-03-03T10:00:00\", \"2014-03-03T11:00:00\", \"2014-03-03T12:00:00\", \"2014-03-03T13:00:00\", \"2014-03-03T14:00:00\", \"2014-03-03T15:00:00\", \"2014-03-03T16:00:00\", \"2014-03-03T17:00:00\", \"2014-03-03T18:00:00\", \"2014-03-03T19:00:00\", \"2014-03-03T20:00:00\", \"2014-03-03T21:00:00\", \"2014-03-03T22:00:00\", \"2014-03-03T23:00:00\", \"2014-03-04T00:00:00\", \"2014-03-04T01:00:00\", \"2014-03-04T02:00:00\", \"2014-03-04T03:00:00\", \"2014-03-04T04:00:00\", \"2014-03-04T05:00:00\", \"2014-03-04T06:00:00\", \"2014-03-04T07:00:00\", \"2014-03-04T08:00:00\", \"2014-03-04T09:00:00\", \"2014-03-04T10:00:00\", \"2014-03-04T11:00:00\", \"2014-03-04T12:00:00\", \"2014-03-04T13:00:00\", \"2014-03-04T14:00:00\", \"2014-03-04T15:00:00\", \"2014-03-04T16:00:00\", \"2014-03-04T17:00:00\", \"2014-03-04T18:00:00\", \"2014-03-04T19:00:00\", \"2014-03-04T20:00:00\", \"2014-03-04T21:00:00\", \"2014-03-04T22:00:00\", \"2014-03-04T23:00:00\", \"2014-03-05T00:00:00\", \"2014-03-05T01:00:00\", \"2014-03-05T02:00:00\", \"2014-03-05T03:00:00\", \"2014-03-05T04:00:00\", \"2014-03-05T05:00:00\", \"2014-03-05T06:00:00\", \"2014-03-05T07:00:00\", \"2014-03-05T08:00:00\", \"2014-03-05T09:00:00\", \"2014-03-05T10:00:00\", \"2014-03-05T11:00:00\", \"2014-03-05T12:00:00\", \"2014-03-05T13:00:00\", \"2014-03-05T14:00:00\", \"2014-03-05T15:00:00\", \"2014-03-05T16:00:00\"]}],\n",
       "                        {\"template\": {\"data\": {\"bar\": [{\"error_x\": {\"color\": \"#2a3f5f\"}, \"error_y\": {\"color\": \"#2a3f5f\"}, \"marker\": {\"line\": {\"color\": \"#E5ECF6\", \"width\": 0.5}}, \"type\": \"bar\"}], \"barpolar\": [{\"marker\": {\"line\": {\"color\": \"#E5ECF6\", \"width\": 0.5}}, \"type\": \"barpolar\"}], \"carpet\": [{\"aaxis\": {\"endlinecolor\": \"#2a3f5f\", \"gridcolor\": \"white\", \"linecolor\": \"white\", \"minorgridcolor\": \"white\", \"startlinecolor\": \"#2a3f5f\"}, \"baxis\": {\"endlinecolor\": \"#2a3f5f\", \"gridcolor\": \"white\", \"linecolor\": \"white\", \"minorgridcolor\": \"white\", \"startlinecolor\": \"#2a3f5f\"}, \"type\": \"carpet\"}], \"choropleth\": [{\"colorbar\": {\"outlinewidth\": 0, \"ticks\": \"\"}, \"type\": \"choropleth\"}], \"contour\": [{\"colorbar\": {\"outlinewidth\": 0, \"ticks\": \"\"}, \"colorscale\": [[0.0, \"#0d0887\"], [0.1111111111111111, \"#46039f\"], [0.2222222222222222, \"#7201a8\"], [0.3333333333333333, \"#9c179e\"], [0.4444444444444444, \"#bd3786\"], [0.5555555555555556, \"#d8576b\"], [0.6666666666666666, \"#ed7953\"], [0.7777777777777778, \"#fb9f3a\"], [0.8888888888888888, \"#fdca26\"], [1.0, \"#f0f921\"]], \"type\": \"contour\"}], \"contourcarpet\": [{\"colorbar\": {\"outlinewidth\": 0, \"ticks\": \"\"}, \"type\": \"contourcarpet\"}], \"heatmap\": [{\"colorbar\": {\"outlinewidth\": 0, \"ticks\": \"\"}, \"colorscale\": [[0.0, \"#0d0887\"], [0.1111111111111111, \"#46039f\"], [0.2222222222222222, \"#7201a8\"], [0.3333333333333333, \"#9c179e\"], [0.4444444444444444, \"#bd3786\"], [0.5555555555555556, \"#d8576b\"], [0.6666666666666666, \"#ed7953\"], [0.7777777777777778, \"#fb9f3a\"], [0.8888888888888888, \"#fdca26\"], [1.0, \"#f0f921\"]], \"type\": \"heatmap\"}], \"heatmapgl\": [{\"colorbar\": {\"outlinewidth\": 0, \"ticks\": \"\"}, \"colorscale\": [[0.0, \"#0d0887\"], [0.1111111111111111, \"#46039f\"], [0.2222222222222222, \"#7201a8\"], [0.3333333333333333, \"#9c179e\"], [0.4444444444444444, \"#bd3786\"], [0.5555555555555556, \"#d8576b\"], [0.6666666666666666, \"#ed7953\"], [0.7777777777777778, \"#fb9f3a\"], [0.8888888888888888, \"#fdca26\"], [1.0, \"#f0f921\"]], \"type\": \"heatmapgl\"}], \"histogram\": [{\"marker\": {\"colorbar\": {\"outlinewidth\": 0, \"ticks\": \"\"}}, \"type\": \"histogram\"}], \"histogram2d\": [{\"colorbar\": {\"outlinewidth\": 0, \"ticks\": \"\"}, \"colorscale\": [[0.0, \"#0d0887\"], [0.1111111111111111, \"#46039f\"], [0.2222222222222222, \"#7201a8\"], [0.3333333333333333, \"#9c179e\"], [0.4444444444444444, \"#bd3786\"], [0.5555555555555556, \"#d8576b\"], [0.6666666666666666, \"#ed7953\"], [0.7777777777777778, \"#fb9f3a\"], [0.8888888888888888, \"#fdca26\"], [1.0, \"#f0f921\"]], \"type\": \"histogram2d\"}], \"histogram2dcontour\": [{\"colorbar\": {\"outlinewidth\": 0, \"ticks\": \"\"}, \"colorscale\": [[0.0, \"#0d0887\"], [0.1111111111111111, \"#46039f\"], [0.2222222222222222, \"#7201a8\"], [0.3333333333333333, \"#9c179e\"], [0.4444444444444444, \"#bd3786\"], [0.5555555555555556, \"#d8576b\"], [0.6666666666666666, \"#ed7953\"], [0.7777777777777778, \"#fb9f3a\"], [0.8888888888888888, \"#fdca26\"], [1.0, \"#f0f921\"]], \"type\": \"histogram2dcontour\"}], \"mesh3d\": [{\"colorbar\": {\"outlinewidth\": 0, \"ticks\": \"\"}, \"type\": \"mesh3d\"}], \"parcoords\": [{\"line\": {\"colorbar\": {\"outlinewidth\": 0, \"ticks\": \"\"}}, \"type\": \"parcoords\"}], \"scatter\": [{\"marker\": {\"colorbar\": {\"outlinewidth\": 0, \"ticks\": \"\"}}, \"type\": \"scatter\"}], \"scatter3d\": [{\"line\": {\"colorbar\": {\"outlinewidth\": 0, \"ticks\": \"\"}}, \"marker\": {\"colorbar\": {\"outlinewidth\": 0, \"ticks\": \"\"}}, \"type\": \"scatter3d\"}], \"scattercarpet\": [{\"marker\": {\"colorbar\": {\"outlinewidth\": 0, \"ticks\": \"\"}}, \"type\": \"scattercarpet\"}], \"scattergeo\": [{\"marker\": {\"colorbar\": {\"outlinewidth\": 0, \"ticks\": \"\"}}, \"type\": \"scattergeo\"}], \"scattergl\": [{\"marker\": {\"colorbar\": {\"outlinewidth\": 0, \"ticks\": \"\"}}, \"type\": \"scattergl\"}], \"scattermapbox\": [{\"marker\": {\"colorbar\": {\"outlinewidth\": 0, \"ticks\": \"\"}}, \"type\": \"scattermapbox\"}], \"scatterpolar\": [{\"marker\": {\"colorbar\": {\"outlinewidth\": 0, \"ticks\": \"\"}}, \"type\": \"scatterpolar\"}], \"scatterpolargl\": [{\"marker\": {\"colorbar\": {\"outlinewidth\": 0, \"ticks\": \"\"}}, \"type\": \"scatterpolargl\"}], \"scatterternary\": [{\"marker\": {\"colorbar\": {\"outlinewidth\": 0, \"ticks\": \"\"}}, \"type\": \"scatterternary\"}], \"surface\": [{\"colorbar\": {\"outlinewidth\": 0, \"ticks\": \"\"}, \"colorscale\": [[0.0, \"#0d0887\"], [0.1111111111111111, \"#46039f\"], [0.2222222222222222, \"#7201a8\"], [0.3333333333333333, \"#9c179e\"], [0.4444444444444444, \"#bd3786\"], [0.5555555555555556, \"#d8576b\"], [0.6666666666666666, \"#ed7953\"], [0.7777777777777778, \"#fb9f3a\"], [0.8888888888888888, \"#fdca26\"], [1.0, \"#f0f921\"]], \"type\": \"surface\"}], \"table\": [{\"cells\": {\"fill\": {\"color\": \"#EBF0F8\"}, \"line\": {\"color\": \"white\"}}, \"header\": {\"fill\": {\"color\": \"#C8D4E3\"}, \"line\": {\"color\": \"white\"}}, \"type\": \"table\"}]}, \"layout\": {\"annotationdefaults\": {\"arrowcolor\": \"#2a3f5f\", \"arrowhead\": 0, \"arrowwidth\": 1}, \"colorscale\": {\"diverging\": [[0, \"#8e0152\"], [0.1, \"#c51b7d\"], [0.2, \"#de77ae\"], [0.3, \"#f1b6da\"], [0.4, \"#fde0ef\"], [0.5, \"#f7f7f7\"], [0.6, \"#e6f5d0\"], [0.7, \"#b8e186\"], [0.8, \"#7fbc41\"], [0.9, \"#4d9221\"], [1, \"#276419\"]], \"sequential\": [[0.0, \"#0d0887\"], [0.1111111111111111, \"#46039f\"], [0.2222222222222222, \"#7201a8\"], [0.3333333333333333, \"#9c179e\"], [0.4444444444444444, \"#bd3786\"], [0.5555555555555556, \"#d8576b\"], [0.6666666666666666, \"#ed7953\"], [0.7777777777777778, \"#fb9f3a\"], [0.8888888888888888, \"#fdca26\"], [1.0, \"#f0f921\"]], \"sequentialminus\": [[0.0, \"#0d0887\"], [0.1111111111111111, \"#46039f\"], [0.2222222222222222, \"#7201a8\"], [0.3333333333333333, \"#9c179e\"], [0.4444444444444444, \"#bd3786\"], [0.5555555555555556, \"#d8576b\"], [0.6666666666666666, \"#ed7953\"], [0.7777777777777778, \"#fb9f3a\"], [0.8888888888888888, \"#fdca26\"], [1.0, \"#f0f921\"]]}, \"colorway\": [\"#636efa\", \"#EF553B\", \"#00cc96\", \"#ab63fa\", \"#FFA15A\", \"#19d3f3\", \"#FF6692\", \"#B6E880\", \"#FF97FF\", \"#FECB52\"], \"font\": {\"color\": \"#2a3f5f\"}, \"geo\": {\"bgcolor\": \"white\", \"lakecolor\": \"white\", \"landcolor\": \"#E5ECF6\", \"showlakes\": true, \"showland\": true, \"subunitcolor\": \"white\"}, \"hoverlabel\": {\"align\": \"left\"}, \"hovermode\": \"closest\", \"mapbox\": {\"style\": \"light\"}, \"paper_bgcolor\": \"white\", \"plot_bgcolor\": \"#E5ECF6\", \"polar\": {\"angularaxis\": {\"gridcolor\": \"white\", \"linecolor\": \"white\", \"ticks\": \"\"}, \"bgcolor\": \"#E5ECF6\", \"radialaxis\": {\"gridcolor\": \"white\", \"linecolor\": \"white\", \"ticks\": \"\"}}, \"scene\": {\"xaxis\": {\"backgroundcolor\": \"#E5ECF6\", \"gridcolor\": \"white\", \"gridwidth\": 2, \"linecolor\": \"white\", \"showbackground\": true, \"ticks\": \"\", \"zerolinecolor\": \"white\"}, \"yaxis\": {\"backgroundcolor\": \"#E5ECF6\", \"gridcolor\": \"white\", \"gridwidth\": 2, \"linecolor\": \"white\", \"showbackground\": true, \"ticks\": \"\", \"zerolinecolor\": \"white\"}, \"zaxis\": {\"backgroundcolor\": \"#E5ECF6\", \"gridcolor\": \"white\", \"gridwidth\": 2, \"linecolor\": \"white\", \"showbackground\": true, \"ticks\": \"\", \"zerolinecolor\": \"white\"}}, \"shapedefaults\": {\"line\": {\"color\": \"#2a3f5f\"}}, \"ternary\": {\"aaxis\": {\"gridcolor\": \"white\", \"linecolor\": \"white\", \"ticks\": \"\"}, \"baxis\": {\"gridcolor\": \"white\", \"linecolor\": \"white\", \"ticks\": \"\"}, \"bgcolor\": \"#E5ECF6\", \"caxis\": {\"gridcolor\": \"white\", \"linecolor\": \"white\", \"ticks\": \"\"}}, \"title\": {\"x\": 0.05}, \"xaxis\": {\"automargin\": true, \"gridcolor\": \"white\", \"linecolor\": \"white\", \"ticks\": \"\", \"zerolinecolor\": \"white\", \"zerolinewidth\": 2}, \"yaxis\": {\"automargin\": true, \"gridcolor\": \"white\", \"linecolor\": \"white\", \"ticks\": \"\", \"zerolinecolor\": \"white\", \"zerolinewidth\": 2}}}},\n",
       "                        {\"responsive\": true}\n",
       "                    ).then(function(){\n",
       "                            \n",
       "var gd = document.getElementById('90bd570b-fd04-48a5-b5bc-cdb710a69df0');\n",
       "var x = new MutationObserver(function (mutations, observer) {{\n",
       "        var display = window.getComputedStyle(gd).display;\n",
       "        if (!display || display === 'none') {{\n",
       "            console.log([gd, 'removed!']);\n",
       "            Plotly.purge(gd);\n",
       "            observer.disconnect();\n",
       "        }}\n",
       "}});\n",
       "\n",
       "// Listen for the removal of the full notebook cells\n",
       "var notebookContainer = gd.closest('#notebook-container');\n",
       "if (notebookContainer) {{\n",
       "    x.observe(notebookContainer, {childList: true});\n",
       "}}\n",
       "\n",
       "// Listen for the clearing of the current output cell\n",
       "var outputEl = gd.closest('.output');\n",
       "if (outputEl) {{\n",
       "    x.observe(outputEl, {childList: true});\n",
       "}}\n",
       "\n",
       "                        })\n",
       "                };\n",
       "                });\n",
       "            </script>\n",
       "        </div>"
      ]
     },
     "metadata": {},
     "output_type": "display_data"
    }
   ],
   "source": [
    "import plotly.graph_objects as go\n",
    "\n",
    "fig = go.Figure(data=[go.Candlestick(x=df2.index,\n",
    "                open=df2['open'],\n",
    "                high=df2['high'],\n",
    "                low=df2['low'],\n",
    "                close=df2['close'])])\n",
    "\n",
    "fig.show()"
   ]
  },
  {
   "cell_type": "code",
   "execution_count": null,
   "metadata": {},
   "outputs": [],
   "source": []
  }
 ],
 "metadata": {
  "kernelspec": {
   "display_name": "Python (tensorflow)",
   "language": "python",
   "name": "tensorflow"
  },
  "language_info": {
   "codemirror_mode": {
    "name": "ipython",
    "version": 3
   },
   "file_extension": ".py",
   "mimetype": "text/x-python",
   "name": "python",
   "nbconvert_exporter": "python",
   "pygments_lexer": "ipython3",
   "version": "3.6.9"
  }
 },
 "nbformat": 4,
 "nbformat_minor": 2
}
