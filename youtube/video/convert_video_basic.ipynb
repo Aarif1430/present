{
 "cells": [
  {
   "cell_type": "markdown",
   "metadata": {
    "colab_type": "text",
    "id": "weH-SnufHoty"
   },
   "source": [
    "<a href=\"https://colab.research.google.com/github/jeffheaton/t81_558_deep_learning/blob/master/youtube/video/convert_video_basic.ipynb\" target=\"_parent\"><img src=\"https://colab.research.google.com/assets/colab-badge.svg\" alt=\"Open In Colab\"/></a>"
   ]
  },
  {
   "cell_type": "markdown",
   "metadata": {
    "colab_type": "text",
    "id": "27d4L6g4sPkx"
   },
   "source": [
    "# Augmenting Video with FFMPEG\n",
    "\n",
    "The code given in this utility runs the video through YOLO and put boxes around objects that YOLO recognizes.  The resolution and audio of the original video are maintained.  This code is a starting point for other offline reality augmentation projects that might use TensorFlow and video processing.  This script is based on [ffmpeg](https://en.wikipedia.org/wiki/FFmpeg), and assumes you have it installed.\n",
    "\n",
    "Some other useful links:\n",
    "\n",
    "* [YouTube Video About this Utility]()\n",
    "* [GitHub Repository for this Utility](https://github.com/jeffheaton/present/blob/master/youtube/video/convert_video_basic.ipynb)\n",
    "* [FFMPEG](https://www.ffmpeg.org/)\n",
    "\n",
    "The following code allows you to upload a video file to this utility. This utility is designed to be run from Google CoLab.  Make sure to use a GPU for maxamum performance."
   ]
  },
  {
   "cell_type": "code",
   "execution_count": 0,
   "metadata": {
    "colab": {
     "base_uri": "https://localhost:8080/",
     "height": 89,
     "resources": {
      "http://localhost:8080/nbextensions/google.colab/files.js": {
       "data": "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",
       "headers": [
        [
         "content-type",
         "application/javascript"
        ]
       ],
       "ok": true,
       "status": 200,
       "status_text": ""
      }
     }
    },
    "colab_type": "code",
    "id": "_FtkyHK1sL2V",
    "outputId": "daf8d528-7b7a-4f05-ce90-69ead1f9a962"
   },
   "outputs": [
    {
     "data": {
      "text/html": [
       "\n",
       "     <input type=\"file\" id=\"files-fcdf9ca5-4ea8-40ee-9490-d377ed600a5c\" name=\"files[]\" multiple disabled />\n",
       "     <output id=\"result-fcdf9ca5-4ea8-40ee-9490-d377ed600a5c\">\n",
       "      Upload widget is only available when the cell has been executed in the\n",
       "      current browser session. Please rerun this cell to enable.\n",
       "      </output>\n",
       "      <script src=\"/nbextensions/google.colab/files.js\"></script> "
      ],
      "text/plain": [
       "<IPython.core.display.HTML object>"
      ]
     },
     "metadata": {
      "tags": []
     },
     "output_type": "display_data"
    },
    {
     "name": "stdout",
     "output_type": "stream",
     "text": [
      "Saving demo_sync.mov to demo_sync (1).mov\n",
      "Uploaded: /content/demo_sync.mov\n"
     ]
    }
   ],
   "source": [
    "import os\n",
    "from google.colab import files\n",
    "\n",
    "uploaded = files.upload()\n",
    "\n",
    "if len(uploaded)>1:\n",
    "  print(\"Warning: you should only upload one video file. Only one will be processed.\")\n",
    "\n",
    "for name in uploaded.keys():\n",
    "  data = uploaded[name]\n",
    "  path = os.path.join('/content/',name)\n",
    "  print(f\"Uploaded: {path}\")\n",
    "  with open(path,\"wb\") as fp:\n",
    "    fp.write(data)\n",
    "    input_file = path"
   ]
  },
  {
   "cell_type": "markdown",
   "metadata": {
    "colab_type": "text",
    "id": "X31fWf3ILh7W"
   },
   "source": [
    "This Python code runs a given command from the shell.  The primary purpose of this function is to run ffmpeg and capture its output collected for display, even in a Jupyter notebook.  This function creates a temporary to capture the output, I would prefer to use a string to capture the output, but was not able to get that working in CoLab.  If anyone has suggestions, please push a change or post an issue with a suggestion."
   ]
  },
  {
   "cell_type": "code",
   "execution_count": 0,
   "metadata": {
    "colab": {},
    "colab_type": "code",
    "id": "oJLjx52AVL7D"
   },
   "outputs": [],
   "source": [
    "def execute_command(cmd):\n",
    "  with open(\"temp.txt\", 'w') as fp:\n",
    "    subprocess.call(cmd, shell=True, stdout=fp)\n",
    "\n",
    "  with open(\"temp.txt\", 'r') as fp:\n",
    "    result = fp.read()\n",
    "\n",
    "  print(f\"Executed command: {cmd}, result:\")\n",
    "  print(result)\n",
    "  print(\"---------\\n\")\n",
    "  return result.split('\\n')"
   ]
  },
  {
   "cell_type": "markdown",
   "metadata": {
    "colab_type": "text",
    "id": "S2V0QxdCJRCJ"
   },
   "source": [
    "Next we call ffmpeg to convert the input video into a series of JPEG files and a .wav file that contains the audio.  We also query the file to determine the frames per second (FPS).  If we cannot determine FPS, 30 are assumed."
   ]
  },
  {
   "cell_type": "code",
   "execution_count": 0,
   "metadata": {
    "colab": {
     "base_uri": "https://localhost:8080/",
     "height": 1000
    },
    "colab_type": "code",
    "id": "GxpFOSh7sdpe",
    "outputId": "7c41ada3-3b5b-4c57-e402-2980e768e057"
   },
   "outputs": [
    {
     "name": "stdout",
     "output_type": "stream",
     "text": [
      "Temp dir already exists.\n",
      "Executed command: ffmpeg -i /content/demo_sync.mov -qscale:v 3 /content/tmp/input-%d.jpg -hide_banner 2>&1, result:\n",
      "Input #0, mov,mp4,m4a,3gp,3g2,mj2, from '/content/demo_sync.mov':\n",
      "  Metadata:\n",
      "    major_brand     : qt  \n",
      "    minor_version   : 0\n",
      "    compatible_brands: qt  \n",
      "    creation_time   : 2020-04-03T00:19:33.000000Z\n",
      "    com.apple.quicktime.location.ISO6709: +38.6253-090.5469+175.781/\n",
      "    com.apple.quicktime.make: Apple\n",
      "    com.apple.quicktime.model: iPhone X\n",
      "    com.apple.quicktime.software: 13.3.1\n",
      "    com.apple.quicktime.creationdate: 2020-04-02T19:18:24-0500\n",
      "    com.apple.photos.originating.signature: AeNTOcgNQ/FA679XBLgOpeC3Vynj\n",
      "  Duration: 00:00:10.73, start: 0.000000, bitrate: 10833 kb/s\n",
      "    Stream #0:0(und): Audio: aac (LC) (mp4a / 0x6134706D), 44100 Hz, mono, fltp, 99 kb/s (default)\n",
      "    Metadata:\n",
      "      creation_time   : 2020-04-03T00:19:33.000000Z\n",
      "      handler_name    : Core Media Data Handler\n",
      "    Stream #0:1(und): Video: h264 (High) (avc1 / 0x31637661), yuv420p(tv, bt709), 1920x1080 [SAR 1:1 DAR 16:9], 10714 kb/s, 30 fps, 30 tbr, 600 tbn, 1200 tbc (default)\n",
      "    Metadata:\n",
      "      creation_time   : 2020-04-03T00:19:33.000000Z\n",
      "      handler_name    : Core Media Data Handler\n",
      "      encoder         : H.264\n",
      "    Stream #0:2(und): Data: none (mebx / 0x7862656D), 11 kb/s (default)\n",
      "    Metadata:\n",
      "      creation_time   : 2020-04-03T00:19:33.000000Z\n",
      "      handler_name    : Core Media Data Handler\n",
      "    Stream #0:3(und): Data: none (mebx / 0x7862656D), 0 kb/s (default)\n",
      "    Metadata:\n",
      "      creation_time   : 2020-04-03T00:19:33.000000Z\n",
      "      handler_name    : Core Media Data Handler\n",
      "Stream mapping:\n",
      "  Stream #0:1 -> #0:0 (h264 (native) -> mjpeg (native))\n",
      "Press [q] to stop, [?] for help\n",
      "[swscaler @ 0x563914180000] deprecated pixel format used, make sure you did set range correctly\n",
      "Output #0, image2, to '/content/tmp/input-%d.jpg':\n",
      "  Metadata:\n",
      "    major_brand     : qt  \n",
      "    minor_version   : 0\n",
      "    compatible_brands: qt  \n",
      "    com.apple.photos.originating.signature: AeNTOcgNQ/FA679XBLgOpeC3Vynj\n",
      "    com.apple.quicktime.location.ISO6709: +38.6253-090.5469+175.781/\n",
      "    com.apple.quicktime.make: Apple\n",
      "    com.apple.quicktime.model: iPhone X\n",
      "    com.apple.quicktime.software: 13.3.1\n",
      "    com.apple.quicktime.creationdate: 2020-04-02T19:18:24-0500\n",
      "    encoder         : Lavf57.83.100\n",
      "    Stream #0:0(und): Video: mjpeg, yuvj420p(pc), 1920x1080 [SAR 1:1 DAR 16:9], q=2-31, 200 kb/s, 30 fps, 30 tbn, 30 tbc (default)\n",
      "    Metadata:\n",
      "      creation_time   : 2020-04-03T00:19:33.000000Z\n",
      "      handler_name    : Core Media Data Handler\n",
      "      encoder         : Lavc57.107.100 mjpeg\n",
      "    Side data:\n",
      "      cpb: bitrate max/min/avg: 0/0/200000 buffer size: 0 vbv_delay: -1\n",
      "frame=   19 fps=0.0 q=3.0 size=N/A time=00:00:00.56 bitrate=N/A speed=1.11x    \n",
      "frame=   38 fps= 37 q=3.0 size=N/A time=00:00:01.20 bitrate=N/A speed=1.18x    \n",
      "frame=   59 fps= 39 q=3.0 size=N/A time=00:00:01.90 bitrate=N/A speed=1.25x    \n",
      "frame=   79 fps= 39 q=3.0 size=N/A time=00:00:02.56 bitrate=N/A speed=1.25x    \n",
      "frame=  100 fps= 39 q=3.0 size=N/A time=00:00:03.26 bitrate=N/A speed=1.27x    \n",
      "frame=  120 fps= 39 q=3.0 size=N/A time=00:00:03.93 bitrate=N/A speed=1.27x    \n",
      "frame=  140 fps= 39 q=3.0 size=N/A time=00:00:04.60 bitrate=N/A speed=1.28x    \n",
      "frame=  160 fps= 39 q=3.0 size=N/A time=00:00:05.26 bitrate=N/A speed=1.28x    \n",
      "frame=  181 fps= 39 q=3.0 size=N/A time=00:00:05.96 bitrate=N/A speed=1.29x    \n",
      "frame=  201 fps= 39 q=3.0 size=N/A time=00:00:06.63 bitrate=N/A speed=1.29x    \n",
      "frame=  221 fps= 39 q=3.0 size=N/A time=00:00:07.30 bitrate=N/A speed=1.29x    \n",
      "frame=  241 fps= 39 q=3.0 size=N/A time=00:00:07.96 bitrate=N/A speed=1.29x    \n",
      "frame=  261 fps= 39 q=3.0 size=N/A time=00:00:08.63 bitrate=N/A speed=1.29x    \n",
      "frame=  282 fps= 39 q=3.0 size=N/A time=00:00:09.33 bitrate=N/A speed= 1.3x    \n",
      "frame=  302 fps= 39 q=3.0 size=N/A time=00:00:10.00 bitrate=N/A speed=1.29x    \n",
      "frame=  322 fps= 39 q=3.0 size=N/A time=00:00:10.66 bitrate=N/A speed= 1.3x    \n",
      "frame=  322 fps= 39 q=3.0 Lsize=N/A time=00:00:10.73 bitrate=N/A speed= 1.3x    \n",
      "video:53011kB audio:0kB subtitle:0kB other streams:0kB global headers:0kB muxing overhead: unknown\n",
      "\n",
      "---------\n",
      "\n",
      "Executed command: ffmpeg -i /content/demo_sync.mov -ab 160k -ac 2 -ar 44100 -vn /content/tmp/audio.wav 2>&1, result:\n",
      "ffmpeg version 3.4.6-0ubuntu0.18.04.1 Copyright (c) 2000-2019 the FFmpeg developers\n",
      "  built with gcc 7 (Ubuntu 7.3.0-16ubuntu3)\n",
      "  configuration: --prefix=/usr --extra-version=0ubuntu0.18.04.1 --toolchain=hardened --libdir=/usr/lib/x86_64-linux-gnu --incdir=/usr/include/x86_64-linux-gnu --enable-gpl --disable-stripping --enable-avresample --enable-avisynth --enable-gnutls --enable-ladspa --enable-libass --enable-libbluray --enable-libbs2b --enable-libcaca --enable-libcdio --enable-libflite --enable-libfontconfig --enable-libfreetype --enable-libfribidi --enable-libgme --enable-libgsm --enable-libmp3lame --enable-libmysofa --enable-libopenjpeg --enable-libopenmpt --enable-libopus --enable-libpulse --enable-librubberband --enable-librsvg --enable-libshine --enable-libsnappy --enable-libsoxr --enable-libspeex --enable-libssh --enable-libtheora --enable-libtwolame --enable-libvorbis --enable-libvpx --enable-libwavpack --enable-libwebp --enable-libx265 --enable-libxml2 --enable-libxvid --enable-libzmq --enable-libzvbi --enable-omx --enable-openal --enable-opengl --enable-sdl2 --enable-libdc1394 --enable-libdrm --enable-libiec61883 --enable-chromaprint --enable-frei0r --enable-libopencv --enable-libx264 --enable-shared\n",
      "  libavutil      55. 78.100 / 55. 78.100\n",
      "  libavcodec     57.107.100 / 57.107.100\n",
      "  libavformat    57. 83.100 / 57. 83.100\n",
      "  libavdevice    57. 10.100 / 57. 10.100\n",
      "  libavfilter     6.107.100 /  6.107.100\n",
      "  libavresample   3.  7.  0 /  3.  7.  0\n",
      "  libswscale      4.  8.100 /  4.  8.100\n",
      "  libswresample   2.  9.100 /  2.  9.100\n",
      "  libpostproc    54.  7.100 / 54.  7.100\n",
      "Input #0, mov,mp4,m4a,3gp,3g2,mj2, from '/content/demo_sync.mov':\n",
      "  Metadata:\n",
      "    major_brand     : qt  \n",
      "    minor_version   : 0\n",
      "    compatible_brands: qt  \n",
      "    creation_time   : 2020-04-03T00:19:33.000000Z\n",
      "    com.apple.quicktime.location.ISO6709: +38.6253-090.5469+175.781/\n",
      "    com.apple.quicktime.make: Apple\n",
      "    com.apple.quicktime.model: iPhone X\n",
      "    com.apple.quicktime.software: 13.3.1\n",
      "    com.apple.quicktime.creationdate: 2020-04-02T19:18:24-0500\n",
      "    com.apple.photos.originating.signature: AeNTOcgNQ/FA679XBLgOpeC3Vynj\n",
      "  Duration: 00:00:10.73, start: 0.000000, bitrate: 10833 kb/s\n",
      "    Stream #0:0(und): Audio: aac (LC) (mp4a / 0x6134706D), 44100 Hz, mono, fltp, 99 kb/s (default)\n",
      "    Metadata:\n",
      "      creation_time   : 2020-04-03T00:19:33.000000Z\n",
      "      handler_name    : Core Media Data Handler\n",
      "    Stream #0:1(und): Video: h264 (High) (avc1 / 0x31637661), yuv420p(tv, bt709), 1920x1080 [SAR 1:1 DAR 16:9], 10714 kb/s, 30 fps, 30 tbr, 600 tbn, 1200 tbc (default)\n",
      "    Metadata:\n",
      "      creation_time   : 2020-04-03T00:19:33.000000Z\n",
      "      handler_name    : Core Media Data Handler\n",
      "      encoder         : H.264\n",
      "    Stream #0:2(und): Data: none (mebx / 0x7862656D), 11 kb/s (default)\n",
      "    Metadata:\n",
      "      creation_time   : 2020-04-03T00:19:33.000000Z\n",
      "      handler_name    : Core Media Data Handler\n",
      "    Stream #0:3(und): Data: none (mebx / 0x7862656D), 0 kb/s (default)\n",
      "    Metadata:\n",
      "      creation_time   : 2020-04-03T00:19:33.000000Z\n",
      "      handler_name    : Core Media Data Handler\n",
      "Stream mapping:\n",
      "  Stream #0:0 -> #0:0 (aac (native) -> pcm_s16le (native))\n",
      "Press [q] to stop, [?] for help\n",
      "Output #0, wav, to '/content/tmp/audio.wav':\n",
      "  Metadata:\n",
      "    major_brand     : qt  \n",
      "    minor_version   : 0\n",
      "    compatible_brands: qt  \n",
      "    com.apple.photos.originating.signature: AeNTOcgNQ/FA679XBLgOpeC3Vynj\n",
      "    com.apple.quicktime.location.ISO6709: +38.6253-090.5469+175.781/\n",
      "    com.apple.quicktime.make: Apple\n",
      "    com.apple.quicktime.model: iPhone X\n",
      "    com.apple.quicktime.software: 13.3.1\n",
      "    com.apple.quicktime.creationdate: 2020-04-02T19:18:24-0500\n",
      "    ISFT            : Lavf57.83.100\n",
      "    Stream #0:0(und): Audio: pcm_s16le ([1][0][0][0] / 0x0001), 44100 Hz, stereo, s16, 1411 kb/s (default)\n",
      "    Metadata:\n",
      "      creation_time   : 2020-04-03T00:19:33.000000Z\n",
      "      handler_name    : Core Media Data Handler\n",
      "      encoder         : Lavc57.107.100 pcm_s16le\n",
      "size=    1852kB time=00:00:10.75 bitrate=1411.3kbits/s speed= 921x    \n",
      "video:0kB audio:1852kB subtitle:0kB other streams:0kB global headers:0kB muxing overhead: 0.004113%\n",
      "\n",
      "---------\n",
      "\n",
      "Detected framerate of 30.0\n",
      "Frame rate used: 30.0\n"
     ]
    }
   ],
   "source": [
    "import os\n",
    "import re\n",
    "import subprocess\n",
    "from scipy.io import wavfile\n",
    "\n",
    "# Constants\n",
    "FRAME_QUALITY = 3\n",
    "SAMPLE_RATE = 44100\n",
    "input_file = \"/content/demo_sync.mov\"\n",
    "output_path = \"/content/out.mp4\"\n",
    "temp_path = \"/content/tmp\"\n",
    "\n",
    "# The input images (from video) and generated output images.\n",
    "input_images = os.path.join(temp_path,'input-%d.jpg')\n",
    "output_images = os.path.join(temp_path,'output-%d.jpg')\n",
    "\n",
    "# Create a temporary directory to hold video frames\n",
    "try:  \n",
    "  os.mkdir(temp_path)\n",
    "except OSError:  \n",
    "  print(\"Temp dir already exists.\")\n",
    "\n",
    "# Delete audio file if it already exists\n",
    "audio_file = os.path.join(temp_path,'audio.wav')\n",
    "\n",
    "if os.path.exists(audio_file):\n",
    "  os.remove(audio_file)\n",
    "\n",
    "# First call to ffmpeg extracts the video image frames\n",
    "execute_command(f\"ffmpeg -i {input_file} -qscale:v {FRAME_QUALITY} {input_images} -hide_banner 2>&1\")\n",
    "\n",
    "# Second call to ffmpeg extracts the audio.  We also attempt to get the FPS from\n",
    "# this call.\n",
    "results = execute_command(f\"ffmpeg -i {input_file} -ab 160k -ac 2 -ar {SAMPLE_RATE} -vn {audio_file} 2>&1\")\n",
    "\n",
    "frame_rate = 30 # default, but try to detect\n",
    "for line in results:\n",
    "  m = re.search('Stream #.*Video.* ([0-9]*) fps',line)\n",
    "  if m is not None:\n",
    "    frame_rate = float(m.group(1))\n",
    "    print(f\"Detected framerate of {frame_rate}\")\n",
    "\n",
    "# Report on the frame rate and attempt to obtain audio sample rate.\n",
    "print(f\"Frame rate used: {frame_rate}\")\n",
    "\n",
    "sampleRate, audioData = wavfile.read(audio_file)\n",
    "audioSampleCount = audioData.shape[0]\n",
    "#maxAudioVolume = getMaxVolume(audioData)"
   ]
  },
  {
   "cell_type": "markdown",
   "metadata": {
    "colab_type": "text",
    "id": "5b7OOU9cJU3R"
   },
   "source": [
    "# Process the Video Frames in Some Way\n",
    "\n",
    "In this example we are running each through YOLO.  First load YOLO package."
   ]
  },
  {
   "cell_type": "markdown",
   "metadata": {
    "colab_type": "text",
    "id": "qnaTGp3QKxtg"
   },
   "source": [
    "Process one YOLO image."
   ]
  },
  {
   "cell_type": "code",
   "execution_count": 0,
   "metadata": {
    "colab": {},
    "colab_type": "code",
    "id": "wXfb9dACY0Vh"
   },
   "outputs": [],
   "source": [
    "# Nicely formatted time string\n",
    "def hms_string(sec_elapsed):\n",
    "    h = int(sec_elapsed / (60 * 60))\n",
    "    m = int((sec_elapsed % (60 * 60)) / 60)\n",
    "    s = sec_elapsed % 60\n",
    "    return f\"{h}:{m:>02}:{s:>05.2f}\""
   ]
  },
  {
   "cell_type": "code",
   "execution_count": 0,
   "metadata": {
    "colab": {
     "base_uri": "https://localhost:8080/",
     "height": 86
    },
    "colab_type": "code",
    "id": "x4sXsImjozZm",
    "outputId": "aeee2255-7366-4275-db8f-2d96271d1dff"
   },
   "outputs": [
    {
     "name": "stdout",
     "output_type": "stream",
     "text": [
      "Processed image: 100, video processed: 0:00:03.00\n",
      "Processed image: 200, video processed: 0:00:06.00\n",
      "Processed image: 300, video processed: 0:00:09.00\n",
      "Processed image: 323, video processed: 0:00:09.69\n"
     ]
    }
   ],
   "source": [
    "from PIL import Image, ImageFile, ImageDraw, ImageFont\n",
    "\n",
    "def process_image(img_raw):\n",
    "  pass\n",
    "\n",
    "i = 1\n",
    "done = False\n",
    "frame_length = frame_rate/1000\n",
    "total_video_processed = 0\n",
    "\n",
    "ball_speed = frame_rate/2\n",
    "ball_x = 0\n",
    "ball_y = 0\n",
    "ball_direction_x = ball_speed\n",
    "ball_direction_y = ball_speed\n",
    "\n",
    "while not done:\n",
    "  input_filename = os.path.join(temp_path,f'input-{i}.jpg')\n",
    "  output_filename = os.path.join(temp_path,f'output-{i}.jpg')\n",
    "\n",
    "  if os.path.exists(input_filename):\n",
    "    img = Image.open(input_filename)\n",
    "    img.load()\n",
    "    width, height = img.size\n",
    "    ball_width = (min(width,height) * 0.1)\n",
    "    d = ImageDraw. Draw(img)\n",
    "    d.ellipse((ball_x, ball_y, ball_x+ball_width, ball_y+ball_width), fill=(255, 255, 0), outline=(255, 255, 0))\n",
    "    img. save(output_filename)\n",
    "\n",
    "    ball_x += ball_direction_x\n",
    "    ball_y += ball_direction_y\n",
    "\n",
    "    if ball_x<0: ball_direction_x = ball_speed\n",
    "    if ball_y<0: ball_direction_y = ball_speed\n",
    "    if ball_x>width: ball_direction_x = -ball_speed\n",
    "    if ball_y>height: ball_direction_y = -ball_speed\n",
    "  else:\n",
    "    done = True\n",
    "\n",
    "  total_video_processed += frame_length\n",
    "\n",
    "  if i%100 == 0 or done:\n",
    "    print(f\"Processed image: {i}, video processed: {hms_string(total_video_processed)}\")\n",
    "  i+=1"
   ]
  },
  {
   "cell_type": "markdown",
   "metadata": {
    "colab_type": "text",
    "id": "KP309nBUJOLV"
   },
   "source": [
    "# Build Final Video File\n",
    "\n",
    "At this point we have all of the images generated and audio file.  We use ffmpeg to put it all back together into a video file."
   ]
  },
  {
   "cell_type": "code",
   "execution_count": 0,
   "metadata": {
    "colab": {
     "base_uri": "https://localhost:8080/",
     "height": 1000
    },
    "colab_type": "code",
    "id": "SLuVl4b2ADDt",
    "outputId": "6f07c073-05d5-42ae-af6f-a6ea631c772f"
   },
   "outputs": [
    {
     "name": "stdout",
     "output_type": "stream",
     "text": [
      "Executed command: ffmpeg -framerate 30.0 -i /content/tmp/output-%d.jpg -i /content/tmp/audio.wav -strict -2 /content/out.mp4 2>&1, result:\n",
      "ffmpeg version 3.4.6-0ubuntu0.18.04.1 Copyright (c) 2000-2019 the FFmpeg developers\n",
      "  built with gcc 7 (Ubuntu 7.3.0-16ubuntu3)\n",
      "  configuration: --prefix=/usr --extra-version=0ubuntu0.18.04.1 --toolchain=hardened --libdir=/usr/lib/x86_64-linux-gnu --incdir=/usr/include/x86_64-linux-gnu --enable-gpl --disable-stripping --enable-avresample --enable-avisynth --enable-gnutls --enable-ladspa --enable-libass --enable-libbluray --enable-libbs2b --enable-libcaca --enable-libcdio --enable-libflite --enable-libfontconfig --enable-libfreetype --enable-libfribidi --enable-libgme --enable-libgsm --enable-libmp3lame --enable-libmysofa --enable-libopenjpeg --enable-libopenmpt --enable-libopus --enable-libpulse --enable-librubberband --enable-librsvg --enable-libshine --enable-libsnappy --enable-libsoxr --enable-libspeex --enable-libssh --enable-libtheora --enable-libtwolame --enable-libvorbis --enable-libvpx --enable-libwavpack --enable-libwebp --enable-libx265 --enable-libxml2 --enable-libxvid --enable-libzmq --enable-libzvbi --enable-omx --enable-openal --enable-opengl --enable-sdl2 --enable-libdc1394 --enable-libdrm --enable-libiec61883 --enable-chromaprint --enable-frei0r --enable-libopencv --enable-libx264 --enable-shared\n",
      "  libavutil      55. 78.100 / 55. 78.100\n",
      "  libavcodec     57.107.100 / 57.107.100\n",
      "  libavformat    57. 83.100 / 57. 83.100\n",
      "  libavdevice    57. 10.100 / 57. 10.100\n",
      "  libavfilter     6.107.100 /  6.107.100\n",
      "  libavresample   3.  7.  0 /  3.  7.  0\n",
      "  libswscale      4.  8.100 /  4.  8.100\n",
      "  libswresample   2.  9.100 /  2.  9.100\n",
      "  libpostproc    54.  7.100 / 54.  7.100\n",
      "Input #0, image2, from '/content/tmp/output-%d.jpg':\n",
      "  Duration: 00:00:10.73, start: 0.000000, bitrate: N/A\n",
      "    Stream #0:0: Video: mjpeg, yuvj420p(pc, bt470bg/unknown/unknown), 1920x1080 [SAR 1:1 DAR 16:9], 30 fps, 30 tbr, 30 tbn, 30 tbc\n",
      "Guessed Channel Layout for Input Stream #1.0 : stereo\n",
      "Input #1, wav, from '/content/tmp/audio.wav':\n",
      "  Metadata:\n",
      "    encoder         : Lavf57.83.100\n",
      "  Duration: 00:00:10.75, bitrate: 1411 kb/s\n",
      "    Stream #1:0: Audio: pcm_s16le ([1][0][0][0] / 0x0001), 44100 Hz, stereo, s16, 1411 kb/s\n",
      "Stream mapping:\n",
      "  Stream #0:0 -> #0:0 (mjpeg (native) -> h264 (libx264))\n",
      "  Stream #1:0 -> #0:1 (pcm_s16le (native) -> aac (native))\n",
      "Press [q] to stop, [?] for help\n",
      "[image2 @ 0x55ac74114000] Thread message queue blocking; consider raising the thread_queue_size option (current value: 8)\n",
      "[libx264 @ 0x55ac7411ad00] using SAR=1/1\n",
      "[libx264 @ 0x55ac7411ad00] using cpu capabilities: MMX2 SSE2Fast SSSE3 SSE4.2 AVX FMA3 BMI2 AVX2\n",
      "[libx264 @ 0x55ac7411ad00] profile High, level 4.0\n",
      "[libx264 @ 0x55ac7411ad00] 264 - core 152 r2854 e9a5903 - H.264/MPEG-4 AVC codec - Copyleft 2003-2017 - http://www.videolan.org/x264.html - options: cabac=1 ref=3 deblock=1:0:0 analyse=0x3:0x113 me=hex subme=7 psy=1 psy_rd=1.00:0.00 mixed_ref=1 me_range=16 chroma_me=1 trellis=1 8x8dct=1 cqm=0 deadzone=21,11 fast_pskip=1 chroma_qp_offset=-2 threads=3 lookahead_threads=1 sliced_threads=0 nr=0 decimate=1 interlaced=0 bluray_compat=0 constrained_intra=0 bframes=3 b_pyramid=2 b_adapt=1 b_bias=0 direct=1 weightb=1 open_gop=0 weightp=2 keyint=250 keyint_min=25 scenecut=40 intra_refresh=0 rc_lookahead=40 rc=crf mbtree=1 crf=23.0 qcomp=0.60 qpmin=0 qpmax=69 qpstep=4 ip_ratio=1.40 aq=1:1.00\n",
      "Output #0, mp4, to '/content/out.mp4':\n",
      "  Metadata:\n",
      "    encoder         : Lavf57.83.100\n",
      "    Stream #0:0: Video: h264 (libx264) (avc1 / 0x31637661), yuvj420p(pc, progressive), 1920x1080 [SAR 1:1 DAR 16:9], q=-1--1, 30 fps, 15360 tbn, 30 tbc\n",
      "    Metadata:\n",
      "      encoder         : Lavc57.107.100 libx264\n",
      "    Side data:\n",
      "      cpb: bitrate max/min/avg: 0/0/0 buffer size: 0 vbv_delay: -1\n",
      "    Stream #0:1: Audio: aac (LC) (mp4a / 0x6134706D), 44100 Hz, stereo, fltp, 128 kb/s\n",
      "    Metadata:\n",
      "      encoder         : Lavc57.107.100 aac\n",
      "frame=   47 fps= 42 q=0.0 size=       0kB time=00:00:00.00 bitrate=N/A speed=   0x    \n",
      "frame=   50 fps= 30 q=29.0 size=       0kB time=00:00:00.02 bitrate=  16.5kbits/s speed=0.0137x    \n",
      "frame=   53 fps= 24 q=29.0 size=     256kB time=00:00:00.11 bitrate=18066.6kbits/s speed=0.0523x    \n",
      "frame=   57 fps= 20 q=29.0 size=     256kB time=00:00:00.25 bitrate=8212.1kbits/s speed=0.0904x    \n",
      "frame=   61 fps= 17 q=29.0 size=     512kB time=00:00:00.39 bitrate=10626.5kbits/s speed=0.112x    \n",
      "frame=   65 fps= 16 q=29.0 size=     512kB time=00:00:00.53 bitrate=7854.4kbits/s speed=0.129x    \n",
      "frame=   69 fps= 15 q=29.0 size=     512kB time=00:00:00.65 bitrate=6451.8kbits/s speed=0.137x    \n",
      "frame=   73 fps= 14 q=29.0 size=     768kB time=00:00:00.78 bitrate=7969.6kbits/s speed=0.147x    \n",
      "frame=   77 fps= 13 q=29.0 size=     768kB time=00:00:00.92 bitrate=6774.2kbits/s speed=0.154x    \n",
      "frame=   81 fps= 12 q=29.0 size=    1024kB time=00:00:01.06 bitrate=7854.0kbits/s speed=0.16x    \n",
      "frame=   85 fps= 12 q=29.0 size=    1024kB time=00:00:01.18 bitrate=7084.0kbits/s speed=0.161x    \n",
      "frame=   89 fps= 11 q=29.0 size=    1280kB time=00:00:01.32 bitrate=7922.8kbits/s speed=0.165x    \n",
      "frame=   93 fps= 11 q=29.0 size=    1280kB time=00:00:01.46 bitrate=7168.3kbits/s speed=0.169x    \n",
      "frame=   97 fps= 10 q=29.0 size=    1536kB time=00:00:01.60 bitrate=7853.9kbits/s speed=0.173x    \n",
      "frame=  101 fps= 10 q=29.0 size=    1536kB time=00:00:01.71 bitrate=7323.2kbits/s speed=0.174x    \n",
      "frame=  105 fps= 10 q=29.0 size=    1536kB time=00:00:01.85 bitrate=6774.0kbits/s speed=0.177x    \n",
      "frame=  109 fps=9.7 q=29.0 size=    1792kB time=00:00:01.99 bitrate=7351.6kbits/s speed=0.178x    \n",
      "frame=  113 fps=9.6 q=29.0 size=    1792kB time=00:00:02.13 bitrate=6872.1kbits/s speed=0.181x    \n",
      "frame=  117 fps=9.4 q=29.0 size=    1792kB time=00:00:02.25 bitrate=6517.9kbits/s speed=0.181x    \n",
      "frame=  121 fps=9.3 q=29.0 size=    2048kB time=00:00:02.39 bitrate=7015.1kbits/s speed=0.183x    \n",
      "frame=  125 fps=9.1 q=29.0 size=    2304kB time=00:00:02.53 bitrate=7457.5kbits/s speed=0.185x    \n",
      "frame=  129 fps=9.0 q=29.0 size=    2304kB time=00:00:02.64 bitrate=7130.4kbits/s speed=0.186x    \n",
      "frame=  133 fps=9.0 q=29.0 size=    2304kB time=00:00:02.78 bitrate=6773.9kbits/s speed=0.188x    \n",
      "frame=  137 fps=8.9 q=29.0 size=    2560kB time=00:00:02.92 bitrate=7168.1kbits/s speed=0.189x    \n",
      "frame=  141 fps=8.8 q=29.0 size=    2560kB time=00:00:03.06 bitrate=6842.3kbits/s speed=0.191x    \n",
      "frame=  145 fps=8.7 q=29.0 size=    2560kB time=00:00:03.18 bitrate=6592.6kbits/s speed=0.191x    \n",
      "frame=  149 fps=8.6 q=29.0 size=    2816kB time=00:00:03.32 bitrate=6947.6kbits/s speed=0.192x    \n",
      "frame=  153 fps=8.5 q=29.0 size=    2816kB time=00:00:03.45 bitrate=6667.8kbits/s speed=0.193x    \n",
      "frame=  157 fps=8.5 q=29.0 size=    3072kB time=00:00:03.59 bitrate=6992.4kbits/s speed=0.194x    \n",
      "frame=  161 fps=8.4 q=29.0 size=    3072kB time=00:00:03.71 bitrate=6773.9kbits/s speed=0.194x    \n",
      "frame=  165 fps=8.3 q=29.0 size=    3072kB time=00:00:03.85 bitrate=6529.0kbits/s speed=0.195x    \n",
      "frame=  169 fps=8.3 q=29.0 size=    3328kB time=00:00:03.99 bitrate=6826.4kbits/s speed=0.196x    \n",
      "frame=  173 fps=8.2 q=29.0 size=    3328kB time=00:00:04.13 bitrate=6596.3kbits/s speed=0.196x    \n",
      "frame=  177 fps=8.2 q=29.0 size=    3584kB time=00:00:04.24 bitrate=6909.6kbits/s speed=0.196x    \n",
      "frame=  181 fps=8.1 q=29.0 size=    3584kB time=00:00:04.38 bitrate=6690.2kbits/s speed=0.197x    \n",
      "frame=  185 fps=8.1 q=29.0 size=    3840kB time=00:00:04.52 bitrate=6947.5kbits/s speed=0.198x    \n",
      "frame=  189 fps=8.0 q=29.0 size=    3840kB time=00:00:04.66 bitrate=6740.1kbits/s speed=0.199x    \n",
      "frame=  193 fps=8.0 q=29.0 size=    3840kB time=00:00:04.78 bitrate=6576.5kbits/s speed=0.199x    \n",
      "frame=  197 fps=8.0 q=29.0 size=    4096kB time=00:00:04.92 bitrate=6816.4kbits/s speed= 0.2x    \n",
      "frame=  201 fps=7.9 q=29.0 size=    4096kB time=00:00:05.06 bitrate=6628.8kbits/s speed= 0.2x    \n",
      "frame=  205 fps=7.9 q=29.0 size=    4352kB time=00:00:05.20 bitrate=6854.5kbits/s speed=0.201x    \n",
      "frame=  209 fps=7.9 q=29.0 size=    4352kB time=00:00:05.31 bitrate=6704.8kbits/s speed=0.201x    \n",
      "frame=  213 fps=7.9 q=29.0 size=    4352kB time=00:00:05.45 bitrate=6533.6kbits/s speed=0.201x    \n",
      "frame=  217 fps=7.8 q=29.0 size=    4608kB time=00:00:05.59 bitrate=6745.7kbits/s speed=0.202x    \n",
      "frame=  221 fps=7.8 q=29.0 size=    4608kB time=00:00:05.73 bitrate=6581.9kbits/s speed=0.203x    \n",
      "frame=  225 fps=7.8 q=29.0 size=    4608kB time=00:00:05.85 bitrate=6451.3kbits/s speed=0.202x    \n",
      "frame=  229 fps=7.7 q=29.0 size=    4864kB time=00:00:05.99 bitrate=6651.3kbits/s speed=0.202x    \n",
      "frame=  233 fps=7.7 q=29.0 size=    4864kB time=00:00:06.13 bitrate=6500.1kbits/s speed=0.203x    \n",
      "frame=  237 fps=7.7 q=29.0 size=    5120kB time=00:00:06.26 bitrate=6690.2kbits/s speed=0.204x    \n",
      "frame=  241 fps=7.7 q=29.0 size=    5120kB time=00:00:06.38 bitrate=6568.6kbits/s speed=0.203x    \n",
      "frame=  245 fps=7.7 q=29.0 size=    5376kB time=00:00:06.52 bitrate=6749.7kbits/s speed=0.204x    \n",
      "frame=  249 fps=7.6 q=29.0 size=    5376kB time=00:00:06.66 bitrate=6608.6kbits/s speed=0.205x    \n",
      "frame=  253 fps=7.6 q=29.0 size=    5376kB time=00:00:06.78 bitrate=6495.4kbits/s speed=0.204x    \n",
      "frame=  257 fps=7.6 q=29.0 size=    5632kB time=00:00:06.91 bitrate=6667.7kbits/s speed=0.205x    \n",
      "frame=  261 fps=7.6 q=29.0 size=    5632kB time=00:00:07.05 bitrate=6536.1kbits/s speed=0.205x    \n",
      "frame=  265 fps=7.6 q=29.0 size=    5888kB time=00:00:07.19 bitrate=6701.0kbits/s speed=0.206x    \n",
      "frame=  269 fps=7.6 q=29.0 size=    5888kB time=00:00:07.31 bitrate=6594.6kbits/s speed=0.205x    \n",
      "frame=  273 fps=7.5 q=29.0 size=    5888kB time=00:00:07.45 bitrate=6471.3kbits/s speed=0.206x    \n",
      "frame=  277 fps=7.5 q=29.0 size=    6144kB time=00:00:07.59 bitrate=6628.8kbits/s speed=0.206x    \n",
      "frame=  281 fps=7.5 q=29.0 size=    6144kB time=00:00:07.73 bitrate=6509.4kbits/s speed=0.206x    \n",
      "frame=  285 fps=7.5 q=29.0 size=    6144kB time=00:00:07.84 bitrate=6413.1kbits/s speed=0.206x    \n",
      "frame=  289 fps=7.5 q=29.0 size=    6400kB time=00:00:07.98 bitrate=6563.8kbits/s speed=0.206x    \n",
      "frame=  293 fps=7.4 q=29.0 size=    6400kB time=00:00:08.12 bitrate=6451.2kbits/s speed=0.205x    \n",
      "frame=  299 fps=7.4 q=29.0 size=    6656kB time=00:00:08.33 bitrate=6541.1kbits/s speed=0.207x    \n",
      "frame=  303 fps=7.4 q=29.0 size=    6912kB time=00:00:08.45 bitrate=6699.4kbits/s speed=0.206x    \n",
      "frame=  307 fps=7.4 q=29.0 size=    6912kB time=00:00:08.59 bitrate=6590.7kbits/s speed=0.207x    \n",
      "frame=  311 fps=7.4 q=29.0 size=    7168kB time=00:00:08.73 bitrate=6725.8kbits/s speed=0.207x    \n",
      "frame=  315 fps=7.4 q=29.0 size=    7168kB time=00:00:08.84 bitrate=6637.5kbits/s speed=0.207x    \n",
      "frame=  319 fps=7.3 q=29.0 size=    7168kB time=00:00:08.98 bitrate=6534.6kbits/s speed=0.207x    \n",
      "frame=  322 fps=6.4 q=-1.0 Lsize=    8655kB time=00:00:10.75 bitrate=6594.9kbits/s speed=0.215x    \n",
      "video:8474kB audio:169kB subtitle:0kB other streams:0kB global headers:0kB muxing overhead: 0.147160%\n",
      "[libx264 @ 0x55ac7411ad00] frame I:2     Avg QP:23.33  size:136044\n",
      "[libx264 @ 0x55ac7411ad00] frame P:81    Avg QP:24.27  size: 62701\n",
      "[libx264 @ 0x55ac7411ad00] frame B:239   Avg QP:25.96  size: 13914\n",
      "[libx264 @ 0x55ac7411ad00] consecutive B-frames:  0.9%  0.0%  0.9% 98.1%\n",
      "[libx264 @ 0x55ac7411ad00] mb I  I16..4:  4.4% 93.9%  1.7%\n",
      "[libx264 @ 0x55ac7411ad00] mb P  I16..4:  6.0% 33.1%  0.3%  P16..4: 35.2% 14.4%  7.0%  0.0%  0.0%    skip: 3.9%\n",
      "[libx264 @ 0x55ac7411ad00] mb B  I16..4:  2.0%  7.9%  0.0%  B16..8: 29.6%  3.7%  0.5%  direct: 3.8%  skip:52.4%  L0:46.3% L1:44.4% BI: 9.3%\n",
      "[libx264 @ 0x55ac7411ad00] 8x8 transform intra:82.5% inter:85.0%\n",
      "[libx264 @ 0x55ac7411ad00] coded y,uvDC,uvAC intra: 57.7% 71.4% 7.6% inter: 16.1% 26.8% 0.9%\n",
      "[libx264 @ 0x55ac7411ad00] i16 v,h,dc,p: 25% 33% 15% 28%\n",
      "[libx264 @ 0x55ac7411ad00] i8 v,h,dc,ddl,ddr,vr,hd,vl,hu: 26% 24% 37%  2%  2%  2%  2%  2%  2%\n",
      "[libx264 @ 0x55ac7411ad00] i4 v,h,dc,ddl,ddr,vr,hd,vl,hu: 27% 23% 16%  4%  8%  6%  7%  4%  4%\n",
      "[libx264 @ 0x55ac7411ad00] i8c dc,h,v,p: 46% 29% 22%  3%\n",
      "[libx264 @ 0x55ac7411ad00] Weighted P-Frames: Y:0.0% UV:0.0%\n",
      "[libx264 @ 0x55ac7411ad00] ref P L0: 46.3% 14.3% 32.2%  7.2%\n",
      "[libx264 @ 0x55ac7411ad00] ref B L0: 83.8% 12.8%  3.3%\n",
      "[libx264 @ 0x55ac7411ad00] ref B L1: 95.7%  4.3%\n",
      "[libx264 @ 0x55ac7411ad00] kb/s:6466.82\n",
      "[aac @ 0x55ac74198000] Qavg: 11340.331\n",
      "\n",
      "---------\n",
      "\n"
     ]
    },
    {
     "data": {
      "text/plain": [
       "['ffmpeg version 3.4.6-0ubuntu0.18.04.1 Copyright (c) 2000-2019 the FFmpeg developers',\n",
       " '  built with gcc 7 (Ubuntu 7.3.0-16ubuntu3)',\n",
       " '  configuration: --prefix=/usr --extra-version=0ubuntu0.18.04.1 --toolchain=hardened --libdir=/usr/lib/x86_64-linux-gnu --incdir=/usr/include/x86_64-linux-gnu --enable-gpl --disable-stripping --enable-avresample --enable-avisynth --enable-gnutls --enable-ladspa --enable-libass --enable-libbluray --enable-libbs2b --enable-libcaca --enable-libcdio --enable-libflite --enable-libfontconfig --enable-libfreetype --enable-libfribidi --enable-libgme --enable-libgsm --enable-libmp3lame --enable-libmysofa --enable-libopenjpeg --enable-libopenmpt --enable-libopus --enable-libpulse --enable-librubberband --enable-librsvg --enable-libshine --enable-libsnappy --enable-libsoxr --enable-libspeex --enable-libssh --enable-libtheora --enable-libtwolame --enable-libvorbis --enable-libvpx --enable-libwavpack --enable-libwebp --enable-libx265 --enable-libxml2 --enable-libxvid --enable-libzmq --enable-libzvbi --enable-omx --enable-openal --enable-opengl --enable-sdl2 --enable-libdc1394 --enable-libdrm --enable-libiec61883 --enable-chromaprint --enable-frei0r --enable-libopencv --enable-libx264 --enable-shared',\n",
       " '  libavutil      55. 78.100 / 55. 78.100',\n",
       " '  libavcodec     57.107.100 / 57.107.100',\n",
       " '  libavformat    57. 83.100 / 57. 83.100',\n",
       " '  libavdevice    57. 10.100 / 57. 10.100',\n",
       " '  libavfilter     6.107.100 /  6.107.100',\n",
       " '  libavresample   3.  7.  0 /  3.  7.  0',\n",
       " '  libswscale      4.  8.100 /  4.  8.100',\n",
       " '  libswresample   2.  9.100 /  2.  9.100',\n",
       " '  libpostproc    54.  7.100 / 54.  7.100',\n",
       " \"Input #0, image2, from '/content/tmp/output-%d.jpg':\",\n",
       " '  Duration: 00:00:10.73, start: 0.000000, bitrate: N/A',\n",
       " '    Stream #0:0: Video: mjpeg, yuvj420p(pc, bt470bg/unknown/unknown), 1920x1080 [SAR 1:1 DAR 16:9], 30 fps, 30 tbr, 30 tbn, 30 tbc',\n",
       " 'Guessed Channel Layout for Input Stream #1.0 : stereo',\n",
       " \"Input #1, wav, from '/content/tmp/audio.wav':\",\n",
       " '  Metadata:',\n",
       " '    encoder         : Lavf57.83.100',\n",
       " '  Duration: 00:00:10.75, bitrate: 1411 kb/s',\n",
       " '    Stream #1:0: Audio: pcm_s16le ([1][0][0][0] / 0x0001), 44100 Hz, stereo, s16, 1411 kb/s',\n",
       " 'Stream mapping:',\n",
       " '  Stream #0:0 -> #0:0 (mjpeg (native) -> h264 (libx264))',\n",
       " '  Stream #1:0 -> #0:1 (pcm_s16le (native) -> aac (native))',\n",
       " 'Press [q] to stop, [?] for help',\n",
       " '[image2 @ 0x55ac74114000] Thread message queue blocking; consider raising the thread_queue_size option (current value: 8)',\n",
       " '[libx264 @ 0x55ac7411ad00] using SAR=1/1',\n",
       " '[libx264 @ 0x55ac7411ad00] using cpu capabilities: MMX2 SSE2Fast SSSE3 SSE4.2 AVX FMA3 BMI2 AVX2',\n",
       " '[libx264 @ 0x55ac7411ad00] profile High, level 4.0',\n",
       " '[libx264 @ 0x55ac7411ad00] 264 - core 152 r2854 e9a5903 - H.264/MPEG-4 AVC codec - Copyleft 2003-2017 - http://www.videolan.org/x264.html - options: cabac=1 ref=3 deblock=1:0:0 analyse=0x3:0x113 me=hex subme=7 psy=1 psy_rd=1.00:0.00 mixed_ref=1 me_range=16 chroma_me=1 trellis=1 8x8dct=1 cqm=0 deadzone=21,11 fast_pskip=1 chroma_qp_offset=-2 threads=3 lookahead_threads=1 sliced_threads=0 nr=0 decimate=1 interlaced=0 bluray_compat=0 constrained_intra=0 bframes=3 b_pyramid=2 b_adapt=1 b_bias=0 direct=1 weightb=1 open_gop=0 weightp=2 keyint=250 keyint_min=25 scenecut=40 intra_refresh=0 rc_lookahead=40 rc=crf mbtree=1 crf=23.0 qcomp=0.60 qpmin=0 qpmax=69 qpstep=4 ip_ratio=1.40 aq=1:1.00',\n",
       " \"Output #0, mp4, to '/content/out.mp4':\",\n",
       " '  Metadata:',\n",
       " '    encoder         : Lavf57.83.100',\n",
       " '    Stream #0:0: Video: h264 (libx264) (avc1 / 0x31637661), yuvj420p(pc, progressive), 1920x1080 [SAR 1:1 DAR 16:9], q=-1--1, 30 fps, 15360 tbn, 30 tbc',\n",
       " '    Metadata:',\n",
       " '      encoder         : Lavc57.107.100 libx264',\n",
       " '    Side data:',\n",
       " '      cpb: bitrate max/min/avg: 0/0/0 buffer size: 0 vbv_delay: -1',\n",
       " '    Stream #0:1: Audio: aac (LC) (mp4a / 0x6134706D), 44100 Hz, stereo, fltp, 128 kb/s',\n",
       " '    Metadata:',\n",
       " '      encoder         : Lavc57.107.100 aac',\n",
       " 'frame=   47 fps= 42 q=0.0 size=       0kB time=00:00:00.00 bitrate=N/A speed=   0x    ',\n",
       " 'frame=   50 fps= 30 q=29.0 size=       0kB time=00:00:00.02 bitrate=  16.5kbits/s speed=0.0137x    ',\n",
       " 'frame=   53 fps= 24 q=29.0 size=     256kB time=00:00:00.11 bitrate=18066.6kbits/s speed=0.0523x    ',\n",
       " 'frame=   57 fps= 20 q=29.0 size=     256kB time=00:00:00.25 bitrate=8212.1kbits/s speed=0.0904x    ',\n",
       " 'frame=   61 fps= 17 q=29.0 size=     512kB time=00:00:00.39 bitrate=10626.5kbits/s speed=0.112x    ',\n",
       " 'frame=   65 fps= 16 q=29.0 size=     512kB time=00:00:00.53 bitrate=7854.4kbits/s speed=0.129x    ',\n",
       " 'frame=   69 fps= 15 q=29.0 size=     512kB time=00:00:00.65 bitrate=6451.8kbits/s speed=0.137x    ',\n",
       " 'frame=   73 fps= 14 q=29.0 size=     768kB time=00:00:00.78 bitrate=7969.6kbits/s speed=0.147x    ',\n",
       " 'frame=   77 fps= 13 q=29.0 size=     768kB time=00:00:00.92 bitrate=6774.2kbits/s speed=0.154x    ',\n",
       " 'frame=   81 fps= 12 q=29.0 size=    1024kB time=00:00:01.06 bitrate=7854.0kbits/s speed=0.16x    ',\n",
       " 'frame=   85 fps= 12 q=29.0 size=    1024kB time=00:00:01.18 bitrate=7084.0kbits/s speed=0.161x    ',\n",
       " 'frame=   89 fps= 11 q=29.0 size=    1280kB time=00:00:01.32 bitrate=7922.8kbits/s speed=0.165x    ',\n",
       " 'frame=   93 fps= 11 q=29.0 size=    1280kB time=00:00:01.46 bitrate=7168.3kbits/s speed=0.169x    ',\n",
       " 'frame=   97 fps= 10 q=29.0 size=    1536kB time=00:00:01.60 bitrate=7853.9kbits/s speed=0.173x    ',\n",
       " 'frame=  101 fps= 10 q=29.0 size=    1536kB time=00:00:01.71 bitrate=7323.2kbits/s speed=0.174x    ',\n",
       " 'frame=  105 fps= 10 q=29.0 size=    1536kB time=00:00:01.85 bitrate=6774.0kbits/s speed=0.177x    ',\n",
       " 'frame=  109 fps=9.7 q=29.0 size=    1792kB time=00:00:01.99 bitrate=7351.6kbits/s speed=0.178x    ',\n",
       " 'frame=  113 fps=9.6 q=29.0 size=    1792kB time=00:00:02.13 bitrate=6872.1kbits/s speed=0.181x    ',\n",
       " 'frame=  117 fps=9.4 q=29.0 size=    1792kB time=00:00:02.25 bitrate=6517.9kbits/s speed=0.181x    ',\n",
       " 'frame=  121 fps=9.3 q=29.0 size=    2048kB time=00:00:02.39 bitrate=7015.1kbits/s speed=0.183x    ',\n",
       " 'frame=  125 fps=9.1 q=29.0 size=    2304kB time=00:00:02.53 bitrate=7457.5kbits/s speed=0.185x    ',\n",
       " 'frame=  129 fps=9.0 q=29.0 size=    2304kB time=00:00:02.64 bitrate=7130.4kbits/s speed=0.186x    ',\n",
       " 'frame=  133 fps=9.0 q=29.0 size=    2304kB time=00:00:02.78 bitrate=6773.9kbits/s speed=0.188x    ',\n",
       " 'frame=  137 fps=8.9 q=29.0 size=    2560kB time=00:00:02.92 bitrate=7168.1kbits/s speed=0.189x    ',\n",
       " 'frame=  141 fps=8.8 q=29.0 size=    2560kB time=00:00:03.06 bitrate=6842.3kbits/s speed=0.191x    ',\n",
       " 'frame=  145 fps=8.7 q=29.0 size=    2560kB time=00:00:03.18 bitrate=6592.6kbits/s speed=0.191x    ',\n",
       " 'frame=  149 fps=8.6 q=29.0 size=    2816kB time=00:00:03.32 bitrate=6947.6kbits/s speed=0.192x    ',\n",
       " 'frame=  153 fps=8.5 q=29.0 size=    2816kB time=00:00:03.45 bitrate=6667.8kbits/s speed=0.193x    ',\n",
       " 'frame=  157 fps=8.5 q=29.0 size=    3072kB time=00:00:03.59 bitrate=6992.4kbits/s speed=0.194x    ',\n",
       " 'frame=  161 fps=8.4 q=29.0 size=    3072kB time=00:00:03.71 bitrate=6773.9kbits/s speed=0.194x    ',\n",
       " 'frame=  165 fps=8.3 q=29.0 size=    3072kB time=00:00:03.85 bitrate=6529.0kbits/s speed=0.195x    ',\n",
       " 'frame=  169 fps=8.3 q=29.0 size=    3328kB time=00:00:03.99 bitrate=6826.4kbits/s speed=0.196x    ',\n",
       " 'frame=  173 fps=8.2 q=29.0 size=    3328kB time=00:00:04.13 bitrate=6596.3kbits/s speed=0.196x    ',\n",
       " 'frame=  177 fps=8.2 q=29.0 size=    3584kB time=00:00:04.24 bitrate=6909.6kbits/s speed=0.196x    ',\n",
       " 'frame=  181 fps=8.1 q=29.0 size=    3584kB time=00:00:04.38 bitrate=6690.2kbits/s speed=0.197x    ',\n",
       " 'frame=  185 fps=8.1 q=29.0 size=    3840kB time=00:00:04.52 bitrate=6947.5kbits/s speed=0.198x    ',\n",
       " 'frame=  189 fps=8.0 q=29.0 size=    3840kB time=00:00:04.66 bitrate=6740.1kbits/s speed=0.199x    ',\n",
       " 'frame=  193 fps=8.0 q=29.0 size=    3840kB time=00:00:04.78 bitrate=6576.5kbits/s speed=0.199x    ',\n",
       " 'frame=  197 fps=8.0 q=29.0 size=    4096kB time=00:00:04.92 bitrate=6816.4kbits/s speed= 0.2x    ',\n",
       " 'frame=  201 fps=7.9 q=29.0 size=    4096kB time=00:00:05.06 bitrate=6628.8kbits/s speed= 0.2x    ',\n",
       " 'frame=  205 fps=7.9 q=29.0 size=    4352kB time=00:00:05.20 bitrate=6854.5kbits/s speed=0.201x    ',\n",
       " 'frame=  209 fps=7.9 q=29.0 size=    4352kB time=00:00:05.31 bitrate=6704.8kbits/s speed=0.201x    ',\n",
       " 'frame=  213 fps=7.9 q=29.0 size=    4352kB time=00:00:05.45 bitrate=6533.6kbits/s speed=0.201x    ',\n",
       " 'frame=  217 fps=7.8 q=29.0 size=    4608kB time=00:00:05.59 bitrate=6745.7kbits/s speed=0.202x    ',\n",
       " 'frame=  221 fps=7.8 q=29.0 size=    4608kB time=00:00:05.73 bitrate=6581.9kbits/s speed=0.203x    ',\n",
       " 'frame=  225 fps=7.8 q=29.0 size=    4608kB time=00:00:05.85 bitrate=6451.3kbits/s speed=0.202x    ',\n",
       " 'frame=  229 fps=7.7 q=29.0 size=    4864kB time=00:00:05.99 bitrate=6651.3kbits/s speed=0.202x    ',\n",
       " 'frame=  233 fps=7.7 q=29.0 size=    4864kB time=00:00:06.13 bitrate=6500.1kbits/s speed=0.203x    ',\n",
       " 'frame=  237 fps=7.7 q=29.0 size=    5120kB time=00:00:06.26 bitrate=6690.2kbits/s speed=0.204x    ',\n",
       " 'frame=  241 fps=7.7 q=29.0 size=    5120kB time=00:00:06.38 bitrate=6568.6kbits/s speed=0.203x    ',\n",
       " 'frame=  245 fps=7.7 q=29.0 size=    5376kB time=00:00:06.52 bitrate=6749.7kbits/s speed=0.204x    ',\n",
       " 'frame=  249 fps=7.6 q=29.0 size=    5376kB time=00:00:06.66 bitrate=6608.6kbits/s speed=0.205x    ',\n",
       " 'frame=  253 fps=7.6 q=29.0 size=    5376kB time=00:00:06.78 bitrate=6495.4kbits/s speed=0.204x    ',\n",
       " 'frame=  257 fps=7.6 q=29.0 size=    5632kB time=00:00:06.91 bitrate=6667.7kbits/s speed=0.205x    ',\n",
       " 'frame=  261 fps=7.6 q=29.0 size=    5632kB time=00:00:07.05 bitrate=6536.1kbits/s speed=0.205x    ',\n",
       " 'frame=  265 fps=7.6 q=29.0 size=    5888kB time=00:00:07.19 bitrate=6701.0kbits/s speed=0.206x    ',\n",
       " 'frame=  269 fps=7.6 q=29.0 size=    5888kB time=00:00:07.31 bitrate=6594.6kbits/s speed=0.205x    ',\n",
       " 'frame=  273 fps=7.5 q=29.0 size=    5888kB time=00:00:07.45 bitrate=6471.3kbits/s speed=0.206x    ',\n",
       " 'frame=  277 fps=7.5 q=29.0 size=    6144kB time=00:00:07.59 bitrate=6628.8kbits/s speed=0.206x    ',\n",
       " 'frame=  281 fps=7.5 q=29.0 size=    6144kB time=00:00:07.73 bitrate=6509.4kbits/s speed=0.206x    ',\n",
       " 'frame=  285 fps=7.5 q=29.0 size=    6144kB time=00:00:07.84 bitrate=6413.1kbits/s speed=0.206x    ',\n",
       " 'frame=  289 fps=7.5 q=29.0 size=    6400kB time=00:00:07.98 bitrate=6563.8kbits/s speed=0.206x    ',\n",
       " 'frame=  293 fps=7.4 q=29.0 size=    6400kB time=00:00:08.12 bitrate=6451.2kbits/s speed=0.205x    ',\n",
       " 'frame=  299 fps=7.4 q=29.0 size=    6656kB time=00:00:08.33 bitrate=6541.1kbits/s speed=0.207x    ',\n",
       " 'frame=  303 fps=7.4 q=29.0 size=    6912kB time=00:00:08.45 bitrate=6699.4kbits/s speed=0.206x    ',\n",
       " 'frame=  307 fps=7.4 q=29.0 size=    6912kB time=00:00:08.59 bitrate=6590.7kbits/s speed=0.207x    ',\n",
       " 'frame=  311 fps=7.4 q=29.0 size=    7168kB time=00:00:08.73 bitrate=6725.8kbits/s speed=0.207x    ',\n",
       " 'frame=  315 fps=7.4 q=29.0 size=    7168kB time=00:00:08.84 bitrate=6637.5kbits/s speed=0.207x    ',\n",
       " 'frame=  319 fps=7.3 q=29.0 size=    7168kB time=00:00:08.98 bitrate=6534.6kbits/s speed=0.207x    ',\n",
       " 'frame=  322 fps=6.4 q=-1.0 Lsize=    8655kB time=00:00:10.75 bitrate=6594.9kbits/s speed=0.215x    ',\n",
       " 'video:8474kB audio:169kB subtitle:0kB other streams:0kB global headers:0kB muxing overhead: 0.147160%',\n",
       " '[libx264 @ 0x55ac7411ad00] frame I:2     Avg QP:23.33  size:136044',\n",
       " '[libx264 @ 0x55ac7411ad00] frame P:81    Avg QP:24.27  size: 62701',\n",
       " '[libx264 @ 0x55ac7411ad00] frame B:239   Avg QP:25.96  size: 13914',\n",
       " '[libx264 @ 0x55ac7411ad00] consecutive B-frames:  0.9%  0.0%  0.9% 98.1%',\n",
       " '[libx264 @ 0x55ac7411ad00] mb I  I16..4:  4.4% 93.9%  1.7%',\n",
       " '[libx264 @ 0x55ac7411ad00] mb P  I16..4:  6.0% 33.1%  0.3%  P16..4: 35.2% 14.4%  7.0%  0.0%  0.0%    skip: 3.9%',\n",
       " '[libx264 @ 0x55ac7411ad00] mb B  I16..4:  2.0%  7.9%  0.0%  B16..8: 29.6%  3.7%  0.5%  direct: 3.8%  skip:52.4%  L0:46.3% L1:44.4% BI: 9.3%',\n",
       " '[libx264 @ 0x55ac7411ad00] 8x8 transform intra:82.5% inter:85.0%',\n",
       " '[libx264 @ 0x55ac7411ad00] coded y,uvDC,uvAC intra: 57.7% 71.4% 7.6% inter: 16.1% 26.8% 0.9%',\n",
       " '[libx264 @ 0x55ac7411ad00] i16 v,h,dc,p: 25% 33% 15% 28%',\n",
       " '[libx264 @ 0x55ac7411ad00] i8 v,h,dc,ddl,ddr,vr,hd,vl,hu: 26% 24% 37%  2%  2%  2%  2%  2%  2%',\n",
       " '[libx264 @ 0x55ac7411ad00] i4 v,h,dc,ddl,ddr,vr,hd,vl,hu: 27% 23% 16%  4%  8%  6%  7%  4%  4%',\n",
       " '[libx264 @ 0x55ac7411ad00] i8c dc,h,v,p: 46% 29% 22%  3%',\n",
       " '[libx264 @ 0x55ac7411ad00] Weighted P-Frames: Y:0.0% UV:0.0%',\n",
       " '[libx264 @ 0x55ac7411ad00] ref P L0: 46.3% 14.3% 32.2%  7.2%',\n",
       " '[libx264 @ 0x55ac7411ad00] ref B L0: 83.8% 12.8%  3.3%',\n",
       " '[libx264 @ 0x55ac7411ad00] ref B L1: 95.7%  4.3%',\n",
       " '[libx264 @ 0x55ac7411ad00] kb/s:6466.82',\n",
       " '[aac @ 0x55ac74198000] Qavg: 11340.331',\n",
       " '']"
      ]
     },
     "execution_count": 12,
     "metadata": {
      "tags": []
     },
     "output_type": "execute_result"
    }
   ],
   "source": [
    "if os.path.exists(output_path):\n",
    "  os.remove(output_path)\n",
    "\n",
    "execute_command(f\"ffmpeg -framerate {frame_rate} -i {output_images} -i {audio_file} -strict -2 {output_path} 2>&1\")"
   ]
  },
  {
   "cell_type": "markdown",
   "metadata": {
    "colab_type": "text",
    "id": "pgEd7VQ4LHkM"
   },
   "source": [
    "You might get an error running the following cell (failed to fetch) if you run it too quickly after ffmpeg finishes.  Try rerunning just this cell.  You should get a file named out.mp4 downloaded."
   ]
  },
  {
   "cell_type": "code",
   "execution_count": 0,
   "metadata": {
    "colab": {},
    "colab_type": "code",
    "id": "ag7bwPI8IheV"
   },
   "outputs": [],
   "source": [
    "files.download(output_path)"
   ]
  },
  {
   "cell_type": "code",
   "execution_count": 0,
   "metadata": {
    "colab": {
     "base_uri": "https://localhost:8080/",
     "height": 35
    },
    "colab_type": "code",
    "id": "yiW4LtWN2QnA",
    "outputId": "08ff31a4-d5f4-467a-c1d8-e5fde3a5d000"
   },
   "outputs": [
    {
     "data": {
      "text/plain": [
       "'/content/out.mp4'"
      ]
     },
     "execution_count": 13,
     "metadata": {
      "tags": []
     },
     "output_type": "execute_result"
    }
   ],
   "source": [
    "output_path"
   ]
  },
  {
   "cell_type": "code",
   "execution_count": 0,
   "metadata": {
    "colab": {
     "base_uri": "https://localhost:8080/",
     "height": 35
    },
    "colab_type": "code",
    "id": "yN1rBuzS4ZV9",
    "outputId": "e94b0acc-2cee-459c-f4f4-628fef07bdc7"
   },
   "outputs": [
    {
     "name": "stdout",
     "output_type": "stream",
     "text": [
      "-rw-r--r-- 1 root root 8809429 Apr  6 14:10 /content/out.mp4\n"
     ]
    }
   ],
   "source": [
    "!ls -l /content/out.mp4"
   ]
  }
 ],
 "metadata": {
  "colab": {
   "collapsed_sections": [],
   "name": "convert-video-basic.ipynb",
   "provenance": []
  },
  "kernelspec": {
   "display_name": "Python 3",
   "language": "python",
   "name": "python3"
  },
  "language_info": {
   "codemirror_mode": {
    "name": "ipython",
    "version": 3
   },
   "file_extension": ".py",
   "mimetype": "text/x-python",
   "name": "python",
   "nbconvert_exporter": "python",
   "pygments_lexer": "ipython3",
   "version": "3.6.9"
  }
 },
 "nbformat": 4,
 "nbformat_minor": 1
}
