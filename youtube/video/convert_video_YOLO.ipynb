{
 "cells": [
  {
   "cell_type": "markdown",
   "metadata": {
    "colab_type": "text",
    "id": "weH-SnufHoty"
   },
   "source": [
    "<a href=\"https://colab.research.google.com/github/jeffheaton/t81_558_deep_learning/blob/master/youtube/video/convert_video_basic.ipynb\" target=\"_parent\"><img src=\"https://colab.research.google.com/assets/colab-badge.svg\" alt=\"Open In Colab\"/></a>"
   ]
  },
  {
   "cell_type": "markdown",
   "metadata": {
    "colab_type": "text",
    "id": "27d4L6g4sPkx"
   },
   "source": [
    "# Augmenting Video with FFMPEG\n",
    "\n",
    "The code given in this utility runs the video through YOLO and put boxes around objects that YOLO recognizes.  The resolution and audio of the original video are maintained.  This code is a starting point for other offline reality augmentation projects that might use TensorFlow and video processing.  This script is based on [ffmpeg](https://en.wikipedia.org/wiki/FFmpeg), and assumes you have it installed.\n",
    "\n",
    "Some other useful links:\n",
    "\n",
    "* [YouTube Video About this Utility]()\n",
    "* [More Basic Example of this Utility](https://github.com/jeffheaton/present/blob/master/youtube/video/convert_video_basic.ipynb)\n",
    "* [GitHub Repository for this Utility](https://github.com/jeffheaton/present/blob/master/youtube/video/convert_video_basic.ipynb)\n",
    "* [FFMPEG](https://www.ffmpeg.org/)\n",
    "\n",
    "The following code allows you to upload a video file to this utility. This utility is designed to be run from Google CoLab.  Make sure to use a GPU for maxamum performance."
   ]
  },
  {
   "cell_type": "code",
   "execution_count": 0,
   "metadata": {
    "colab": {
     "base_uri": "https://localhost:8080/",
     "height": 89,
     "resources": {
      "http://localhost:8080/nbextensions/google.colab/files.js": {
       "data": "Ly8gQ29weXJpZ2h0IDIwMTcgR29vZ2xlIExMQwovLwovLyBMaWNlbnNlZCB1bmRlciB0aGUgQXBhY2hlIExpY2Vuc2UsIFZlcnNpb24gMi4wICh0aGUgIkxpY2Vuc2UiKTsKLy8geW91IG1heSBub3QgdXNlIHRoaXMgZmlsZSBleGNlcHQgaW4gY29tcGxpYW5jZSB3aXRoIHRoZSBMaWNlbnNlLgovLyBZb3UgbWF5IG9idGFpbiBhIGNvcHkgb2YgdGhlIExpY2Vuc2UgYXQKLy8KLy8gICAgICBodHRwOi8vd3d3LmFwYWNoZS5vcmcvbGljZW5zZXMvTElDRU5TRS0yLjAKLy8KLy8gVW5sZXNzIHJlcXVpcmVkIGJ5IGFwcGxpY2FibGUgbGF3IG9yIGFncmVlZCB0byBpbiB3cml0aW5nLCBzb2Z0d2FyZQovLyBkaXN0cmlidXRlZCB1bmRlciB0aGUgTGljZW5zZSBpcyBkaXN0cmlidXRlZCBvbiBhbiAiQVMgSVMiIEJBU0lTLAovLyBXSVRIT1VUIFdBUlJBTlRJRVMgT1IgQ09ORElUSU9OUyBPRiBBTlkgS0lORCwgZWl0aGVyIGV4cHJlc3Mgb3IgaW1wbGllZC4KLy8gU2VlIHRoZSBMaWNlbnNlIGZvciB0aGUgc3BlY2lmaWMgbGFuZ3VhZ2UgZ292ZXJuaW5nIHBlcm1pc3Npb25zIGFuZAovLyBsaW1pdGF0aW9ucyB1bmRlciB0aGUgTGljZW5zZS4KCi8qKgogKiBAZmlsZW92ZXJ2aWV3IEhlbHBlcnMgZm9yIGdvb2dsZS5jb2xhYiBQeXRob24gbW9kdWxlLgogKi8KKGZ1bmN0aW9uKHNjb3BlKSB7CmZ1bmN0aW9uIHNwYW4odGV4dCwgc3R5bGVBdHRyaWJ1dGVzID0ge30pIHsKICBjb25zdCBlbGVtZW50ID0gZG9jdW1lbnQuY3JlYXRlRWxlbWVudCgnc3BhbicpOwogIGVsZW1lbnQudGV4dENvbnRlbnQgPSB0ZXh0OwogIGZvciAoY29uc3Qga2V5IG9mIE9iamVjdC5rZXlzKHN0eWxlQXR0cmlidXRlcykpIHsKICAgIGVsZW1lbnQuc3R5bGVba2V5XSA9IHN0eWxlQXR0cmlidXRlc1trZXldOwogIH0KICByZXR1cm4gZWxlbWVudDsKfQoKLy8gTWF4IG51bWJlciBvZiBieXRlcyB3aGljaCB3aWxsIGJlIHVwbG9hZGVkIGF0IGEgdGltZS4KY29uc3QgTUFYX1BBWUxPQURfU0laRSA9IDEwMCAqIDEwMjQ7Ci8vIE1heCBhbW91bnQgb2YgdGltZSB0byBibG9jayB3YWl0aW5nIGZvciB0aGUgdXNlci4KY29uc3QgRklMRV9DSEFOR0VfVElNRU9VVF9NUyA9IDMwICogMTAwMDsKCmZ1bmN0aW9uIF91cGxvYWRGaWxlcyhpbnB1dElkLCBvdXRwdXRJZCkgewogIGNvbnN0IHN0ZXBzID0gdXBsb2FkRmlsZXNTdGVwKGlucHV0SWQsIG91dHB1dElkKTsKICBjb25zdCBvdXRwdXRFbGVtZW50ID0gZG9jdW1lbnQuZ2V0RWxlbWVudEJ5SWQob3V0cHV0SWQpOwogIC8vIENhY2hlIHN0ZXBzIG9uIHRoZSBvdXRwdXRFbGVtZW50IHRvIG1ha2UgaXQgYXZhaWxhYmxlIGZvciB0aGUgbmV4dCBjYWxsCiAgLy8gdG8gdXBsb2FkRmlsZXNDb250aW51ZSBmcm9tIFB5dGhvbi4KICBvdXRwdXRFbGVtZW50LnN0ZXBzID0gc3RlcHM7CgogIHJldHVybiBfdXBsb2FkRmlsZXNDb250aW51ZShvdXRwdXRJZCk7Cn0KCi8vIFRoaXMgaXMgcm91Z2hseSBhbiBhc3luYyBnZW5lcmF0b3IgKG5vdCBzdXBwb3J0ZWQgaW4gdGhlIGJyb3dzZXIgeWV0KSwKLy8gd2hlcmUgdGhlcmUgYXJlIG11bHRpcGxlIGFzeW5jaHJvbm91cyBzdGVwcyBhbmQgdGhlIFB5dGhvbiBzaWRlIGlzIGdvaW5nCi8vIHRvIHBvbGwgZm9yIGNvbXBsZXRpb24gb2YgZWFjaCBzdGVwLgovLyBUaGlzIHVzZXMgYSBQcm9taXNlIHRvIGJsb2NrIHRoZSBweXRob24gc2lkZSBvbiBjb21wbGV0aW9uIG9mIGVhY2ggc3RlcCwKLy8gdGhlbiBwYXNzZXMgdGhlIHJlc3VsdCBvZiB0aGUgcHJldmlvdXMgc3RlcCBhcyB0aGUgaW5wdXQgdG8gdGhlIG5leHQgc3RlcC4KZnVuY3Rpb24gX3VwbG9hZEZpbGVzQ29udGludWUob3V0cHV0SWQpIHsKICBjb25zdCBvdXRwdXRFbGVtZW50ID0gZG9jdW1lbnQuZ2V0RWxlbWVudEJ5SWQob3V0cHV0SWQpOwogIGNvbnN0IHN0ZXBzID0gb3V0cHV0RWxlbWVudC5zdGVwczsKCiAgY29uc3QgbmV4dCA9IHN0ZXBzLm5leHQob3V0cHV0RWxlbWVudC5sYXN0UHJvbWlzZVZhbHVlKTsKICByZXR1cm4gUHJvbWlzZS5yZXNvbHZlKG5leHQudmFsdWUucHJvbWlzZSkudGhlbigodmFsdWUpID0+IHsKICAgIC8vIENhY2hlIHRoZSBsYXN0IHByb21pc2UgdmFsdWUgdG8gbWFrZSBpdCBhdmFpbGFibGUgdG8gdGhlIG5leHQKICAgIC8vIHN0ZXAgb2YgdGhlIGdlbmVyYXRvci4KICAgIG91dHB1dEVsZW1lbnQubGFzdFByb21pc2VWYWx1ZSA9IHZhbHVlOwogICAgcmV0dXJuIG5leHQudmFsdWUucmVzcG9uc2U7CiAgfSk7Cn0KCi8qKgogKiBHZW5lcmF0b3IgZnVuY3Rpb24gd2hpY2ggaXMgY2FsbGVkIGJldHdlZW4gZWFjaCBhc3luYyBzdGVwIG9mIHRoZSB1cGxvYWQKICogcHJvY2Vzcy4KICogQHBhcmFtIHtzdHJpbmd9IGlucHV0SWQgRWxlbWVudCBJRCBvZiB0aGUgaW5wdXQgZmlsZSBwaWNrZXIgZWxlbWVudC4KICogQHBhcmFtIHtzdHJpbmd9IG91dHB1dElkIEVsZW1lbnQgSUQgb2YgdGhlIG91dHB1dCBkaXNwbGF5LgogKiBAcmV0dXJuIHshSXRlcmFibGU8IU9iamVjdD59IEl0ZXJhYmxlIG9mIG5leHQgc3RlcHMuCiAqLwpmdW5jdGlvbiogdXBsb2FkRmlsZXNTdGVwKGlucHV0SWQsIG91dHB1dElkKSB7CiAgY29uc3QgaW5wdXRFbGVtZW50ID0gZG9jdW1lbnQuZ2V0RWxlbWVudEJ5SWQoaW5wdXRJZCk7CiAgaW5wdXRFbGVtZW50LmRpc2FibGVkID0gZmFsc2U7CgogIGNvbnN0IG91dHB1dEVsZW1lbnQgPSBkb2N1bWVudC5nZXRFbGVtZW50QnlJZChvdXRwdXRJZCk7CiAgb3V0cHV0RWxlbWVudC5pbm5lckhUTUwgPSAnJzsKCiAgY29uc3QgcGlja2VkUHJvbWlzZSA9IG5ldyBQcm9taXNlKChyZXNvbHZlKSA9PiB7CiAgICBpbnB1dEVsZW1lbnQuYWRkRXZlbnRMaXN0ZW5lcignY2hhbmdlJywgKGUpID0+IHsKICAgICAgcmVzb2x2ZShlLnRhcmdldC5maWxlcyk7CiAgICB9KTsKICB9KTsKCiAgY29uc3QgY2FuY2VsID0gZG9jdW1lbnQuY3JlYXRlRWxlbWVudCgnYnV0dG9uJyk7CiAgaW5wdXRFbGVtZW50LnBhcmVudEVsZW1lbnQuYXBwZW5kQ2hpbGQoY2FuY2VsKTsKICBjYW5jZWwudGV4dENvbnRlbnQgPSAnQ2FuY2VsIHVwbG9hZCc7CiAgY29uc3QgY2FuY2VsUHJvbWlzZSA9IG5ldyBQcm9taXNlKChyZXNvbHZlKSA9PiB7CiAgICBjYW5jZWwub25jbGljayA9ICgpID0+IHsKICAgICAgcmVzb2x2ZShudWxsKTsKICAgIH07CiAgfSk7CgogIC8vIENhbmNlbCB1cGxvYWQgaWYgdXNlciBoYXNuJ3QgcGlja2VkIGFueXRoaW5nIGluIHRpbWVvdXQuCiAgY29uc3QgdGltZW91dFByb21pc2UgPSBuZXcgUHJvbWlzZSgocmVzb2x2ZSkgPT4gewogICAgc2V0VGltZW91dCgoKSA9PiB7CiAgICAgIHJlc29sdmUobnVsbCk7CiAgICB9LCBGSUxFX0NIQU5HRV9USU1FT1VUX01TKTsKICB9KTsKCiAgLy8gV2FpdCBmb3IgdGhlIHVzZXIgdG8gcGljayB0aGUgZmlsZXMuCiAgY29uc3QgZmlsZXMgPSB5aWVsZCB7CiAgICBwcm9taXNlOiBQcm9taXNlLnJhY2UoW3BpY2tlZFByb21pc2UsIHRpbWVvdXRQcm9taXNlLCBjYW5jZWxQcm9taXNlXSksCiAgICByZXNwb25zZTogewogICAgICBhY3Rpb246ICdzdGFydGluZycsCiAgICB9CiAgfTsKCiAgaWYgKCFmaWxlcykgewogICAgcmV0dXJuIHsKICAgICAgcmVzcG9uc2U6IHsKICAgICAgICBhY3Rpb246ICdjb21wbGV0ZScsCiAgICAgIH0KICAgIH07CiAgfQoKICBjYW5jZWwucmVtb3ZlKCk7CgogIC8vIERpc2FibGUgdGhlIGlucHV0IGVsZW1lbnQgc2luY2UgZnVydGhlciBwaWNrcyBhcmUgbm90IGFsbG93ZWQuCiAgaW5wdXRFbGVtZW50LmRpc2FibGVkID0gdHJ1ZTsKCiAgZm9yIChjb25zdCBmaWxlIG9mIGZpbGVzKSB7CiAgICBjb25zdCBsaSA9IGRvY3VtZW50LmNyZWF0ZUVsZW1lbnQoJ2xpJyk7CiAgICBsaS5hcHBlbmQoc3BhbihmaWxlLm5hbWUsIHtmb250V2VpZ2h0OiAnYm9sZCd9KSk7CiAgICBsaS5hcHBlbmQoc3BhbigKICAgICAgICBgKCR7ZmlsZS50eXBlIHx8ICduL2EnfSkgLSAke2ZpbGUuc2l6ZX0gYnl0ZXMsIGAgKwogICAgICAgIGBsYXN0IG1vZGlmaWVkOiAkewogICAgICAgICAgICBmaWxlLmxhc3RNb2RpZmllZERhdGUgPyBmaWxlLmxhc3RNb2RpZmllZERhdGUudG9Mb2NhbGVEYXRlU3RyaW5nKCkgOgogICAgICAgICAgICAgICAgICAgICAgICAgICAgICAgICAgICAnbi9hJ30gLSBgKSk7CiAgICBjb25zdCBwZXJjZW50ID0gc3BhbignMCUgZG9uZScpOwogICAgbGkuYXBwZW5kQ2hpbGQocGVyY2VudCk7CgogICAgb3V0cHV0RWxlbWVudC5hcHBlbmRDaGlsZChsaSk7CgogICAgY29uc3QgZmlsZURhdGFQcm9taXNlID0gbmV3IFByb21pc2UoKHJlc29sdmUpID0+IHsKICAgICAgY29uc3QgcmVhZGVyID0gbmV3IEZpbGVSZWFkZXIoKTsKICAgICAgcmVhZGVyLm9ubG9hZCA9IChlKSA9PiB7CiAgICAgICAgcmVzb2x2ZShlLnRhcmdldC5yZXN1bHQpOwogICAgICB9OwogICAgICByZWFkZXIucmVhZEFzQXJyYXlCdWZmZXIoZmlsZSk7CiAgICB9KTsKICAgIC8vIFdhaXQgZm9yIHRoZSBkYXRhIHRvIGJlIHJlYWR5LgogICAgbGV0IGZpbGVEYXRhID0geWllbGQgewogICAgICBwcm9taXNlOiBmaWxlRGF0YVByb21pc2UsCiAgICAgIHJlc3BvbnNlOiB7CiAgICAgICAgYWN0aW9uOiAnY29udGludWUnLAogICAgICB9CiAgICB9OwoKICAgIC8vIFVzZSBhIGNodW5rZWQgc2VuZGluZyB0byBhdm9pZCBtZXNzYWdlIHNpemUgbGltaXRzLiBTZWUgYi82MjExNTY2MC4KICAgIGxldCBwb3NpdGlvbiA9IDA7CiAgICB3aGlsZSAocG9zaXRpb24gPCBmaWxlRGF0YS5ieXRlTGVuZ3RoKSB7CiAgICAgIGNvbnN0IGxlbmd0aCA9IE1hdGgubWluKGZpbGVEYXRhLmJ5dGVMZW5ndGggLSBwb3NpdGlvbiwgTUFYX1BBWUxPQURfU0laRSk7CiAgICAgIGNvbnN0IGNodW5rID0gbmV3IFVpbnQ4QXJyYXkoZmlsZURhdGEsIHBvc2l0aW9uLCBsZW5ndGgpOwogICAgICBwb3NpdGlvbiArPSBsZW5ndGg7CgogICAgICBjb25zdCBiYXNlNjQgPSBidG9hKFN0cmluZy5mcm9tQ2hhckNvZGUuYXBwbHkobnVsbCwgY2h1bmspKTsKICAgICAgeWllbGQgewogICAgICAgIHJlc3BvbnNlOiB7CiAgICAgICAgICBhY3Rpb246ICdhcHBlbmQnLAogICAgICAgICAgZmlsZTogZmlsZS5uYW1lLAogICAgICAgICAgZGF0YTogYmFzZTY0LAogICAgICAgIH0sCiAgICAgIH07CiAgICAgIHBlcmNlbnQudGV4dENvbnRlbnQgPQogICAgICAgICAgYCR7TWF0aC5yb3VuZCgocG9zaXRpb24gLyBmaWxlRGF0YS5ieXRlTGVuZ3RoKSAqIDEwMCl9JSBkb25lYDsKICAgIH0KICB9CgogIC8vIEFsbCBkb25lLgogIHlpZWxkIHsKICAgIHJlc3BvbnNlOiB7CiAgICAgIGFjdGlvbjogJ2NvbXBsZXRlJywKICAgIH0KICB9Owp9CgpzY29wZS5nb29nbGUgPSBzY29wZS5nb29nbGUgfHwge307CnNjb3BlLmdvb2dsZS5jb2xhYiA9IHNjb3BlLmdvb2dsZS5jb2xhYiB8fCB7fTsKc2NvcGUuZ29vZ2xlLmNvbGFiLl9maWxlcyA9IHsKICBfdXBsb2FkRmlsZXMsCiAgX3VwbG9hZEZpbGVzQ29udGludWUsCn07Cn0pKHNlbGYpOwo=",
       "headers": [
        [
         "content-type",
         "application/javascript"
        ]
       ],
       "ok": true,
       "status": 200,
       "status_text": ""
      }
     }
    },
    "colab_type": "code",
    "id": "_FtkyHK1sL2V",
    "outputId": "1b99eed6-553e-43dd-a14e-c447f0dca739"
   },
   "outputs": [
    {
     "data": {
      "text/html": [
       "\n",
       "     <input type=\"file\" id=\"files-097e438b-02fe-4f84-894d-0bd9800010d5\" name=\"files[]\" multiple disabled />\n",
       "     <output id=\"result-097e438b-02fe-4f84-894d-0bd9800010d5\">\n",
       "      Upload widget is only available when the cell has been executed in the\n",
       "      current browser session. Please rerun this cell to enable.\n",
       "      </output>\n",
       "      <script src=\"/nbextensions/google.colab/files.js\"></script> "
      ],
      "text/plain": [
       "<IPython.core.display.HTML object>"
      ]
     },
     "metadata": {
      "tags": []
     },
     "output_type": "display_data"
    },
    {
     "name": "stdout",
     "output_type": "stream",
     "text": [
      "Saving demo_sync.mov to demo_sync.mov\n",
      "Uploaded: /content/demo_sync.mov\n"
     ]
    }
   ],
   "source": [
    "import os\n",
    "from google.colab import files\n",
    "\n",
    "uploaded = files.upload()\n",
    "\n",
    "if len(uploaded)>1:\n",
    "  print(\"Warning: you should only upload one video file. Only one will be processed.\")\n",
    "\n",
    "for name in uploaded.keys():\n",
    "  data = uploaded[name]\n",
    "  path = os.path.join('/content/',name)\n",
    "  print(f\"Uploaded: {path}\")\n",
    "  with open(path,\"wb\") as fp:\n",
    "    fp.write(data)\n",
    "    input_file = path"
   ]
  },
  {
   "cell_type": "markdown",
   "metadata": {
    "colab_type": "text",
    "id": "X31fWf3ILh7W"
   },
   "source": [
    "This Python code runs a given command from the shell.  The primary purpose of this function is to run ffmpeg and capture its output collected for display, even in a Jupyter notebook.  This function creates a temporary to capture the output, I would prefer to use a string to capture the output, but was not able to get that working in CoLab.  If anyone has suggestions, please push a change or post an issue with a suggestion."
   ]
  },
  {
   "cell_type": "code",
   "execution_count": 0,
   "metadata": {
    "colab": {},
    "colab_type": "code",
    "id": "oJLjx52AVL7D"
   },
   "outputs": [],
   "source": [
    "def execute_command(cmd):\n",
    "  with open(\"temp.txt\", 'w') as fp:\n",
    "    subprocess.call(cmd, shell=True, stdout=fp)\n",
    "\n",
    "  with open(\"temp.txt\", 'r') as fp:\n",
    "    result = fp.read()\n",
    "\n",
    "  print(f\"Executed command: {cmd}, result:\")\n",
    "  print(result)\n",
    "  print(\"---------\\n\")\n",
    "  return result.split('\\n')"
   ]
  },
  {
   "cell_type": "markdown",
   "metadata": {
    "colab_type": "text",
    "id": "S2V0QxdCJRCJ"
   },
   "source": [
    "Next we call ffmpeg to convert the input video into a series of JPEG files and a .wav file that contains the audio.  We also query the file to determine the frames per second (FPS).  If we cannot determine FPS, 30 are assumed."
   ]
  },
  {
   "cell_type": "code",
   "execution_count": 0,
   "metadata": {
    "colab": {
     "base_uri": "https://localhost:8080/",
     "height": 1000
    },
    "colab_type": "code",
    "id": "GxpFOSh7sdpe",
    "outputId": "22527895-42ae-4cb2-a2ad-ef52a97bdd34"
   },
   "outputs": [
    {
     "name": "stdout",
     "output_type": "stream",
     "text": [
      "Executed command: ffmpeg -i /content/demo_sync.mov -qscale:v 3 /content/tmp/input-%d.jpg -hide_banner 2>&1, result:\n",
      "Input #0, mov,mp4,m4a,3gp,3g2,mj2, from '/content/demo_sync.mov':\n",
      "  Metadata:\n",
      "    major_brand     : qt  \n",
      "    minor_version   : 0\n",
      "    compatible_brands: qt  \n",
      "    creation_time   : 2020-04-03T00:19:33.000000Z\n",
      "    com.apple.quicktime.location.ISO6709: +38.6253-090.5469+175.781/\n",
      "    com.apple.quicktime.make: Apple\n",
      "    com.apple.quicktime.model: iPhone X\n",
      "    com.apple.quicktime.software: 13.3.1\n",
      "    com.apple.quicktime.creationdate: 2020-04-02T19:18:24-0500\n",
      "    com.apple.photos.originating.signature: AeNTOcgNQ/FA679XBLgOpeC3Vynj\n",
      "  Duration: 00:00:10.73, start: 0.000000, bitrate: 10833 kb/s\n",
      "    Stream #0:0(und): Audio: aac (LC) (mp4a / 0x6134706D), 44100 Hz, mono, fltp, 99 kb/s (default)\n",
      "    Metadata:\n",
      "      creation_time   : 2020-04-03T00:19:33.000000Z\n",
      "      handler_name    : Core Media Data Handler\n",
      "    Stream #0:1(und): Video: h264 (High) (avc1 / 0x31637661), yuv420p(tv, bt709), 1920x1080 [SAR 1:1 DAR 16:9], 10714 kb/s, 30 fps, 30 tbr, 600 tbn, 1200 tbc (default)\n",
      "    Metadata:\n",
      "      creation_time   : 2020-04-03T00:19:33.000000Z\n",
      "      handler_name    : Core Media Data Handler\n",
      "      encoder         : H.264\n",
      "    Stream #0:2(und): Data: none (mebx / 0x7862656D), 11 kb/s (default)\n",
      "    Metadata:\n",
      "      creation_time   : 2020-04-03T00:19:33.000000Z\n",
      "      handler_name    : Core Media Data Handler\n",
      "    Stream #0:3(und): Data: none (mebx / 0x7862656D), 0 kb/s (default)\n",
      "    Metadata:\n",
      "      creation_time   : 2020-04-03T00:19:33.000000Z\n",
      "      handler_name    : Core Media Data Handler\n",
      "Stream mapping:\n",
      "  Stream #0:1 -> #0:0 (h264 (native) -> mjpeg (native))\n",
      "Press [q] to stop, [?] for help\n",
      "[swscaler @ 0x561974640000] deprecated pixel format used, make sure you did set range correctly\n",
      "Output #0, image2, to '/content/tmp/input-%d.jpg':\n",
      "  Metadata:\n",
      "    major_brand     : qt  \n",
      "    minor_version   : 0\n",
      "    compatible_brands: qt  \n",
      "    com.apple.photos.originating.signature: AeNTOcgNQ/FA679XBLgOpeC3Vynj\n",
      "    com.apple.quicktime.location.ISO6709: +38.6253-090.5469+175.781/\n",
      "    com.apple.quicktime.make: Apple\n",
      "    com.apple.quicktime.model: iPhone X\n",
      "    com.apple.quicktime.software: 13.3.1\n",
      "    com.apple.quicktime.creationdate: 2020-04-02T19:18:24-0500\n",
      "    encoder         : Lavf57.83.100\n",
      "    Stream #0:0(und): Video: mjpeg, yuvj420p(pc), 1920x1080 [SAR 1:1 DAR 16:9], q=2-31, 200 kb/s, 30 fps, 30 tbn, 30 tbc (default)\n",
      "    Metadata:\n",
      "      creation_time   : 2020-04-03T00:19:33.000000Z\n",
      "      handler_name    : Core Media Data Handler\n",
      "      encoder         : Lavc57.107.100 mjpeg\n",
      "    Side data:\n",
      "      cpb: bitrate max/min/avg: 0/0/200000 buffer size: 0 vbv_delay: -1\n",
      "frame=   21 fps=0.0 q=3.0 size=N/A time=00:00:00.63 bitrate=N/A speed=1.25x    \n",
      "frame=   44 fps= 43 q=3.0 size=N/A time=00:00:01.40 bitrate=N/A speed=1.38x    \n",
      "frame=   68 fps= 44 q=3.0 size=N/A time=00:00:02.20 bitrate=N/A speed=1.42x    \n",
      "frame=   91 fps= 44 q=3.0 size=N/A time=00:00:02.96 bitrate=N/A speed=1.44x    \n",
      "frame=  115 fps= 44 q=3.0 size=N/A time=00:00:03.76 bitrate=N/A speed=1.45x    \n",
      "frame=  138 fps= 44 q=3.0 size=N/A time=00:00:04.53 bitrate=N/A speed=1.46x    \n",
      "frame=  162 fps= 45 q=3.0 size=N/A time=00:00:05.33 bitrate=N/A speed=1.47x    \n",
      "frame=  185 fps= 45 q=3.0 size=N/A time=00:00:06.10 bitrate=N/A speed=1.47x    \n",
      "frame=  208 fps= 45 q=3.0 size=N/A time=00:00:06.86 bitrate=N/A speed=1.48x    \n",
      "frame=  231 fps= 45 q=3.0 size=N/A time=00:00:07.63 bitrate=N/A speed=1.48x    \n",
      "frame=  255 fps= 45 q=3.0 size=N/A time=00:00:08.43 bitrate=N/A speed=1.49x    \n",
      "frame=  278 fps= 45 q=3.0 size=N/A time=00:00:09.20 bitrate=N/A speed=1.49x    \n",
      "frame=  301 fps= 45 q=3.0 size=N/A time=00:00:09.96 bitrate=N/A speed=1.48x    \n",
      "frame=  322 fps= 45 q=3.0 Lsize=N/A time=00:00:10.73 bitrate=N/A speed=1.49x    \n",
      "video:53011kB audio:0kB subtitle:0kB other streams:0kB global headers:0kB muxing overhead: unknown\n",
      "\n",
      "---------\n",
      "\n",
      "Executed command: ffmpeg -i /content/demo_sync.mov -ab 160k -ac 2 -ar 44100 -vn /content/tmp/audio.wav 2>&1, result:\n",
      "ffmpeg version 3.4.6-0ubuntu0.18.04.1 Copyright (c) 2000-2019 the FFmpeg developers\n",
      "  built with gcc 7 (Ubuntu 7.3.0-16ubuntu3)\n",
      "  configuration: --prefix=/usr --extra-version=0ubuntu0.18.04.1 --toolchain=hardened --libdir=/usr/lib/x86_64-linux-gnu --incdir=/usr/include/x86_64-linux-gnu --enable-gpl --disable-stripping --enable-avresample --enable-avisynth --enable-gnutls --enable-ladspa --enable-libass --enable-libbluray --enable-libbs2b --enable-libcaca --enable-libcdio --enable-libflite --enable-libfontconfig --enable-libfreetype --enable-libfribidi --enable-libgme --enable-libgsm --enable-libmp3lame --enable-libmysofa --enable-libopenjpeg --enable-libopenmpt --enable-libopus --enable-libpulse --enable-librubberband --enable-librsvg --enable-libshine --enable-libsnappy --enable-libsoxr --enable-libspeex --enable-libssh --enable-libtheora --enable-libtwolame --enable-libvorbis --enable-libvpx --enable-libwavpack --enable-libwebp --enable-libx265 --enable-libxml2 --enable-libxvid --enable-libzmq --enable-libzvbi --enable-omx --enable-openal --enable-opengl --enable-sdl2 --enable-libdc1394 --enable-libdrm --enable-libiec61883 --enable-chromaprint --enable-frei0r --enable-libopencv --enable-libx264 --enable-shared\n",
      "  libavutil      55. 78.100 / 55. 78.100\n",
      "  libavcodec     57.107.100 / 57.107.100\n",
      "  libavformat    57. 83.100 / 57. 83.100\n",
      "  libavdevice    57. 10.100 / 57. 10.100\n",
      "  libavfilter     6.107.100 /  6.107.100\n",
      "  libavresample   3.  7.  0 /  3.  7.  0\n",
      "  libswscale      4.  8.100 /  4.  8.100\n",
      "  libswresample   2.  9.100 /  2.  9.100\n",
      "  libpostproc    54.  7.100 / 54.  7.100\n",
      "Input #0, mov,mp4,m4a,3gp,3g2,mj2, from '/content/demo_sync.mov':\n",
      "  Metadata:\n",
      "    major_brand     : qt  \n",
      "    minor_version   : 0\n",
      "    compatible_brands: qt  \n",
      "    creation_time   : 2020-04-03T00:19:33.000000Z\n",
      "    com.apple.quicktime.location.ISO6709: +38.6253-090.5469+175.781/\n",
      "    com.apple.quicktime.make: Apple\n",
      "    com.apple.quicktime.model: iPhone X\n",
      "    com.apple.quicktime.software: 13.3.1\n",
      "    com.apple.quicktime.creationdate: 2020-04-02T19:18:24-0500\n",
      "    com.apple.photos.originating.signature: AeNTOcgNQ/FA679XBLgOpeC3Vynj\n",
      "  Duration: 00:00:10.73, start: 0.000000, bitrate: 10833 kb/s\n",
      "    Stream #0:0(und): Audio: aac (LC) (mp4a / 0x6134706D), 44100 Hz, mono, fltp, 99 kb/s (default)\n",
      "    Metadata:\n",
      "      creation_time   : 2020-04-03T00:19:33.000000Z\n",
      "      handler_name    : Core Media Data Handler\n",
      "    Stream #0:1(und): Video: h264 (High) (avc1 / 0x31637661), yuv420p(tv, bt709), 1920x1080 [SAR 1:1 DAR 16:9], 10714 kb/s, 30 fps, 30 tbr, 600 tbn, 1200 tbc (default)\n",
      "    Metadata:\n",
      "      creation_time   : 2020-04-03T00:19:33.000000Z\n",
      "      handler_name    : Core Media Data Handler\n",
      "      encoder         : H.264\n",
      "    Stream #0:2(und): Data: none (mebx / 0x7862656D), 11 kb/s (default)\n",
      "    Metadata:\n",
      "      creation_time   : 2020-04-03T00:19:33.000000Z\n",
      "      handler_name    : Core Media Data Handler\n",
      "    Stream #0:3(und): Data: none (mebx / 0x7862656D), 0 kb/s (default)\n",
      "    Metadata:\n",
      "      creation_time   : 2020-04-03T00:19:33.000000Z\n",
      "      handler_name    : Core Media Data Handler\n",
      "Stream mapping:\n",
      "  Stream #0:0 -> #0:0 (aac (native) -> pcm_s16le (native))\n",
      "Press [q] to stop, [?] for help\n",
      "Output #0, wav, to '/content/tmp/audio.wav':\n",
      "  Metadata:\n",
      "    major_brand     : qt  \n",
      "    minor_version   : 0\n",
      "    compatible_brands: qt  \n",
      "    com.apple.photos.originating.signature: AeNTOcgNQ/FA679XBLgOpeC3Vynj\n",
      "    com.apple.quicktime.location.ISO6709: +38.6253-090.5469+175.781/\n",
      "    com.apple.quicktime.make: Apple\n",
      "    com.apple.quicktime.model: iPhone X\n",
      "    com.apple.quicktime.software: 13.3.1\n",
      "    com.apple.quicktime.creationdate: 2020-04-02T19:18:24-0500\n",
      "    ISFT            : Lavf57.83.100\n",
      "    Stream #0:0(und): Audio: pcm_s16le ([1][0][0][0] / 0x0001), 44100 Hz, stereo, s16, 1411 kb/s (default)\n",
      "    Metadata:\n",
      "      creation_time   : 2020-04-03T00:19:33.000000Z\n",
      "      handler_name    : Core Media Data Handler\n",
      "      encoder         : Lavc57.107.100 pcm_s16le\n",
      "size=    1852kB time=00:00:10.75 bitrate=1411.3kbits/s speed= 990x    \n",
      "video:0kB audio:1852kB subtitle:0kB other streams:0kB global headers:0kB muxing overhead: 0.004113%\n",
      "\n",
      "---------\n",
      "\n",
      "Detected framerate of 30.0\n",
      "Frame rate used: 30.0\n"
     ]
    }
   ],
   "source": [
    "import os\n",
    "import re\n",
    "import subprocess\n",
    "from scipy.io import wavfile\n",
    "\n",
    "# Constants\n",
    "FRAME_QUALITY = 3\n",
    "SAMPLE_RATE = 44100\n",
    "input_file = \"/content/demo_sync.mov\"\n",
    "output_path = \"/content/out.mp4\"\n",
    "temp_path = \"/content/tmp\"\n",
    "\n",
    "# The input images (from video) and generated output images.\n",
    "input_images = os.path.join(temp_path,'input-%d.jpg')\n",
    "output_images = os.path.join(temp_path,'output-%d.jpg')\n",
    "\n",
    "# Create a temporary directory to hold video frames\n",
    "try:  \n",
    "  os.mkdir(temp_path)\n",
    "except OSError:  \n",
    "  print(\"Temp dir already exists.\")\n",
    "\n",
    "# Delete audio file if it already exists\n",
    "audio_file = os.path.join(temp_path,'audio.wav')\n",
    "\n",
    "if os.path.exists(audio_file):\n",
    "  os.remove(audio_file)\n",
    "\n",
    "# First call to ffmpeg extracts the video image frames\n",
    "execute_command(f\"ffmpeg -i {input_file} -qscale:v {FRAME_QUALITY} {input_images} -hide_banner 2>&1\")\n",
    "\n",
    "# Second call to ffmpeg extracts the audio.  We also attempt to get the FPS from\n",
    "# this call.\n",
    "results = execute_command(f\"ffmpeg -i {input_file} -ab 160k -ac 2 -ar {SAMPLE_RATE} -vn {audio_file} 2>&1\")\n",
    "\n",
    "frame_rate = 30 # default, but try to detect\n",
    "for line in results:\n",
    "  m = re.search('Stream #.*Video.* ([0-9]*) fps',line)\n",
    "  if m is not None:\n",
    "    frame_rate = float(m.group(1))\n",
    "    print(f\"Detected framerate of {frame_rate}\")\n",
    "\n",
    "# Report on the frame rate and attempt to obtain audio sample rate.\n",
    "print(f\"Frame rate used: {frame_rate}\")\n",
    "\n",
    "sampleRate, audioData = wavfile.read(audio_file)\n",
    "audioSampleCount = audioData.shape[0]\n",
    "#maxAudioVolume = getMaxVolume(audioData)"
   ]
  },
  {
   "cell_type": "markdown",
   "metadata": {
    "colab_type": "text",
    "id": "5b7OOU9cJU3R"
   },
   "source": [
    "# Process the Video Frames in Some Way\n",
    "\n",
    "In this example we are running each through YOLO.  First load YOLO package."
   ]
  },
  {
   "cell_type": "code",
   "execution_count": 0,
   "metadata": {
    "colab": {
     "base_uri": "https://localhost:8080/",
     "height": 210
    },
    "colab_type": "code",
    "id": "OYpkKi-BAiQ_",
    "outputId": "98a77e9a-97e1-4ba4-9991-559501f5aced"
   },
   "outputs": [
    {
     "name": "stdout",
     "output_type": "stream",
     "text": [
      "Collecting git+https://github.com/zzh8829/yolov3-tf2.git@master\n",
      "  Cloning https://github.com/zzh8829/yolov3-tf2.git (to revision master) to /tmp/pip-req-build-0qeeun3l\n",
      "  Running command git clone -q https://github.com/zzh8829/yolov3-tf2.git /tmp/pip-req-build-0qeeun3l\n",
      "Building wheels for collected packages: yolov3-tf2\n",
      "  Building wheel for yolov3-tf2 (setup.py) ... \u001b[?25l\u001b[?25hdone\n",
      "  Created wheel for yolov3-tf2: filename=yolov3_tf2-0.1-cp36-none-any.whl size=9219 sha256=b84eef6dfa384721b6543565868cb0dcded3bb21d63535ec917a98ab457a405c\n",
      "  Stored in directory: /tmp/pip-ephem-wheel-cache-wx7doukt/wheels/59/1b/97/905ab51e9c0330efe8c3c518aff17de4ee91100412cd6dd553\n",
      "Successfully built yolov3-tf2\n",
      "Installing collected packages: yolov3-tf2\n",
      "Successfully installed yolov3-tf2-0.1\n"
     ]
    }
   ],
   "source": [
    "%tensorflow_version 2.x\n",
    "import sys\n",
    "\n",
    "!{sys.executable} -m pip install git+https://github.com/zzh8829/yolov3-tf2.git@master"
   ]
  },
  {
   "cell_type": "markdown",
   "metadata": {
    "colab_type": "text",
    "id": "h0NhCPSHKGVv"
   },
   "source": [
    "Now download YOLO weights, this might take 5-10 minutes, even on CoLab."
   ]
  },
  {
   "cell_type": "code",
   "execution_count": 0,
   "metadata": {
    "colab": {
     "base_uri": "https://localhost:8080/",
     "height": 141
    },
    "colab_type": "code",
    "id": "4LkizLV1B7V1",
    "outputId": "55b308f6-142f-4df4-bdb7-e1f0634e3947"
   },
   "outputs": [
    {
     "name": "stdout",
     "output_type": "stream",
     "text": [
      "Downloading data from https://pjreddie.com/media/files/yolov3.weights\n",
      "248012800/248007048 [==============================] - 358s 1us/step\n",
      "Downloading data from https://raw.githubusercontent.com/zzh8829/yolov3-tf2/master/convert.py\n",
      "8192/1067 [======================================================================================================================================================================================================================================] - 0s 0us/step\n",
      "Downloading data from https://raw.githubusercontent.com/zzh8829/yolov3-tf2/master/data/coco.names\n",
      "8192/625 [=========================================================================================================================================================================================================================================================================================================================================================================================================] - 0s 0us/step\n"
     ]
    }
   ],
   "source": [
    "import tensorflow as tf\n",
    "import os\n",
    "\n",
    "ROOT = '/content'\n",
    "\n",
    "filename_darknet_weights = tf.keras.utils.get_file(\n",
    "    os.path.join(ROOT,'yolov3.weights'),\n",
    "    origin='https://pjreddie.com/media/files/yolov3.weights')\n",
    "TINY = False\n",
    "\n",
    "filename_convert_script = tf.keras.utils.get_file(\n",
    "    os.path.join(os.getcwd(),'convert.py'),\n",
    "    origin='https://raw.githubusercontent.com/zzh8829/yolov3-tf2/master/convert.py')\n",
    "\n",
    "filename_classes = tf.keras.utils.get_file(\n",
    "    os.path.join(ROOT,'coco.names'),\n",
    "    origin='https://raw.githubusercontent.com/zzh8829/yolov3-tf2/master/data/coco.names')\n",
    "filename_converted_weights = os.path.join(ROOT,'yolov3.tf')"
   ]
  },
  {
   "cell_type": "markdown",
   "metadata": {
    "colab_type": "text",
    "id": "avO9C93pKNz6"
   },
   "source": [
    "Transform weights into a format usable by TensorFlow."
   ]
  },
  {
   "cell_type": "code",
   "execution_count": 0,
   "metadata": {
    "colab": {
     "base_uri": "https://localhost:8080/",
     "height": 1000
    },
    "colab_type": "code",
    "id": "IzNuEJziKKMU",
    "outputId": "a4b7dbde-e7fe-4b94-c48d-16cb000ee9fe"
   },
   "outputs": [
    {
     "name": "stdout",
     "output_type": "stream",
     "text": [
      "2020-04-06 01:32:03.397347: W tensorflow/core/common_runtime/gpu/gpu_bfc_allocator.cc:39] Overriding allow_growth setting because the TF_FORCE_GPU_ALLOW_GROWTH environment variable is set. Original config value was 0.\n",
      "Model: \"yolov3\"\n",
      "__________________________________________________________________________________________________\n",
      "Layer (type)                    Output Shape         Param #     Connected to                     \n",
      "==================================================================================================\n",
      "input (InputLayer)              [(None, None, None,  0                                            \n",
      "__________________________________________________________________________________________________\n",
      "yolo_darknet (Model)            ((None, None, None,  40620640    input[0][0]                      \n",
      "__________________________________________________________________________________________________\n",
      "yolo_conv_0 (Model)             (None, None, None, 5 11024384    yolo_darknet[1][2]               \n",
      "__________________________________________________________________________________________________\n",
      "yolo_conv_1 (Model)             (None, None, None, 2 2957312     yolo_conv_0[1][0]                \n",
      "                                                                 yolo_darknet[1][1]               \n",
      "__________________________________________________________________________________________________\n",
      "yolo_conv_2 (Model)             (None, None, None, 1 741376      yolo_conv_1[1][0]                \n",
      "                                                                 yolo_darknet[1][0]               \n",
      "__________________________________________________________________________________________________\n",
      "yolo_output_0 (Model)           (None, None, None, 3 4984063     yolo_conv_0[1][0]                \n",
      "__________________________________________________________________________________________________\n",
      "yolo_output_1 (Model)           (None, None, None, 3 1312511     yolo_conv_1[1][0]                \n",
      "__________________________________________________________________________________________________\n",
      "yolo_output_2 (Model)           (None, None, None, 3 361471      yolo_conv_2[1][0]                \n",
      "__________________________________________________________________________________________________\n",
      "yolo_boxes_0 (Lambda)           ((None, None, None,  0           yolo_output_0[1][0]              \n",
      "__________________________________________________________________________________________________\n",
      "yolo_boxes_1 (Lambda)           ((None, None, None,  0           yolo_output_1[1][0]              \n",
      "__________________________________________________________________________________________________\n",
      "yolo_boxes_2 (Lambda)           ((None, None, None,  0           yolo_output_2[1][0]              \n",
      "__________________________________________________________________________________________________\n",
      "yolo_nms (Lambda)               ((None, 100, 4), (No 0           yolo_boxes_0[0][0]               \n",
      "                                                                 yolo_boxes_0[0][1]               \n",
      "                                                                 yolo_boxes_0[0][2]               \n",
      "                                                                 yolo_boxes_1[0][0]               \n",
      "                                                                 yolo_boxes_1[0][1]               \n",
      "                                                                 yolo_boxes_1[0][2]               \n",
      "                                                                 yolo_boxes_2[0][0]               \n",
      "                                                                 yolo_boxes_2[0][1]               \n",
      "                                                                 yolo_boxes_2[0][2]               \n",
      "==================================================================================================\n",
      "Total params: 62,001,757\n",
      "Trainable params: 61,949,149\n",
      "Non-trainable params: 52,608\n",
      "__________________________________________________________________________________________________\n",
      "I0406 01:32:08.854076 139895377454976 convert.py:19] model created\n",
      "I0406 01:32:08.855618 139895377454976 utils.py:45] yolo_darknet/conv2d bn\n",
      "I0406 01:32:08.858283 139895377454976 utils.py:45] yolo_darknet/conv2d_1 bn\n",
      "I0406 01:32:08.860759 139895377454976 utils.py:45] yolo_darknet/conv2d_2 bn\n",
      "I0406 01:32:08.863126 139895377454976 utils.py:45] yolo_darknet/conv2d_3 bn\n",
      "I0406 01:32:08.865544 139895377454976 utils.py:45] yolo_darknet/conv2d_4 bn\n",
      "I0406 01:32:08.868389 139895377454976 utils.py:45] yolo_darknet/conv2d_5 bn\n",
      "I0406 01:32:08.870872 139895377454976 utils.py:45] yolo_darknet/conv2d_6 bn\n",
      "I0406 01:32:08.874514 139895377454976 utils.py:45] yolo_darknet/conv2d_7 bn\n",
      "I0406 01:32:08.876919 139895377454976 utils.py:45] yolo_darknet/conv2d_8 bn\n",
      "I0406 01:32:08.879577 139895377454976 utils.py:45] yolo_darknet/conv2d_9 bn\n",
      "I0406 01:32:08.885782 139895377454976 utils.py:45] yolo_darknet/conv2d_10 bn\n",
      "I0406 01:32:08.888411 139895377454976 utils.py:45] yolo_darknet/conv2d_11 bn\n",
      "I0406 01:32:08.892129 139895377454976 utils.py:45] yolo_darknet/conv2d_12 bn\n",
      "I0406 01:32:08.894686 139895377454976 utils.py:45] yolo_darknet/conv2d_13 bn\n",
      "I0406 01:32:08.898343 139895377454976 utils.py:45] yolo_darknet/conv2d_14 bn\n",
      "I0406 01:32:08.900809 139895377454976 utils.py:45] yolo_darknet/conv2d_15 bn\n",
      "I0406 01:32:08.904724 139895377454976 utils.py:45] yolo_darknet/conv2d_16 bn\n",
      "I0406 01:32:08.907229 139895377454976 utils.py:45] yolo_darknet/conv2d_17 bn\n",
      "I0406 01:32:08.910944 139895377454976 utils.py:45] yolo_darknet/conv2d_18 bn\n",
      "I0406 01:32:08.913401 139895377454976 utils.py:45] yolo_darknet/conv2d_19 bn\n",
      "I0406 01:32:08.917127 139895377454976 utils.py:45] yolo_darknet/conv2d_20 bn\n",
      "I0406 01:32:08.919833 139895377454976 utils.py:45] yolo_darknet/conv2d_21 bn\n",
      "I0406 01:32:08.925122 139895377454976 utils.py:45] yolo_darknet/conv2d_22 bn\n",
      "I0406 01:32:08.928781 139895377454976 utils.py:45] yolo_darknet/conv2d_23 bn\n",
      "I0406 01:32:08.933081 139895377454976 utils.py:45] yolo_darknet/conv2d_24 bn\n",
      "I0406 01:32:08.935661 139895377454976 utils.py:45] yolo_darknet/conv2d_25 bn\n",
      "I0406 01:32:08.939354 139895377454976 utils.py:45] yolo_darknet/conv2d_26 bn\n",
      "I0406 01:32:08.948848 139895377454976 utils.py:45] yolo_darknet/conv2d_27 bn\n",
      "I0406 01:32:08.951924 139895377454976 utils.py:45] yolo_darknet/conv2d_28 bn\n",
      "I0406 01:32:08.959416 139895377454976 utils.py:45] yolo_darknet/conv2d_29 bn\n",
      "I0406 01:32:08.962348 139895377454976 utils.py:45] yolo_darknet/conv2d_30 bn\n",
      "I0406 01:32:08.969826 139895377454976 utils.py:45] yolo_darknet/conv2d_31 bn\n",
      "I0406 01:32:08.973032 139895377454976 utils.py:45] yolo_darknet/conv2d_32 bn\n",
      "I0406 01:32:08.981058 139895377454976 utils.py:45] yolo_darknet/conv2d_33 bn\n",
      "I0406 01:32:08.984098 139895377454976 utils.py:45] yolo_darknet/conv2d_34 bn\n",
      "I0406 01:32:08.991588 139895377454976 utils.py:45] yolo_darknet/conv2d_35 bn\n",
      "I0406 01:32:08.994587 139895377454976 utils.py:45] yolo_darknet/conv2d_36 bn\n",
      "I0406 01:32:09.002171 139895377454976 utils.py:45] yolo_darknet/conv2d_37 bn\n",
      "I0406 01:32:09.005269 139895377454976 utils.py:45] yolo_darknet/conv2d_38 bn\n",
      "I0406 01:32:09.013160 139895377454976 utils.py:45] yolo_darknet/conv2d_39 bn\n",
      "I0406 01:32:09.016436 139895377454976 utils.py:45] yolo_darknet/conv2d_40 bn\n",
      "I0406 01:32:09.024254 139895377454976 utils.py:45] yolo_darknet/conv2d_41 bn\n",
      "I0406 01:32:09.027345 139895377454976 utils.py:45] yolo_darknet/conv2d_42 bn\n",
      "I0406 01:32:09.034791 139895377454976 utils.py:45] yolo_darknet/conv2d_43 bn\n",
      "I0406 01:32:09.070919 139895377454976 utils.py:45] yolo_darknet/conv2d_44 bn\n",
      "I0406 01:32:09.081107 139895377454976 utils.py:45] yolo_darknet/conv2d_45 bn\n",
      "I0406 01:32:09.114003 139895377454976 utils.py:45] yolo_darknet/conv2d_46 bn\n",
      "I0406 01:32:09.120611 139895377454976 utils.py:45] yolo_darknet/conv2d_47 bn\n",
      "I0406 01:32:09.152387 139895377454976 utils.py:45] yolo_darknet/conv2d_48 bn\n",
      "I0406 01:32:09.159127 139895377454976 utils.py:45] yolo_darknet/conv2d_49 bn\n",
      "I0406 01:32:09.191240 139895377454976 utils.py:45] yolo_darknet/conv2d_50 bn\n",
      "I0406 01:32:09.197710 139895377454976 utils.py:45] yolo_darknet/conv2d_51 bn\n",
      "I0406 01:32:09.228550 139895377454976 utils.py:45] yolo_conv_0/conv2d_52 bn\n",
      "I0406 01:32:09.233941 139895377454976 utils.py:45] yolo_conv_0/conv2d_53 bn\n",
      "I0406 01:32:09.263016 139895377454976 utils.py:45] yolo_conv_0/conv2d_54 bn\n",
      "I0406 01:32:09.268276 139895377454976 utils.py:45] yolo_conv_0/conv2d_55 bn\n",
      "I0406 01:32:09.299794 139895377454976 utils.py:45] yolo_conv_0/conv2d_56 bn\n",
      "I0406 01:32:09.305257 139895377454976 utils.py:45] yolo_output_0/conv2d_57 bn\n",
      "I0406 01:32:09.334310 139895377454976 utils.py:45] yolo_output_0/conv2d_58 bias\n",
      "I0406 01:32:09.336897 139895377454976 utils.py:45] yolo_conv_1/conv2d_59 bn\n",
      "I0406 01:32:09.339239 139895377454976 utils.py:45] yolo_conv_1/conv2d_60 bn\n",
      "I0406 01:32:09.341686 139895377454976 utils.py:45] yolo_conv_1/conv2d_61 bn\n",
      "I0406 01:32:09.349239 139895377454976 utils.py:45] yolo_conv_1/conv2d_62 bn\n",
      "I0406 01:32:09.351761 139895377454976 utils.py:45] yolo_conv_1/conv2d_63 bn\n",
      "I0406 01:32:09.359362 139895377454976 utils.py:45] yolo_conv_1/conv2d_64 bn\n",
      "I0406 01:32:09.361706 139895377454976 utils.py:45] yolo_output_1/conv2d_65 bn\n",
      "I0406 01:32:09.368481 139895377454976 utils.py:45] yolo_output_1/conv2d_66 bias\n",
      "I0406 01:32:09.370200 139895377454976 utils.py:45] yolo_conv_2/conv2d_67 bn\n",
      "I0406 01:32:09.372138 139895377454976 utils.py:45] yolo_conv_2/conv2d_68 bn\n",
      "I0406 01:32:09.374134 139895377454976 utils.py:45] yolo_conv_2/conv2d_69 bn\n",
      "I0406 01:32:09.377349 139895377454976 utils.py:45] yolo_conv_2/conv2d_70 bn\n",
      "I0406 01:32:09.380086 139895377454976 utils.py:45] yolo_conv_2/conv2d_71 bn\n",
      "I0406 01:32:09.383279 139895377454976 utils.py:45] yolo_conv_2/conv2d_72 bn\n",
      "I0406 01:32:09.384997 139895377454976 utils.py:45] yolo_output_2/conv2d_73 bn\n",
      "I0406 01:32:09.387973 139895377454976 utils.py:45] yolo_output_2/conv2d_74 bias\n",
      "I0406 01:32:09.389258 139895377454976 convert.py:22] weights loaded\n",
      "I0406 01:32:15.642430 139895377454976 convert.py:26] sanity check passed\n",
      "I0406 01:32:16.327687 139895377454976 convert.py:29] weights saved\n"
     ]
    }
   ],
   "source": [
    "import sys\n",
    "!{sys.executable} \"{filename_convert_script}\" --weights \"{filename_darknet_weights}\" --output \"{filename_converted_weights}\""
   ]
  },
  {
   "cell_type": "code",
   "execution_count": 0,
   "metadata": {
    "colab": {},
    "colab_type": "code",
    "id": "CEBsTMu3KPcO"
   },
   "outputs": [],
   "source": [
    "Setup YOLO before beginning frame conversion."
   ]
  },
  {
   "cell_type": "code",
   "execution_count": 0,
   "metadata": {
    "colab": {
     "base_uri": "https://localhost:8080/",
     "height": 52
    },
    "colab_type": "code",
    "id": "qaG1T4_yKaRV",
    "outputId": "ae45e9f9-5121-4ae2-f23f-3242c2179431"
   },
   "outputs": [
    {
     "name": "stdout",
     "output_type": "stream",
     "text": [
      "weights loaded\n",
      "classes loaded\n"
     ]
    }
   ],
   "source": [
    "from absl import app, flags, logging\n",
    "from absl.flags import FLAGS\n",
    "import cv2\n",
    "import numpy as np\n",
    "import tensorflow as tf\n",
    "from yolov3_tf2.models import (YoloV3, YoloV3Tiny)\n",
    "from yolov3_tf2.dataset import transform_images, load_tfrecord_dataset\n",
    "from yolov3_tf2.utils import draw_outputs\n",
    "import sys\n",
    "from PIL import Image, ImageFile\n",
    "import requests\n",
    "\n",
    "# Flags are used to define several options for YOLO.\n",
    "flags.DEFINE_string('classes', filename_classes, 'path to classes file')\n",
    "flags.DEFINE_string('weights', filename_converted_weights, 'path to weights file')\n",
    "flags.DEFINE_boolean('tiny', False, 'yolov3 or yolov3-tiny')\n",
    "flags.DEFINE_integer('size', 416, 'resize images to')\n",
    "flags.DEFINE_string('tfrecord', None, 'tfrecord instead of image')\n",
    "flags.DEFINE_integer('num_classes', 80, 'number of classes in the model')\n",
    "FLAGS([sys.argv[0]])\n",
    "\n",
    "# Locate devices to run YOLO on (e.g. GPU)\n",
    "physical_devices = tf.config.experimental.list_physical_devices('GPU')\n",
    "if len(physical_devices) > 0:\n",
    "    tf.config.experimental.set_memory_growth(physical_devices[0], True)\n",
    "\n",
    "  \n",
    "# This example does not use the \"Tiny version\"\n",
    "if FLAGS.tiny:\n",
    "    yolo = YoloV3Tiny(classes=FLAGS.num_classes)\n",
    "else:\n",
    "    yolo = YoloV3(classes=FLAGS.num_classes)\n",
    "\n",
    "# Load weights and classes\n",
    "yolo.load_weights(FLAGS.weights).expect_partial()\n",
    "print('weights loaded')\n",
    "\n",
    "class_names = [c.strip() for c in open(FLAGS.classes).readlines()]\n",
    "print('classes loaded')"
   ]
  },
  {
   "cell_type": "code",
   "execution_count": 0,
   "metadata": {
    "colab": {},
    "colab_type": "code",
    "id": "sVaYmo8qMKqG"
   },
   "outputs": [],
   "source": [
    "# Nicely formatted time string\n",
    "def hms_string(sec_elapsed):\n",
    "    h = int(sec_elapsed / (60 * 60))\n",
    "    m = int((sec_elapsed % (60 * 60)) / 60)\n",
    "    s = sec_elapsed % 60\n",
    "    return f\"{h}:{m:>02}:{s:>05.2f}\""
   ]
  },
  {
   "cell_type": "markdown",
   "metadata": {
    "colab_type": "text",
    "id": "qnaTGp3QKxtg"
   },
   "source": [
    "Process one YOLO image with the function process_image, then loop over all."
   ]
  },
  {
   "cell_type": "code",
   "execution_count": 0,
   "metadata": {
    "colab": {
     "base_uri": "https://localhost:8080/",
     "height": 86
    },
    "colab_type": "code",
    "id": "x4sXsImjozZm",
    "outputId": "6120ad46-addc-4a5e-c2ea-0880a30caf38"
   },
   "outputs": [
    {
     "name": "stdout",
     "output_type": "stream",
     "text": [
      "Processed image: 100, video processed: 0:00:03.00\n",
      "Processed image: 200, video processed: 0:00:06.00\n",
      "Processed image: 300, video processed: 0:00:09.00\n",
      "Processed image: 323, video processed: 0:00:09.69\n"
     ]
    }
   ],
   "source": [
    "import time\n",
    "\n",
    "def process_image(img_raw):\n",
    "  # Preprocess image\n",
    "  img = tf.expand_dims(img_raw, 0)\n",
    "  img = transform_images(img, FLAGS.size)\n",
    "\n",
    "  # Desired threshold (any sub-image below this confidence level will be ignored.)\n",
    "  FLAGS.yolo_score_threshold = 0.5\n",
    "\n",
    "  # Recognize and report results\n",
    "  boxes, scores, classes, nums = yolo(img)\n",
    "\n",
    "  # Display image using YOLO library's built in function\n",
    "  img = img_raw.numpy()\n",
    "  img = draw_outputs(img, (boxes, scores, classes, nums), class_names)\n",
    "  with open(output_filename,\"wb\") as fp:\n",
    "    fp.write(tf.io.encode_jpeg(img).numpy())\n",
    "\n",
    "i = 1\n",
    "done = False\n",
    "frame_length = frame_rate/1000\n",
    "total_video_processed = 0\n",
    "\n",
    "while not done:\n",
    "  input_filename = os.path.join(temp_path,f'input-{i}.jpg')\n",
    "  output_filename = os.path.join(temp_path,f'output-{i}.jpg')\n",
    "\n",
    "  if os.path.exists(input_filename):\n",
    "    with open(input_filename,'rb') as fp:\n",
    "      img_bin = fp.read()\n",
    "      img_raw = tf.image.decode_image(img_bin, channels=3)\n",
    "      process_image(img_raw)\n",
    "  else:\n",
    "    done = True\n",
    "\n",
    "  total_video_processed += frame_length\n",
    "\n",
    "  if i%100 == 0 or done:\n",
    "    print(f\"Processed image: {i}, video processed: {hms_string(total_video_processed)}\")\n",
    "  i+=1"
   ]
  },
  {
   "cell_type": "markdown",
   "metadata": {
    "colab_type": "text",
    "id": "KP309nBUJOLV"
   },
   "source": [
    "# Build Final Video File\n",
    "\n",
    "At this point we have all of the images generated and audio file.  We use ffmpeg to put it all back together into a video file."
   ]
  },
  {
   "cell_type": "code",
   "execution_count": 0,
   "metadata": {
    "colab": {
     "base_uri": "https://localhost:8080/",
     "height": 1000
    },
    "colab_type": "code",
    "id": "SLuVl4b2ADDt",
    "outputId": "88cca324-4b2c-4f23-d2b1-6ec4dafa70e9"
   },
   "outputs": [
    {
     "name": "stdout",
     "output_type": "stream",
     "text": [
      "Executed command: ffmpeg -framerate 30.0 -i /content/tmp/output-%d.jpg -i /content/tmp/audio.wav -strict -2 /content/out.mp4 2>&1, result:\n",
      "ffmpeg version 3.4.6-0ubuntu0.18.04.1 Copyright (c) 2000-2019 the FFmpeg developers\n",
      "  built with gcc 7 (Ubuntu 7.3.0-16ubuntu3)\n",
      "  configuration: --prefix=/usr --extra-version=0ubuntu0.18.04.1 --toolchain=hardened --libdir=/usr/lib/x86_64-linux-gnu --incdir=/usr/include/x86_64-linux-gnu --enable-gpl --disable-stripping --enable-avresample --enable-avisynth --enable-gnutls --enable-ladspa --enable-libass --enable-libbluray --enable-libbs2b --enable-libcaca --enable-libcdio --enable-libflite --enable-libfontconfig --enable-libfreetype --enable-libfribidi --enable-libgme --enable-libgsm --enable-libmp3lame --enable-libmysofa --enable-libopenjpeg --enable-libopenmpt --enable-libopus --enable-libpulse --enable-librubberband --enable-librsvg --enable-libshine --enable-libsnappy --enable-libsoxr --enable-libspeex --enable-libssh --enable-libtheora --enable-libtwolame --enable-libvorbis --enable-libvpx --enable-libwavpack --enable-libwebp --enable-libx265 --enable-libxml2 --enable-libxvid --enable-libzmq --enable-libzvbi --enable-omx --enable-openal --enable-opengl --enable-sdl2 --enable-libdc1394 --enable-libdrm --enable-libiec61883 --enable-chromaprint --enable-frei0r --enable-libopencv --enable-libx264 --enable-shared\n",
      "  libavutil      55. 78.100 / 55. 78.100\n",
      "  libavcodec     57.107.100 / 57.107.100\n",
      "  libavformat    57. 83.100 / 57. 83.100\n",
      "  libavdevice    57. 10.100 / 57. 10.100\n",
      "  libavfilter     6.107.100 /  6.107.100\n",
      "  libavresample   3.  7.  0 /  3.  7.  0\n",
      "  libswscale      4.  8.100 /  4.  8.100\n",
      "  libswresample   2.  9.100 /  2.  9.100\n",
      "  libpostproc    54.  7.100 / 54.  7.100\n",
      "Input #0, image2, from '/content/tmp/output-%d.jpg':\n",
      "  Duration: 00:00:10.73, start: 0.000000, bitrate: N/A\n",
      "    Stream #0:0: Video: mjpeg, yuvj420p(pc, bt470bg/unknown/unknown), 1920x1080 [SAR 300:300 DAR 16:9], 30 fps, 30 tbr, 30 tbn, 30 tbc\n",
      "Guessed Channel Layout for Input Stream #1.0 : stereo\n",
      "Input #1, wav, from '/content/tmp/audio.wav':\n",
      "  Metadata:\n",
      "    encoder         : Lavf57.83.100\n",
      "  Duration: 00:00:10.75, bitrate: 1411 kb/s\n",
      "    Stream #1:0: Audio: pcm_s16le ([1][0][0][0] / 0x0001), 44100 Hz, stereo, s16, 1411 kb/s\n",
      "Stream mapping:\n",
      "  Stream #0:0 -> #0:0 (mjpeg (native) -> h264 (libx264))\n",
      "  Stream #1:0 -> #0:1 (pcm_s16le (native) -> aac (native))\n",
      "Press [q] to stop, [?] for help\n",
      "[image2 @ 0x56251a01c000] Thread message queue blocking; consider raising the thread_queue_size option (current value: 8)\n",
      "[libx264 @ 0x56251a022d00] using SAR=1/1\n",
      "[libx264 @ 0x56251a022d00] using cpu capabilities: MMX2 SSE2Fast SSSE3 SSE4.2 AVX FMA3 BMI2 AVX2\n",
      "[libx264 @ 0x56251a022d00] profile High, level 4.0\n",
      "[libx264 @ 0x56251a022d00] 264 - core 152 r2854 e9a5903 - H.264/MPEG-4 AVC codec - Copyleft 2003-2017 - http://www.videolan.org/x264.html - options: cabac=1 ref=3 deblock=1:0:0 analyse=0x3:0x113 me=hex subme=7 psy=1 psy_rd=1.00:0.00 mixed_ref=1 me_range=16 chroma_me=1 trellis=1 8x8dct=1 cqm=0 deadzone=21,11 fast_pskip=1 chroma_qp_offset=-2 threads=3 lookahead_threads=1 sliced_threads=0 nr=0 decimate=1 interlaced=0 bluray_compat=0 constrained_intra=0 bframes=3 b_pyramid=2 b_adapt=1 b_bias=0 direct=1 weightb=1 open_gop=0 weightp=2 keyint=250 keyint_min=25 scenecut=40 intra_refresh=0 rc_lookahead=40 rc=crf mbtree=1 crf=23.0 qcomp=0.60 qpmin=0 qpmax=69 qpstep=4 ip_ratio=1.40 aq=1:1.00\n",
      "Output #0, mp4, to '/content/out.mp4':\n",
      "  Metadata:\n",
      "    encoder         : Lavf57.83.100\n",
      "    Stream #0:0: Video: h264 (libx264) (avc1 / 0x31637661), yuvj420p(pc, progressive), 1920x1080 [SAR 300:300 DAR 16:9], q=-1--1, 30 fps, 15360 tbn, 30 tbc\n",
      "    Metadata:\n",
      "      encoder         : Lavc57.107.100 libx264\n",
      "    Side data:\n",
      "      cpb: bitrate max/min/avg: 0/0/0 buffer size: 0 vbv_delay: -1\n",
      "    Stream #0:1: Audio: aac (LC) (mp4a / 0x6134706D), 44100 Hz, stereo, fltp, 128 kb/s\n",
      "    Metadata:\n",
      "      encoder         : Lavc57.107.100 aac\n",
      "frame=   47 fps= 45 q=0.0 size=       0kB time=00:00:00.00 bitrate=N/A speed=   0x    \n",
      "frame=   51 fps= 31 q=29.0 size=       0kB time=00:00:00.04 bitrate=   8.3kbits/s speed=0.0279x    \n",
      "frame=   55 fps= 25 q=29.0 size=     256kB time=00:00:00.18 bitrate=11291.6kbits/s speed=0.084x    \n",
      "frame=   61 fps= 20 q=29.0 size=     512kB time=00:00:00.39 bitrate=10626.5kbits/s speed=0.13x    \n",
      "frame=   65 fps= 18 q=29.0 size=     512kB time=00:00:00.53 bitrate=7854.4kbits/s speed=0.15x    \n",
      "frame=   69 fps= 17 q=29.0 size=     512kB time=00:00:00.65 bitrate=6451.8kbits/s speed=0.159x    \n",
      "frame=   73 fps= 16 q=29.0 size=     768kB time=00:00:00.78 bitrate=7969.6kbits/s speed=0.171x    \n",
      "frame=   77 fps= 15 q=29.0 size=    1024kB time=00:00:00.92 bitrate=9032.1kbits/s speed=0.179x    \n",
      "frame=   81 fps= 14 q=29.0 size=    1024kB time=00:00:01.06 bitrate=7854.0kbits/s speed=0.186x    \n",
      "frame=   85 fps= 13 q=29.0 size=    1024kB time=00:00:01.18 bitrate=7084.0kbits/s speed=0.188x    \n",
      "frame=   89 fps= 13 q=29.0 size=    1280kB time=00:00:01.32 bitrate=7922.8kbits/s speed=0.192x    \n",
      "frame=   93 fps= 13 q=29.0 size=    1536kB time=00:00:01.46 bitrate=8601.9kbits/s speed=0.197x    \n",
      "frame=   97 fps= 12 q=29.0 size=    1536kB time=00:00:01.60 bitrate=7853.9kbits/s speed=0.202x    \n",
      "frame=  101 fps= 12 q=29.0 size=    1536kB time=00:00:01.71 bitrate=7323.2kbits/s speed=0.203x    \n",
      "frame=  105 fps= 12 q=29.0 size=    1792kB time=00:00:01.85 bitrate=7902.9kbits/s speed=0.206x    \n",
      "frame=  109 fps= 11 q=29.0 size=    2048kB time=00:00:01.99 bitrate=8401.8kbits/s speed=0.208x    \n",
      "frame=  113 fps= 11 q=29.0 size=    2048kB time=00:00:02.13 bitrate=7853.8kbits/s speed=0.21x    \n",
      "frame=  117 fps= 11 q=29.0 size=    2048kB time=00:00:02.25 bitrate=7449.0kbits/s speed=0.21x    \n",
      "frame=  121 fps= 11 q=29.0 size=    2304kB time=00:00:02.39 bitrate=7891.9kbits/s speed=0.212x    \n",
      "frame=  125 fps= 11 q=29.0 size=    2560kB time=00:00:02.53 bitrate=8286.1kbits/s speed=0.214x    \n",
      "frame=  129 fps= 10 q=29.0 size=    2560kB time=00:00:02.64 bitrate=7922.7kbits/s speed=0.214x    \n",
      "frame=  133 fps= 10 q=29.0 size=    2560kB time=00:00:02.78 bitrate=7526.5kbits/s speed=0.216x    \n",
      "frame=  137 fps= 10 q=29.0 size=    2816kB time=00:00:02.92 bitrate=7884.9kbits/s speed=0.218x    \n",
      "frame=  142 fps= 10 q=29.0 size=    2816kB time=00:00:03.08 bitrate=7469.9kbits/s speed=0.22x    \n",
      "frame=  147 fps= 10 q=29.0 size=    3072kB time=00:00:03.25 bitrate=7741.6kbits/s speed=0.223x    \n",
      "frame=  152 fps= 10 q=29.0 size=    3072kB time=00:00:03.41 bitrate=7372.9kbits/s speed=0.225x    \n",
      "frame=  157 fps=9.8 q=29.0 size=    3328kB time=00:00:03.59 bitrate=7575.1kbits/s speed=0.225x    \n",
      "frame=  161 fps=9.8 q=29.0 size=    3328kB time=00:00:03.71 bitrate=7338.3kbits/s speed=0.225x    \n",
      "frame=  165 fps=9.7 q=29.0 size=    3584kB time=00:00:03.85 bitrate=7617.2kbits/s speed=0.226x    \n",
      "frame=  169 fps=9.6 q=29.0 size=    3584kB time=00:00:03.99 bitrate=7351.5kbits/s speed=0.227x    \n",
      "frame=  173 fps=9.6 q=29.0 size=    3840kB time=00:00:04.13 bitrate=7611.1kbits/s speed=0.228x    \n",
      "frame=  177 fps=9.5 q=29.0 size=    3840kB time=00:00:04.24 bitrate=7403.1kbits/s speed=0.228x    \n",
      "frame=  181 fps=9.5 q=29.0 size=    4096kB time=00:00:04.38 bitrate=7646.0kbits/s speed=0.229x    \n",
      "frame=  186 fps=9.4 q=29.0 size=    4096kB time=00:00:04.55 bitrate=7372.9kbits/s speed=0.231x    \n",
      "frame=  190 fps=9.3 q=29.0 size=    4352kB time=00:00:04.69 bitrate=7601.0kbits/s speed=0.231x    \n",
      "frame=  195 fps=9.4 q=29.0 size=    4352kB time=00:00:04.85 bitrate=7346.4kbits/s speed=0.233x    \n",
      "frame=  198 fps=9.3 q=29.0 size=    4608kB time=00:00:04.96 bitrate=7596.8kbits/s speed=0.233x    \n",
      "frame=  202 fps=9.2 q=29.0 size=    4608kB time=00:00:05.08 bitrate=7423.4kbits/s speed=0.233x    \n",
      "frame=  207 fps=9.2 q=29.0 size=    4608kB time=00:00:05.24 bitrate=7193.4kbits/s speed=0.234x    \n",
      "frame=  212 fps=9.1 q=29.0 size=    4864kB time=00:00:05.43 bitrate=7333.5kbits/s speed=0.234x    \n",
      "frame=  217 fps=9.1 q=29.0 size=    5120kB time=00:00:05.59 bitrate=7495.2kbits/s speed=0.235x    \n",
      "frame=  221 fps=9.1 q=29.0 size=    5120kB time=00:00:05.73 bitrate=7313.2kbits/s speed=0.236x    \n",
      "frame=  225 fps=9.1 q=29.0 size=    5120kB time=00:00:05.85 bitrate=7168.1kbits/s speed=0.236x    \n",
      "frame=  229 fps=9.0 q=29.0 size=    5376kB time=00:00:05.99 bitrate=7351.4kbits/s speed=0.236x    \n",
      "frame=  234 fps=9.0 q=29.0 size=    5376kB time=00:00:06.15 bitrate=7157.2kbits/s speed=0.237x    \n",
      "frame=  238 fps=9.0 q=29.0 size=    5632kB time=00:00:06.29 bitrate=7332.1kbits/s speed=0.237x    \n",
      "frame=  242 fps=8.9 q=29.0 size=    5632kB time=00:00:06.43 bitrate=7173.2kbits/s speed=0.238x    \n",
      "frame=  247 fps=8.9 q=29.0 size=    5888kB time=00:00:06.59 bitrate=7314.4kbits/s speed=0.238x    \n",
      "frame=  252 fps=8.9 q=29.0 size=    5888kB time=00:00:06.75 bitrate=7138.5kbits/s speed=0.238x    \n",
      "frame=  256 fps=8.8 q=29.0 size=    6144kB time=00:00:06.89 bitrate=7298.4kbits/s speed=0.238x    \n",
      "frame=  260 fps=8.8 q=29.0 size=    6144kB time=00:00:07.03 bitrate=7153.9kbits/s speed=0.238x    \n",
      "frame=  264 fps=8.8 q=29.0 size=    6400kB time=00:00:07.15 bitrate=7331.0kbits/s speed=0.238x    \n",
      "frame=  268 fps=8.7 q=29.0 size=    6400kB time=00:00:07.29 bitrate=7190.9kbits/s speed=0.238x    \n",
      "frame=  272 fps=8.7 q=29.0 size=    6656kB time=00:00:07.43 bitrate=7338.3kbits/s speed=0.238x    \n",
      "frame=  276 fps=8.7 q=29.0 size=    6656kB time=00:00:07.54 bitrate=7225.4kbits/s speed=0.238x    \n",
      "frame=  280 fps=8.7 q=29.0 size=    6912kB time=00:00:07.68 bitrate=7367.3kbits/s speed=0.238x    \n",
      "frame=  284 fps=8.6 q=29.0 size=    6912kB time=00:00:07.82 bitrate=7236.1kbits/s speed=0.238x    \n",
      "frame=  288 fps=8.6 q=29.0 size=    7168kB time=00:00:07.96 bitrate=7372.8kbits/s speed=0.238x    \n",
      "frame=  292 fps=8.5 q=29.0 size=    7168kB time=00:00:08.08 bitrate=7266.9kbits/s speed=0.237x    \n",
      "frame=  297 fps=8.6 q=29.0 size=    7168kB time=00:00:08.26 bitrate=7103.6kbits/s speed=0.238x    \n",
      "frame=  302 fps=8.6 q=29.0 size=    7424kB time=00:00:08.42 bitrate=7215.4kbits/s speed=0.239x    \n",
      "frame=  307 fps=8.5 q=29.0 size=    7680kB time=00:00:08.59 bitrate=7323.0kbits/s speed=0.238x    \n",
      "frame=  312 fps=8.5 q=29.0 size=    7936kB time=00:00:08.75 bitrate=7426.6kbits/s speed=0.239x    \n",
      "frame=  316 fps=8.5 q=29.0 size=    7936kB time=00:00:08.89 bitrate=7310.3kbits/s speed=0.239x    \n",
      "frame=  321 fps=8.5 q=29.0 size=    8192kB time=00:00:09.03 bitrate=7429.0kbits/s speed=0.24x    \n",
      "frame=  322 fps=7.5 q=-1.0 Lsize=    9588kB time=00:00:10.75 bitrate=7305.8kbits/s speed=0.249x    \n",
      "video:9407kB audio:169kB subtitle:0kB other streams:0kB global headers:0kB muxing overhead: 0.132821%\n",
      "[libx264 @ 0x56251a022d00] frame I:2     Avg QP:23.82  size:136986\n",
      "[libx264 @ 0x56251a022d00] frame P:81    Avg QP:24.63  size: 59420\n",
      "[libx264 @ 0x56251a022d00] frame B:239   Avg QP:26.97  size: 19015\n",
      "[libx264 @ 0x56251a022d00] consecutive B-frames:  0.6%  0.6%  1.9% 96.9%\n",
      "[libx264 @ 0x56251a022d00] mb I  I16..4:  6.5% 85.9%  7.6%\n",
      "[libx264 @ 0x56251a022d00] mb P  I16..4:  6.9% 30.4%  1.7%  P16..4: 35.2% 15.0%  6.5%  0.0%  0.0%    skip: 4.3%\n",
      "[libx264 @ 0x56251a022d00] mb B  I16..4:  2.5%  7.4%  0.3%  B16..8: 35.4%  6.0%  0.8%  direct: 3.5%  skip:44.2%  L0:45.6% L1:47.6% BI: 6.8%\n",
      "[libx264 @ 0x56251a022d00] 8x8 transform intra:76.2% inter:83.7%\n",
      "[libx264 @ 0x56251a022d00] coded y,uvDC,uvAC intra: 56.2% 70.4% 7.0% inter: 17.0% 30.1% 4.0%\n",
      "[libx264 @ 0x56251a022d00] i16 v,h,dc,p: 31% 37% 12% 20%\n",
      "[libx264 @ 0x56251a022d00] i8 v,h,dc,ddl,ddr,vr,hd,vl,hu: 25% 24% 38%  2%  2%  2%  2%  2%  2%\n",
      "[libx264 @ 0x56251a022d00] i4 v,h,dc,ddl,ddr,vr,hd,vl,hu: 36% 30% 12%  3%  4%  3%  4%  4%  3%\n",
      "[libx264 @ 0x56251a022d00] i8c dc,h,v,p: 39% 32% 26%  3%\n",
      "[libx264 @ 0x56251a022d00] Weighted P-Frames: Y:0.0% UV:0.0%\n",
      "[libx264 @ 0x56251a022d00] ref P L0: 47.5% 14.9% 29.0%  8.6%\n",
      "[libx264 @ 0x56251a022d00] ref B L0: 81.9% 14.2%  3.9%\n",
      "[libx264 @ 0x56251a022d00] ref B L1: 93.3%  6.7%\n",
      "[libx264 @ 0x56251a022d00] kb/s:7178.88\n",
      "[aac @ 0x56251a5e0000] Qavg: 11340.331\n",
      "\n",
      "---------\n",
      "\n"
     ]
    },
    {
     "data": {
      "text/plain": [
       "['ffmpeg version 3.4.6-0ubuntu0.18.04.1 Copyright (c) 2000-2019 the FFmpeg developers',\n",
       " '  built with gcc 7 (Ubuntu 7.3.0-16ubuntu3)',\n",
       " '  configuration: --prefix=/usr --extra-version=0ubuntu0.18.04.1 --toolchain=hardened --libdir=/usr/lib/x86_64-linux-gnu --incdir=/usr/include/x86_64-linux-gnu --enable-gpl --disable-stripping --enable-avresample --enable-avisynth --enable-gnutls --enable-ladspa --enable-libass --enable-libbluray --enable-libbs2b --enable-libcaca --enable-libcdio --enable-libflite --enable-libfontconfig --enable-libfreetype --enable-libfribidi --enable-libgme --enable-libgsm --enable-libmp3lame --enable-libmysofa --enable-libopenjpeg --enable-libopenmpt --enable-libopus --enable-libpulse --enable-librubberband --enable-librsvg --enable-libshine --enable-libsnappy --enable-libsoxr --enable-libspeex --enable-libssh --enable-libtheora --enable-libtwolame --enable-libvorbis --enable-libvpx --enable-libwavpack --enable-libwebp --enable-libx265 --enable-libxml2 --enable-libxvid --enable-libzmq --enable-libzvbi --enable-omx --enable-openal --enable-opengl --enable-sdl2 --enable-libdc1394 --enable-libdrm --enable-libiec61883 --enable-chromaprint --enable-frei0r --enable-libopencv --enable-libx264 --enable-shared',\n",
       " '  libavutil      55. 78.100 / 55. 78.100',\n",
       " '  libavcodec     57.107.100 / 57.107.100',\n",
       " '  libavformat    57. 83.100 / 57. 83.100',\n",
       " '  libavdevice    57. 10.100 / 57. 10.100',\n",
       " '  libavfilter     6.107.100 /  6.107.100',\n",
       " '  libavresample   3.  7.  0 /  3.  7.  0',\n",
       " '  libswscale      4.  8.100 /  4.  8.100',\n",
       " '  libswresample   2.  9.100 /  2.  9.100',\n",
       " '  libpostproc    54.  7.100 / 54.  7.100',\n",
       " \"Input #0, image2, from '/content/tmp/output-%d.jpg':\",\n",
       " '  Duration: 00:00:10.73, start: 0.000000, bitrate: N/A',\n",
       " '    Stream #0:0: Video: mjpeg, yuvj420p(pc, bt470bg/unknown/unknown), 1920x1080 [SAR 300:300 DAR 16:9], 30 fps, 30 tbr, 30 tbn, 30 tbc',\n",
       " 'Guessed Channel Layout for Input Stream #1.0 : stereo',\n",
       " \"Input #1, wav, from '/content/tmp/audio.wav':\",\n",
       " '  Metadata:',\n",
       " '    encoder         : Lavf57.83.100',\n",
       " '  Duration: 00:00:10.75, bitrate: 1411 kb/s',\n",
       " '    Stream #1:0: Audio: pcm_s16le ([1][0][0][0] / 0x0001), 44100 Hz, stereo, s16, 1411 kb/s',\n",
       " 'Stream mapping:',\n",
       " '  Stream #0:0 -> #0:0 (mjpeg (native) -> h264 (libx264))',\n",
       " '  Stream #1:0 -> #0:1 (pcm_s16le (native) -> aac (native))',\n",
       " 'Press [q] to stop, [?] for help',\n",
       " '[image2 @ 0x56251a01c000] Thread message queue blocking; consider raising the thread_queue_size option (current value: 8)',\n",
       " '[libx264 @ 0x56251a022d00] using SAR=1/1',\n",
       " '[libx264 @ 0x56251a022d00] using cpu capabilities: MMX2 SSE2Fast SSSE3 SSE4.2 AVX FMA3 BMI2 AVX2',\n",
       " '[libx264 @ 0x56251a022d00] profile High, level 4.0',\n",
       " '[libx264 @ 0x56251a022d00] 264 - core 152 r2854 e9a5903 - H.264/MPEG-4 AVC codec - Copyleft 2003-2017 - http://www.videolan.org/x264.html - options: cabac=1 ref=3 deblock=1:0:0 analyse=0x3:0x113 me=hex subme=7 psy=1 psy_rd=1.00:0.00 mixed_ref=1 me_range=16 chroma_me=1 trellis=1 8x8dct=1 cqm=0 deadzone=21,11 fast_pskip=1 chroma_qp_offset=-2 threads=3 lookahead_threads=1 sliced_threads=0 nr=0 decimate=1 interlaced=0 bluray_compat=0 constrained_intra=0 bframes=3 b_pyramid=2 b_adapt=1 b_bias=0 direct=1 weightb=1 open_gop=0 weightp=2 keyint=250 keyint_min=25 scenecut=40 intra_refresh=0 rc_lookahead=40 rc=crf mbtree=1 crf=23.0 qcomp=0.60 qpmin=0 qpmax=69 qpstep=4 ip_ratio=1.40 aq=1:1.00',\n",
       " \"Output #0, mp4, to '/content/out.mp4':\",\n",
       " '  Metadata:',\n",
       " '    encoder         : Lavf57.83.100',\n",
       " '    Stream #0:0: Video: h264 (libx264) (avc1 / 0x31637661), yuvj420p(pc, progressive), 1920x1080 [SAR 300:300 DAR 16:9], q=-1--1, 30 fps, 15360 tbn, 30 tbc',\n",
       " '    Metadata:',\n",
       " '      encoder         : Lavc57.107.100 libx264',\n",
       " '    Side data:',\n",
       " '      cpb: bitrate max/min/avg: 0/0/0 buffer size: 0 vbv_delay: -1',\n",
       " '    Stream #0:1: Audio: aac (LC) (mp4a / 0x6134706D), 44100 Hz, stereo, fltp, 128 kb/s',\n",
       " '    Metadata:',\n",
       " '      encoder         : Lavc57.107.100 aac',\n",
       " 'frame=   47 fps= 45 q=0.0 size=       0kB time=00:00:00.00 bitrate=N/A speed=   0x    ',\n",
       " 'frame=   51 fps= 31 q=29.0 size=       0kB time=00:00:00.04 bitrate=   8.3kbits/s speed=0.0279x    ',\n",
       " 'frame=   55 fps= 25 q=29.0 size=     256kB time=00:00:00.18 bitrate=11291.6kbits/s speed=0.084x    ',\n",
       " 'frame=   61 fps= 20 q=29.0 size=     512kB time=00:00:00.39 bitrate=10626.5kbits/s speed=0.13x    ',\n",
       " 'frame=   65 fps= 18 q=29.0 size=     512kB time=00:00:00.53 bitrate=7854.4kbits/s speed=0.15x    ',\n",
       " 'frame=   69 fps= 17 q=29.0 size=     512kB time=00:00:00.65 bitrate=6451.8kbits/s speed=0.159x    ',\n",
       " 'frame=   73 fps= 16 q=29.0 size=     768kB time=00:00:00.78 bitrate=7969.6kbits/s speed=0.171x    ',\n",
       " 'frame=   77 fps= 15 q=29.0 size=    1024kB time=00:00:00.92 bitrate=9032.1kbits/s speed=0.179x    ',\n",
       " 'frame=   81 fps= 14 q=29.0 size=    1024kB time=00:00:01.06 bitrate=7854.0kbits/s speed=0.186x    ',\n",
       " 'frame=   85 fps= 13 q=29.0 size=    1024kB time=00:00:01.18 bitrate=7084.0kbits/s speed=0.188x    ',\n",
       " 'frame=   89 fps= 13 q=29.0 size=    1280kB time=00:00:01.32 bitrate=7922.8kbits/s speed=0.192x    ',\n",
       " 'frame=   93 fps= 13 q=29.0 size=    1536kB time=00:00:01.46 bitrate=8601.9kbits/s speed=0.197x    ',\n",
       " 'frame=   97 fps= 12 q=29.0 size=    1536kB time=00:00:01.60 bitrate=7853.9kbits/s speed=0.202x    ',\n",
       " 'frame=  101 fps= 12 q=29.0 size=    1536kB time=00:00:01.71 bitrate=7323.2kbits/s speed=0.203x    ',\n",
       " 'frame=  105 fps= 12 q=29.0 size=    1792kB time=00:00:01.85 bitrate=7902.9kbits/s speed=0.206x    ',\n",
       " 'frame=  109 fps= 11 q=29.0 size=    2048kB time=00:00:01.99 bitrate=8401.8kbits/s speed=0.208x    ',\n",
       " 'frame=  113 fps= 11 q=29.0 size=    2048kB time=00:00:02.13 bitrate=7853.8kbits/s speed=0.21x    ',\n",
       " 'frame=  117 fps= 11 q=29.0 size=    2048kB time=00:00:02.25 bitrate=7449.0kbits/s speed=0.21x    ',\n",
       " 'frame=  121 fps= 11 q=29.0 size=    2304kB time=00:00:02.39 bitrate=7891.9kbits/s speed=0.212x    ',\n",
       " 'frame=  125 fps= 11 q=29.0 size=    2560kB time=00:00:02.53 bitrate=8286.1kbits/s speed=0.214x    ',\n",
       " 'frame=  129 fps= 10 q=29.0 size=    2560kB time=00:00:02.64 bitrate=7922.7kbits/s speed=0.214x    ',\n",
       " 'frame=  133 fps= 10 q=29.0 size=    2560kB time=00:00:02.78 bitrate=7526.5kbits/s speed=0.216x    ',\n",
       " 'frame=  137 fps= 10 q=29.0 size=    2816kB time=00:00:02.92 bitrate=7884.9kbits/s speed=0.218x    ',\n",
       " 'frame=  142 fps= 10 q=29.0 size=    2816kB time=00:00:03.08 bitrate=7469.9kbits/s speed=0.22x    ',\n",
       " 'frame=  147 fps= 10 q=29.0 size=    3072kB time=00:00:03.25 bitrate=7741.6kbits/s speed=0.223x    ',\n",
       " 'frame=  152 fps= 10 q=29.0 size=    3072kB time=00:00:03.41 bitrate=7372.9kbits/s speed=0.225x    ',\n",
       " 'frame=  157 fps=9.8 q=29.0 size=    3328kB time=00:00:03.59 bitrate=7575.1kbits/s speed=0.225x    ',\n",
       " 'frame=  161 fps=9.8 q=29.0 size=    3328kB time=00:00:03.71 bitrate=7338.3kbits/s speed=0.225x    ',\n",
       " 'frame=  165 fps=9.7 q=29.0 size=    3584kB time=00:00:03.85 bitrate=7617.2kbits/s speed=0.226x    ',\n",
       " 'frame=  169 fps=9.6 q=29.0 size=    3584kB time=00:00:03.99 bitrate=7351.5kbits/s speed=0.227x    ',\n",
       " 'frame=  173 fps=9.6 q=29.0 size=    3840kB time=00:00:04.13 bitrate=7611.1kbits/s speed=0.228x    ',\n",
       " 'frame=  177 fps=9.5 q=29.0 size=    3840kB time=00:00:04.24 bitrate=7403.1kbits/s speed=0.228x    ',\n",
       " 'frame=  181 fps=9.5 q=29.0 size=    4096kB time=00:00:04.38 bitrate=7646.0kbits/s speed=0.229x    ',\n",
       " 'frame=  186 fps=9.4 q=29.0 size=    4096kB time=00:00:04.55 bitrate=7372.9kbits/s speed=0.231x    ',\n",
       " 'frame=  190 fps=9.3 q=29.0 size=    4352kB time=00:00:04.69 bitrate=7601.0kbits/s speed=0.231x    ',\n",
       " 'frame=  195 fps=9.4 q=29.0 size=    4352kB time=00:00:04.85 bitrate=7346.4kbits/s speed=0.233x    ',\n",
       " 'frame=  198 fps=9.3 q=29.0 size=    4608kB time=00:00:04.96 bitrate=7596.8kbits/s speed=0.233x    ',\n",
       " 'frame=  202 fps=9.2 q=29.0 size=    4608kB time=00:00:05.08 bitrate=7423.4kbits/s speed=0.233x    ',\n",
       " 'frame=  207 fps=9.2 q=29.0 size=    4608kB time=00:00:05.24 bitrate=7193.4kbits/s speed=0.234x    ',\n",
       " 'frame=  212 fps=9.1 q=29.0 size=    4864kB time=00:00:05.43 bitrate=7333.5kbits/s speed=0.234x    ',\n",
       " 'frame=  217 fps=9.1 q=29.0 size=    5120kB time=00:00:05.59 bitrate=7495.2kbits/s speed=0.235x    ',\n",
       " 'frame=  221 fps=9.1 q=29.0 size=    5120kB time=00:00:05.73 bitrate=7313.2kbits/s speed=0.236x    ',\n",
       " 'frame=  225 fps=9.1 q=29.0 size=    5120kB time=00:00:05.85 bitrate=7168.1kbits/s speed=0.236x    ',\n",
       " 'frame=  229 fps=9.0 q=29.0 size=    5376kB time=00:00:05.99 bitrate=7351.4kbits/s speed=0.236x    ',\n",
       " 'frame=  234 fps=9.0 q=29.0 size=    5376kB time=00:00:06.15 bitrate=7157.2kbits/s speed=0.237x    ',\n",
       " 'frame=  238 fps=9.0 q=29.0 size=    5632kB time=00:00:06.29 bitrate=7332.1kbits/s speed=0.237x    ',\n",
       " 'frame=  242 fps=8.9 q=29.0 size=    5632kB time=00:00:06.43 bitrate=7173.2kbits/s speed=0.238x    ',\n",
       " 'frame=  247 fps=8.9 q=29.0 size=    5888kB time=00:00:06.59 bitrate=7314.4kbits/s speed=0.238x    ',\n",
       " 'frame=  252 fps=8.9 q=29.0 size=    5888kB time=00:00:06.75 bitrate=7138.5kbits/s speed=0.238x    ',\n",
       " 'frame=  256 fps=8.8 q=29.0 size=    6144kB time=00:00:06.89 bitrate=7298.4kbits/s speed=0.238x    ',\n",
       " 'frame=  260 fps=8.8 q=29.0 size=    6144kB time=00:00:07.03 bitrate=7153.9kbits/s speed=0.238x    ',\n",
       " 'frame=  264 fps=8.8 q=29.0 size=    6400kB time=00:00:07.15 bitrate=7331.0kbits/s speed=0.238x    ',\n",
       " 'frame=  268 fps=8.7 q=29.0 size=    6400kB time=00:00:07.29 bitrate=7190.9kbits/s speed=0.238x    ',\n",
       " 'frame=  272 fps=8.7 q=29.0 size=    6656kB time=00:00:07.43 bitrate=7338.3kbits/s speed=0.238x    ',\n",
       " 'frame=  276 fps=8.7 q=29.0 size=    6656kB time=00:00:07.54 bitrate=7225.4kbits/s speed=0.238x    ',\n",
       " 'frame=  280 fps=8.7 q=29.0 size=    6912kB time=00:00:07.68 bitrate=7367.3kbits/s speed=0.238x    ',\n",
       " 'frame=  284 fps=8.6 q=29.0 size=    6912kB time=00:00:07.82 bitrate=7236.1kbits/s speed=0.238x    ',\n",
       " 'frame=  288 fps=8.6 q=29.0 size=    7168kB time=00:00:07.96 bitrate=7372.8kbits/s speed=0.238x    ',\n",
       " 'frame=  292 fps=8.5 q=29.0 size=    7168kB time=00:00:08.08 bitrate=7266.9kbits/s speed=0.237x    ',\n",
       " 'frame=  297 fps=8.6 q=29.0 size=    7168kB time=00:00:08.26 bitrate=7103.6kbits/s speed=0.238x    ',\n",
       " 'frame=  302 fps=8.6 q=29.0 size=    7424kB time=00:00:08.42 bitrate=7215.4kbits/s speed=0.239x    ',\n",
       " 'frame=  307 fps=8.5 q=29.0 size=    7680kB time=00:00:08.59 bitrate=7323.0kbits/s speed=0.238x    ',\n",
       " 'frame=  312 fps=8.5 q=29.0 size=    7936kB time=00:00:08.75 bitrate=7426.6kbits/s speed=0.239x    ',\n",
       " 'frame=  316 fps=8.5 q=29.0 size=    7936kB time=00:00:08.89 bitrate=7310.3kbits/s speed=0.239x    ',\n",
       " 'frame=  321 fps=8.5 q=29.0 size=    8192kB time=00:00:09.03 bitrate=7429.0kbits/s speed=0.24x    ',\n",
       " 'frame=  322 fps=7.5 q=-1.0 Lsize=    9588kB time=00:00:10.75 bitrate=7305.8kbits/s speed=0.249x    ',\n",
       " 'video:9407kB audio:169kB subtitle:0kB other streams:0kB global headers:0kB muxing overhead: 0.132821%',\n",
       " '[libx264 @ 0x56251a022d00] frame I:2     Avg QP:23.82  size:136986',\n",
       " '[libx264 @ 0x56251a022d00] frame P:81    Avg QP:24.63  size: 59420',\n",
       " '[libx264 @ 0x56251a022d00] frame B:239   Avg QP:26.97  size: 19015',\n",
       " '[libx264 @ 0x56251a022d00] consecutive B-frames:  0.6%  0.6%  1.9% 96.9%',\n",
       " '[libx264 @ 0x56251a022d00] mb I  I16..4:  6.5% 85.9%  7.6%',\n",
       " '[libx264 @ 0x56251a022d00] mb P  I16..4:  6.9% 30.4%  1.7%  P16..4: 35.2% 15.0%  6.5%  0.0%  0.0%    skip: 4.3%',\n",
       " '[libx264 @ 0x56251a022d00] mb B  I16..4:  2.5%  7.4%  0.3%  B16..8: 35.4%  6.0%  0.8%  direct: 3.5%  skip:44.2%  L0:45.6% L1:47.6% BI: 6.8%',\n",
       " '[libx264 @ 0x56251a022d00] 8x8 transform intra:76.2% inter:83.7%',\n",
       " '[libx264 @ 0x56251a022d00] coded y,uvDC,uvAC intra: 56.2% 70.4% 7.0% inter: 17.0% 30.1% 4.0%',\n",
       " '[libx264 @ 0x56251a022d00] i16 v,h,dc,p: 31% 37% 12% 20%',\n",
       " '[libx264 @ 0x56251a022d00] i8 v,h,dc,ddl,ddr,vr,hd,vl,hu: 25% 24% 38%  2%  2%  2%  2%  2%  2%',\n",
       " '[libx264 @ 0x56251a022d00] i4 v,h,dc,ddl,ddr,vr,hd,vl,hu: 36% 30% 12%  3%  4%  3%  4%  4%  3%',\n",
       " '[libx264 @ 0x56251a022d00] i8c dc,h,v,p: 39% 32% 26%  3%',\n",
       " '[libx264 @ 0x56251a022d00] Weighted P-Frames: Y:0.0% UV:0.0%',\n",
       " '[libx264 @ 0x56251a022d00] ref P L0: 47.5% 14.9% 29.0%  8.6%',\n",
       " '[libx264 @ 0x56251a022d00] ref B L0: 81.9% 14.2%  3.9%',\n",
       " '[libx264 @ 0x56251a022d00] ref B L1: 93.3%  6.7%',\n",
       " '[libx264 @ 0x56251a022d00] kb/s:7178.88',\n",
       " '[aac @ 0x56251a5e0000] Qavg: 11340.331',\n",
       " '']"
      ]
     },
     "execution_count": 10,
     "metadata": {
      "tags": []
     },
     "output_type": "execute_result"
    }
   ],
   "source": [
    "if os.path.exists(output_path):\n",
    "  os.remove(output_path)\n",
    "\n",
    "execute_command(f\"ffmpeg -framerate {frame_rate} -i {output_images} -i {audio_file} -strict -2 {output_path} 2>&1\")"
   ]
  },
  {
   "cell_type": "markdown",
   "metadata": {
    "colab_type": "text",
    "id": "pgEd7VQ4LHkM"
   },
   "source": [
    "You might get an error running the following cell (failed to fetch) if you run it too quickly after ffmpeg finishes.  Try rerunning just this cell.  You should get a file named out.mp4 downloaded."
   ]
  },
  {
   "cell_type": "code",
   "execution_count": 0,
   "metadata": {
    "colab": {},
    "colab_type": "code",
    "id": "ag7bwPI8IheV"
   },
   "outputs": [],
   "source": [
    "files.download(output_path)"
   ]
  }
 ],
 "metadata": {
  "accelerator": "GPU",
  "colab": {
   "collapsed_sections": [],
   "name": "convert-video-YOLO.ipynb",
   "provenance": []
  },
  "kernelspec": {
   "display_name": "Python 3",
   "language": "python",
   "name": "python3"
  },
  "language_info": {
   "codemirror_mode": {
    "name": "ipython",
    "version": 3
   },
   "file_extension": ".py",
   "mimetype": "text/x-python",
   "name": "python",
   "nbconvert_exporter": "python",
   "pygments_lexer": "ipython3",
   "version": "3.6.9"
  }
 },
 "nbformat": 4,
 "nbformat_minor": 1
}
