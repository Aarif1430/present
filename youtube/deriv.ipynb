{
 "cells": [
  {
   "cell_type": "markdown",
   "metadata": {},
   "source": [
    "# More Reading Material\n",
    "\n",
    "* [The Math of Machine Learning](https://gwthomas.github.io/docs/math4ml.pdf)"
   ]
  },
  {
   "cell_type": "markdown",
   "metadata": {},
   "source": [
    "# Taking Symbolic Derivatives with Python"
   ]
  },
  {
   "cell_type": "code",
   "execution_count": 1,
   "metadata": {},
   "outputs": [],
   "source": [
    "from sympy import *\n",
    "from IPython.display import display\n",
    "from sympy.printing.mathml import mathml\n",
    "from IPython.display import display, Math, Latex\n",
    "\n",
    "x, y, z = symbols('x y z')\n",
    "init_printing(use_unicode=True)"
   ]
  },
  {
   "cell_type": "code",
   "execution_count": 2,
   "metadata": {},
   "outputs": [],
   "source": [
    "def mprint(e):\n",
    "    display(Math(latex(e)))"
   ]
  },
  {
   "cell_type": "code",
   "execution_count": 3,
   "metadata": {},
   "outputs": [
    {
     "data": {
      "text/latex": [
       "$\\displaystyle x^{2}$"
      ],
      "text/plain": [
       "<IPython.core.display.Math object>"
      ]
     },
     "metadata": {},
     "output_type": "display_data"
    }
   ],
   "source": [
    "mprint(x**2)"
   ]
  },
  {
   "cell_type": "code",
   "execution_count": 4,
   "metadata": {},
   "outputs": [
    {
     "data": {
      "text/latex": [
       "$\\displaystyle 6 x^{2}$"
      ],
      "text/plain": [
       "<IPython.core.display.Math object>"
      ]
     },
     "metadata": {},
     "output_type": "display_data"
    }
   ],
   "source": [
    "mprint(diff(2*x**3))"
   ]
  },
  {
   "cell_type": "code",
   "execution_count": 5,
   "metadata": {},
   "outputs": [
    {
     "data": {
      "text/latex": [
       "$\\displaystyle \\frac{x^{3} + x^{2} - x - 1}{x^{2} + 2 x + 1}$"
      ],
      "text/plain": [
       "<IPython.core.display.Math object>"
      ]
     },
     "metadata": {},
     "output_type": "display_data"
    },
    {
     "name": "stdout",
     "output_type": "stream",
     "text": [
      "<class 'sympy.core.add.Add'>\n",
      "x - 1\n"
     ]
    },
    {
     "data": {
      "text/latex": [
       "$\\displaystyle x - 1$"
      ],
      "text/plain": [
       "<IPython.core.display.Math object>"
      ]
     },
     "metadata": {},
     "output_type": "display_data"
    }
   ],
   "source": [
    "expr = (x**3 + x**2 - x - 1)/(x**2 + 2*x + 1)\n",
    "display(Math(latex(expr)))\n",
    "expr = simplify(expr)\n",
    "print(type(expr))\n",
    "print(latex(expr))\n",
    "display(Math(latex(expr)))"
   ]
  },
  {
   "cell_type": "code",
   "execution_count": 7,
   "metadata": {},
   "outputs": [
    {
     "data": {
      "text/latex": [
       "$\\displaystyle \\frac{1_a^x}{2}$"
      ],
      "text/plain": [
       "<IPython.core.display.Math object>"
      ]
     },
     "metadata": {},
     "output_type": "display_data"
    }
   ],
   "source": [
    "from IPython.display import display, Math, Latex\n",
    "display(Math('\\\\frac{1_a^x}{2}'))"
   ]
  },
  {
   "cell_type": "code",
   "execution_count": 8,
   "metadata": {},
   "outputs": [
    {
     "name": "stdout",
     "output_type": "stream",
     "text": [
      "4\n"
     ]
    }
   ],
   "source": [
    "print(expr.subs(x,5))"
   ]
  },
  {
   "cell_type": "code",
   "execution_count": 9,
   "metadata": {},
   "outputs": [],
   "source": [
    "eql = Eq(3*x+5,10)"
   ]
  },
  {
   "cell_type": "code",
   "execution_count": 10,
   "metadata": {},
   "outputs": [
    {
     "data": {
      "text/latex": [
       "$\\displaystyle \\left\\{\\frac{5}{3}\\right\\}$"
      ],
      "text/plain": [
       "<IPython.core.display.Math object>"
      ]
     },
     "metadata": {},
     "output_type": "display_data"
    }
   ],
   "source": [
    "z = solveset(eql,x)\n",
    "display(Math(latex(z)))"
   ]
  },
  {
   "cell_type": "code",
   "execution_count": 11,
   "metadata": {},
   "outputs": [
    {
     "data": {
      "text/latex": [
       "$\\displaystyle \\frac{\\cos{\\left(x \\right)}}{x^{2}} - \\frac{2 \\sin{\\left(x \\right)}}{x^{3}}$"
      ],
      "text/plain": [
       "<IPython.core.display.Math object>"
      ]
     },
     "metadata": {},
     "output_type": "display_data"
    }
   ],
   "source": [
    "from sympy import *\n",
    "x, y, z = symbols('x y z')\n",
    "init_printing(use_unicode=True)\n",
    "expr = diff(sin(x)/x**2, x)\n",
    "mprint(expr)"
   ]
  },
  {
   "cell_type": "code",
   "execution_count": 12,
   "metadata": {},
   "outputs": [
    {
     "data": {
      "text/latex": [
       "$\\displaystyle \\frac{\\sin{\\left(x \\right)}}{x^{2}}$"
      ],
      "text/plain": [
       "<IPython.core.display.Math object>"
      ]
     },
     "metadata": {},
     "output_type": "display_data"
    }
   ],
   "source": [
    "expr_i = integrate(expr,x)\n",
    "mprint(expr_i)"
   ]
  },
  {
   "cell_type": "markdown",
   "metadata": {},
   "source": [
    "# Keras Customization: Loss and Activation Functions\n",
    "\n",
    "Your functions must be defined with TensorFlow graph commands.  The derivative will be taken automatically. (assuming all components of your function are differentiable)"
   ]
  },
  {
   "cell_type": "markdown",
   "metadata": {},
   "source": [
    "# TensorFlow for Calculation"
   ]
  },
  {
   "cell_type": "code",
   "execution_count": 14,
   "metadata": {},
   "outputs": [
    {
     "data": {
      "text/plain": [
       "10.0"
      ]
     },
     "execution_count": 14,
     "metadata": {},
     "output_type": "execute_result"
    }
   ],
   "source": [
    "import tensorflow as tf\n",
    "\n",
    "tf.multiply(tf.constant(2.0),tf.constant(5.0)).numpy()"
   ]
  },
  {
   "cell_type": "code",
   "execution_count": 15,
   "metadata": {},
   "outputs": [
    {
     "data": {
      "text/plain": [
       "<tf.Tensor: id=10, shape=(2,), dtype=int64, numpy=array([ 4, 16])>"
      ]
     },
     "execution_count": 15,
     "metadata": {},
     "output_type": "execute_result"
    }
   ],
   "source": [
    "import numpy as np\n",
    "tf.multiply(np.array([2,4]),np.array([2,4]))"
   ]
  },
  {
   "cell_type": "code",
   "execution_count": 17,
   "metadata": {},
   "outputs": [
    {
     "data": {
      "text/plain": [
       "8"
      ]
     },
     "execution_count": 17,
     "metadata": {},
     "output_type": "execute_result"
    }
   ],
   "source": [
    "tf.multiply(2,4).numpy()"
   ]
  },
  {
   "cell_type": "code",
   "execution_count": 18,
   "metadata": {},
   "outputs": [
    {
     "data": {
      "image/png": "[encoded data removed]",
      "text/latex": [
       "$\\displaystyle 0.5$"
      ],
      "text/plain": [
       "0.5"
      ]
     },
     "execution_count": 18,
     "metadata": {},
     "output_type": "execute_result"
    }
   ],
   "source": [
    "tf.divide(2,4)"
   ]
  },
  {
   "cell_type": "code",
   "execution_count": 20,
   "metadata": {},
   "outputs": [
    {
     "data": {
      "text/plain": [
       "16.0"
      ]
     },
     "execution_count": 20,
     "metadata": {},
     "output_type": "execute_result"
    }
   ],
   "source": [
    "tf.pow(2.0,4).numpy()"
   ]
  },
  {
   "cell_type": "code",
   "execution_count": 21,
   "metadata": {},
   "outputs": [
    {
     "data": {
      "text/plain": [
       "<tf.Tensor: id=34, shape=(), dtype=float32, numpy=0.9933072>"
      ]
     },
     "execution_count": 21,
     "metadata": {},
     "output_type": "execute_result"
    }
   ],
   "source": [
    "x = 5.0\n",
    "y = tf.divide(1.0,tf.add(1,tf.exp(tf.negative(x))))\n",
    "y"
   ]
  },
  {
   "cell_type": "markdown",
   "metadata": {},
   "source": [
    "# Calculus with TensorFlow\n",
    "\n",
    "How do we take derivatives?\n",
    "\n",
    "* [Symbolic differentiation](http://tutorial.math.lamar.edu/pdf/common_derivatives_integrals.pdf)\n",
    "* [Numerical differentiation](https://en.wikipedia.org/wiki/Finite_difference) (the method of finite differences)\n",
    "* [Automatic differentiation](https://en.wikipedia.org/wiki/Automatic_differentiation)\n",
    "\n",
    "Take the derivative of $f(x) = x^2$.\n",
    "\n",
    "Symbolic derivative $f'(x) = rx^{r-1}$\n",
    "\n",
    "$f(4) = 4^2 = 16$\n",
    "\n",
    "$f'(4) = 2 \\cdot 4 = 8$\n",
    "\n",
    "This can be done in TensorFlow:"
   ]
  },
  {
   "cell_type": "code",
   "execution_count": 22,
   "metadata": {},
   "outputs": [
    {
     "name": "stdout",
     "output_type": "stream",
     "text": [
      "tf.Tensor(8.0, shape=(), dtype=float32)\n"
     ]
    }
   ],
   "source": [
    "x = tf.constant(4.0)\n",
    "\n",
    "with tf.GradientTape() as t:\n",
    "  t.watch(x)\n",
    "  z = tf.multiply(x, x)\n",
    "\n",
    "# Derivative of z with respect to the original input tensor x\n",
    "dz_dx = t.gradient(z, x)\n",
    "print(dz_dx)"
   ]
  },
  {
   "cell_type": "markdown",
   "metadata": {},
   "source": [
    "Lets express the [Logistic function](https://en.wikipedia.org/wiki/Logistic_function) in TensorFlow. This is also called the Sigmoid Activation function in neural network literature.\n",
    "\n",
    "$f(x) = \\frac{1}{1 + e^{-x}}$\n",
    "\n",
    "Written in TensorFlow:"
   ]
  },
  {
   "cell_type": "code",
   "execution_count": 23,
   "metadata": {},
   "outputs": [
    {
     "name": "stdout",
     "output_type": "stream",
     "text": [
      "tf.Tensor([0.9933072], shape=(1,), dtype=float32)\n",
      "tf.Tensor([0.00664806], shape=(1,), dtype=float32)\n"
     ]
    }
   ],
   "source": [
    "x = tf.constant([5.0])\n",
    "with tf.GradientTape() as t:\n",
    "    t.watch(x)\n",
    "    y = tf.divide(1.0,tf.add(1,tf.exp(tf.negative(x))))\n",
    "    \n",
    "print(y)\n",
    "dy_dx = t.gradient(y, x)\n",
    "print(dy_dx)"
   ]
  },
  {
   "cell_type": "markdown",
   "metadata": {},
   "source": [
    "Lets check the regular function."
   ]
  },
  {
   "cell_type": "code",
   "execution_count": 24,
   "metadata": {},
   "outputs": [
    {
     "data": {
      "image/png": "[encoded data removed]",
      "text/latex": [
       "$\\displaystyle 0.9933071490757153$"
      ],
      "text/plain": [
       "0.9933071490757153"
      ]
     },
     "execution_count": 24,
     "metadata": {},
     "output_type": "execute_result"
    }
   ],
   "source": [
    "import math\n",
    "\n",
    "1/(1+math.exp(-5))"
   ]
  },
  {
   "cell_type": "markdown",
   "metadata": {},
   "source": [
    "And lets check the derivative:\n",
    "    \n",
    "$f'(x) = \\frac{e^x}{(e^x + 1)^2}$\n"
   ]
  },
  {
   "cell_type": "code",
   "execution_count": 25,
   "metadata": {},
   "outputs": [
    {
     "data": {
      "image/png": "[encoded data removed]",
      "text/latex": [
       "$\\displaystyle 0.006648056670790156$"
      ],
      "text/plain": [
       "0.006648056670790156"
      ]
     },
     "execution_count": 25,
     "metadata": {},
     "output_type": "execute_result"
    }
   ],
   "source": [
    "math.exp(-5)/(math.exp(-5)+1)**2"
   ]
  },
  {
   "cell_type": "code",
   "execution_count": null,
   "metadata": {},
   "outputs": [],
   "source": [
    "x = tf.ones((2, 2))\n",
    "y = tf.reduce_sum(x)\n",
    "z = tf.multiply(y, y)\n",
    "y.numpy()"
   ]
  },
  {
   "cell_type": "markdown",
   "metadata": {},
   "source": [
    "How to take second (and beyond) derivatives:"
   ]
  },
  {
   "cell_type": "code",
   "execution_count": null,
   "metadata": {},
   "outputs": [],
   "source": [
    "x = tf.constant(3.0)\n",
    "with tf.GradientTape() as g:\n",
    "  g.watch(x)\n",
    "  with tf.GradientTape() as gg:\n",
    "    gg.watch(x)\n",
    "    y = x * x\n",
    "  dy_dx = gg.gradient(y, x)     # Will compute to 6.0\n",
    "d2y_dx2 = g.gradient(dy_dx, x)  # Will compute to 2.0"
   ]
  },
  {
   "cell_type": "markdown",
   "metadata": {},
   "source": [
    "# Custom Loss (Objective) Function\n",
    "\n",
    "$ \\operatorname{RMSE}=\\sqrt{\\frac{\\sum_{t=1}^T (\\hat y_t - y_t)^2}{T}} $"
   ]
  },
  {
   "cell_type": "code",
   "execution_count": 27,
   "metadata": {},
   "outputs": [],
   "source": [
    "def mean_pred(y_true, y_pred):\n",
    "    return tf.sqrt(tf.divide(tf.reduce_sum(tf.pow(tf.subtract(y_true, y_pred),2.0)),tf.cast(tf.size(y_true), tf.float32)))"
   ]
  },
  {
   "cell_type": "code",
   "execution_count": 28,
   "metadata": {},
   "outputs": [
    {
     "name": "stderr",
     "output_type": "stream",
     "text": [
      "WARNING: Logging before flag parsing goes to stderr.\n",
      "W0930 19:48:43.874238 140735522108288 deprecation.py:323] From /Users/jheaton/miniconda3/envs/tensorflow/lib/python3.6/site-packages/tensorflow/python/ops/math_grad.py:1205: add_dispatch_support.<locals>.wrapper (from tensorflow.python.ops.array_ops) is deprecated and will be removed in a future version.\n",
      "Instructions for updating:\n",
      "Use tf.where in 2.0, which has the same broadcast rule as np.where\n"
     ]
    },
    {
     "name": "stdout",
     "output_type": "stream",
     "text": [
      "Train on 398 samples\n",
      "Epoch 1/100\n",
      "398/398 - 0s - loss: 11.9127\n",
      "Epoch 2/100\n",
      "398/398 - 0s - loss: 9.8074\n",
      "Epoch 3/100\n",
      "398/398 - 0s - loss: 8.4966\n",
      "Epoch 4/100\n",
      "398/398 - 0s - loss: 7.8323\n",
      "Epoch 5/100\n",
      "398/398 - 0s - loss: 7.3702\n",
      "Epoch 6/100\n",
      "398/398 - 0s - loss: 7.6900\n",
      "Epoch 7/100\n",
      "398/398 - 0s - loss: 7.1135\n",
      "Epoch 8/100\n",
      "398/398 - 0s - loss: 6.9701\n",
      "Epoch 9/100\n",
      "398/398 - 0s - loss: 6.6870\n",
      "Epoch 10/100\n",
      "398/398 - 0s - loss: 7.2692\n",
      "Epoch 11/100\n",
      "398/398 - 0s - loss: 6.2498\n",
      "Epoch 12/100\n",
      "398/398 - 0s - loss: 7.7551\n",
      "Epoch 13/100\n",
      "398/398 - 0s - loss: 7.5446\n",
      "Epoch 14/100\n",
      "398/398 - 0s - loss: 7.5419\n",
      "Epoch 15/100\n",
      "398/398 - 0s - loss: 6.2173\n",
      "Epoch 16/100\n",
      "398/398 - 0s - loss: 5.4177\n",
      "Epoch 17/100\n",
      "398/398 - 0s - loss: 5.7693\n",
      "Epoch 18/100\n",
      "398/398 - 0s - loss: 5.4172\n",
      "Epoch 19/100\n",
      "398/398 - 0s - loss: 5.1264\n",
      "Epoch 20/100\n",
      "398/398 - 0s - loss: 5.1853\n",
      "Epoch 21/100\n",
      "398/398 - 0s - loss: 4.8951\n",
      "Epoch 22/100\n",
      "398/398 - 0s - loss: 4.8044\n",
      "Epoch 23/100\n",
      "398/398 - 0s - loss: 5.6221\n",
      "Epoch 24/100\n",
      "398/398 - 0s - loss: 5.1763\n",
      "Epoch 25/100\n",
      "398/398 - 0s - loss: 4.6223\n",
      "Epoch 26/100\n",
      "398/398 - 0s - loss: 4.6465\n",
      "Epoch 27/100\n",
      "398/398 - 0s - loss: 4.5917\n",
      "Epoch 28/100\n",
      "398/398 - 0s - loss: 4.6002\n",
      "Epoch 29/100\n",
      "398/398 - 0s - loss: 5.7661\n",
      "Epoch 30/100\n",
      "398/398 - 0s - loss: 4.7825\n",
      "Epoch 31/100\n",
      "398/398 - 0s - loss: 4.5775\n",
      "Epoch 32/100\n",
      "398/398 - 0s - loss: 4.5815\n",
      "Epoch 33/100\n",
      "398/398 - 0s - loss: 5.1788\n",
      "Epoch 34/100\n",
      "398/398 - 0s - loss: 5.9627\n",
      "Epoch 35/100\n",
      "398/398 - 0s - loss: 4.5032\n",
      "Epoch 36/100\n",
      "398/398 - 0s - loss: 4.0651\n",
      "Epoch 37/100\n",
      "398/398 - 0s - loss: 4.0356\n",
      "Epoch 38/100\n",
      "398/398 - 0s - loss: 4.0107\n",
      "Epoch 39/100\n",
      "398/398 - 0s - loss: 4.0198\n",
      "Epoch 40/100\n",
      "398/398 - 0s - loss: 4.2375\n",
      "Epoch 41/100\n",
      "398/398 - 0s - loss: 3.9991\n",
      "Epoch 42/100\n",
      "398/398 - 0s - loss: 3.9840\n",
      "Epoch 43/100\n",
      "398/398 - 0s - loss: 3.9681\n",
      "Epoch 44/100\n",
      "398/398 - 0s - loss: 3.9333\n",
      "Epoch 45/100\n",
      "398/398 - 0s - loss: 3.8129\n",
      "Epoch 46/100\n",
      "398/398 - 0s - loss: 4.0683\n",
      "Epoch 47/100\n",
      "398/398 - 0s - loss: 3.9216\n",
      "Epoch 48/100\n",
      "398/398 - 0s - loss: 4.5209\n",
      "Epoch 49/100\n",
      "398/398 - 0s - loss: 4.1421\n",
      "Epoch 50/100\n",
      "398/398 - 0s - loss: 3.8114\n",
      "Epoch 51/100\n",
      "398/398 - 0s - loss: 3.6369\n",
      "Epoch 52/100\n",
      "398/398 - 0s - loss: 3.7025\n",
      "Epoch 53/100\n",
      "398/398 - 0s - loss: 3.8485\n",
      "Epoch 54/100\n",
      "398/398 - 0s - loss: 4.4703\n",
      "Epoch 55/100\n",
      "398/398 - 0s - loss: 4.1166\n",
      "Epoch 56/100\n",
      "398/398 - 0s - loss: 3.8752\n",
      "Epoch 57/100\n",
      "398/398 - 0s - loss: 3.9621\n",
      "Epoch 58/100\n",
      "398/398 - 0s - loss: 3.6541\n",
      "Epoch 59/100\n",
      "398/398 - 0s - loss: 3.6920\n",
      "Epoch 60/100\n",
      "398/398 - 0s - loss: 4.1113\n",
      "Epoch 61/100\n",
      "398/398 - 0s - loss: 4.0092\n",
      "Epoch 62/100\n",
      "398/398 - 0s - loss: 4.3133\n",
      "Epoch 63/100\n",
      "398/398 - 0s - loss: 4.0480\n",
      "Epoch 64/100\n",
      "398/398 - 0s - loss: 4.3408\n",
      "Epoch 65/100\n",
      "398/398 - 0s - loss: 4.5607\n",
      "Epoch 66/100\n",
      "398/398 - 0s - loss: 4.1189\n",
      "Epoch 67/100\n",
      "398/398 - 0s - loss: 3.6281\n",
      "Epoch 68/100\n",
      "398/398 - 0s - loss: 3.9074\n",
      "Epoch 69/100\n",
      "398/398 - 0s - loss: 3.6370\n",
      "Epoch 70/100\n",
      "398/398 - 0s - loss: 3.7702\n",
      "Epoch 71/100\n",
      "398/398 - 0s - loss: 3.8023\n",
      "Epoch 72/100\n",
      "398/398 - 0s - loss: 4.1845\n",
      "Epoch 73/100\n",
      "398/398 - 0s - loss: 3.9606\n",
      "Epoch 74/100\n",
      "398/398 - 0s - loss: 3.8198\n",
      "Epoch 75/100\n",
      "398/398 - 0s - loss: 3.5847\n",
      "Epoch 76/100\n",
      "398/398 - 0s - loss: 3.6095\n",
      "Epoch 77/100\n",
      "398/398 - 0s - loss: 3.5945\n",
      "Epoch 78/100\n",
      "398/398 - 0s - loss: 4.8085\n",
      "Epoch 79/100\n",
      "398/398 - 0s - loss: 3.6670\n",
      "Epoch 80/100\n",
      "398/398 - 0s - loss: 3.7169\n",
      "Epoch 81/100\n",
      "398/398 - 0s - loss: 3.7726\n",
      "Epoch 82/100\n",
      "398/398 - 0s - loss: 3.8390\n",
      "Epoch 83/100\n",
      "398/398 - 0s - loss: 4.6407\n",
      "Epoch 84/100\n",
      "398/398 - 0s - loss: 4.0283\n",
      "Epoch 85/100\n",
      "398/398 - 0s - loss: 4.4923\n",
      "Epoch 86/100\n",
      "398/398 - 0s - loss: 3.7569\n",
      "Epoch 87/100\n",
      "398/398 - 0s - loss: 3.5686\n",
      "Epoch 88/100\n",
      "398/398 - 0s - loss: 3.5874\n",
      "Epoch 89/100\n",
      "398/398 - 0s - loss: 3.8769\n",
      "Epoch 90/100\n",
      "398/398 - 0s - loss: 4.2424\n",
      "Epoch 91/100\n",
      "398/398 - 0s - loss: 3.6022\n",
      "Epoch 92/100\n",
      "398/398 - 0s - loss: 3.6107\n",
      "Epoch 93/100\n",
      "398/398 - 0s - loss: 3.6487\n",
      "Epoch 94/100\n",
      "398/398 - 0s - loss: 3.5627\n",
      "Epoch 95/100\n",
      "398/398 - 0s - loss: 3.7136\n",
      "Epoch 96/100\n",
      "398/398 - 0s - loss: 3.7639\n",
      "Epoch 97/100\n",
      "398/398 - 0s - loss: 3.9539\n",
      "Epoch 98/100\n",
      "398/398 - 0s - loss: 4.1260\n",
      "Epoch 99/100\n",
      "398/398 - 0s - loss: 3.9041\n",
      "Epoch 100/100\n",
      "398/398 - 0s - loss: 3.6862\n"
     ]
    },
    {
     "data": {
      "text/plain": [
       "<tensorflow.python.keras.callbacks.History at 0x1a3bab35c0>"
      ]
     },
     "execution_count": 28,
     "metadata": {},
     "output_type": "execute_result"
    }
   ],
   "source": [
    "from tensorflow.keras.models import Sequential\n",
    "from tensorflow.keras.layers import Dense, Activation\n",
    "import pandas as pd\n",
    "import io\n",
    "import os\n",
    "import requests\n",
    "import numpy as np\n",
    "from sklearn import metrics\n",
    "\n",
    "df = pd.read_csv(\n",
    "    \"https://data.heatonresearch.com/data/t81-558/auto-mpg.csv\", \n",
    "    na_values=['NA', '?'])\n",
    "\n",
    "cars = df['name']\n",
    "\n",
    "# Handle missing value\n",
    "df['horsepower'] = df['horsepower'].fillna(df['horsepower'].median())\n",
    "\n",
    "# Pandas to Numpy\n",
    "x = df[['cylinders', 'displacement', 'horsepower', 'weight',\n",
    "       'acceleration', 'year', 'origin']].values\n",
    "y = df['mpg'].values # regression\n",
    "\n",
    "# Build the neural network\n",
    "model = Sequential()\n",
    "model.add(Dense(25, input_dim=x.shape[1], activation='relu')) # Hidden 1\n",
    "model.add(Dense(10, activation='relu')) # Hidden 2\n",
    "model.add(Dense(1)) # Output\n",
    "model.compile(loss=mean_pred, optimizer='adam')\n",
    "model.fit(x,y,verbose=2,epochs=100)"
   ]
  },
  {
   "cell_type": "markdown",
   "metadata": {},
   "source": [
    "# Custom Activation (Transfer) Functions"
   ]
  },
  {
   "cell_type": "code",
   "execution_count": 29,
   "metadata": {},
   "outputs": [],
   "source": [
    "import tensorflow as tf\n",
    "def elliot_sym(x):\n",
    "    return tf.divide(x,tf.add(1.0,tf.abs(x)))     "
   ]
  },
  {
   "cell_type": "code",
   "execution_count": 30,
   "metadata": {},
   "outputs": [
    {
     "name": "stdout",
     "output_type": "stream",
     "text": [
      "Train on 398 samples\n",
      "Epoch 1/400\n",
      "398/398 - 0s - loss: 580.7997\n",
      "Epoch 2/400\n",
      "398/398 - 0s - loss: 559.8733\n",
      "Epoch 3/400\n",
      "398/398 - 0s - loss: 542.7060\n",
      "Epoch 4/400\n",
      "398/398 - 0s - loss: 528.3312\n",
      "Epoch 5/400\n",
      "398/398 - 0s - loss: 517.3115\n",
      "Epoch 6/400\n",
      "398/398 - 0s - loss: 507.8317\n",
      "Epoch 7/400\n",
      "398/398 - 0s - loss: 497.6923\n",
      "Epoch 8/400\n",
      "398/398 - 0s - loss: 488.9701\n",
      "Epoch 9/400\n",
      "398/398 - 0s - loss: 481.3325\n",
      "Epoch 10/400\n",
      "398/398 - 0s - loss: 473.9950\n",
      "Epoch 11/400\n",
      "398/398 - 0s - loss: 466.9197\n",
      "Epoch 12/400\n",
      "398/398 - 0s - loss: 459.9756\n",
      "Epoch 13/400\n",
      "398/398 - 0s - loss: 453.2480\n",
      "Epoch 14/400\n",
      "398/398 - 0s - loss: 446.6219\n",
      "Epoch 15/400\n",
      "398/398 - 0s - loss: 440.1158\n",
      "Epoch 16/400\n",
      "398/398 - 0s - loss: 433.7691\n",
      "Epoch 17/400\n",
      "398/398 - 0s - loss: 427.5683\n",
      "Epoch 18/400\n",
      "398/398 - 0s - loss: 421.3823\n",
      "Epoch 19/400\n",
      "398/398 - 0s - loss: 415.3867\n",
      "Epoch 20/400\n",
      "398/398 - 0s - loss: 409.4597\n",
      "Epoch 21/400\n",
      "398/398 - 0s - loss: 403.6996\n",
      "Epoch 22/400\n",
      "398/398 - 0s - loss: 397.9255\n",
      "Epoch 23/400\n",
      "398/398 - 0s - loss: 392.3375\n",
      "Epoch 24/400\n",
      "398/398 - 0s - loss: 386.7781\n",
      "Epoch 25/400\n",
      "398/398 - 0s - loss: 381.3748\n",
      "Epoch 26/400\n",
      "398/398 - 0s - loss: 375.9911\n",
      "Epoch 27/400\n",
      "398/398 - 0s - loss: 370.7443\n",
      "Epoch 28/400\n",
      "398/398 - 0s - loss: 365.5234\n",
      "Epoch 29/400\n",
      "398/398 - 0s - loss: 360.4638\n",
      "Epoch 30/400\n",
      "398/398 - 0s - loss: 355.4051\n",
      "Epoch 31/400\n",
      "398/398 - 0s - loss: 350.4503\n",
      "Epoch 32/400\n",
      "398/398 - 0s - loss: 345.5780\n",
      "Epoch 33/400\n",
      "398/398 - 0s - loss: 340.7539\n",
      "Epoch 34/400\n",
      "398/398 - 0s - loss: 335.9997\n",
      "Epoch 35/400\n",
      "398/398 - 0s - loss: 331.2908\n",
      "Epoch 36/400\n",
      "398/398 - 0s - loss: 326.6801\n",
      "Epoch 37/400\n",
      "398/398 - 0s - loss: 322.1323\n",
      "Epoch 38/400\n",
      "398/398 - 0s - loss: 317.6861\n",
      "Epoch 39/400\n",
      "398/398 - 0s - loss: 313.3140\n",
      "Epoch 40/400\n",
      "398/398 - 0s - loss: 308.9250\n",
      "Epoch 41/400\n",
      "398/398 - 0s - loss: 304.6521\n",
      "Epoch 42/400\n",
      "398/398 - 0s - loss: 300.4291\n",
      "Epoch 43/400\n",
      "398/398 - 0s - loss: 296.2750\n",
      "Epoch 44/400\n",
      "398/398 - 0s - loss: 292.1553\n",
      "Epoch 45/400\n",
      "398/398 - 0s - loss: 288.1540\n",
      "Epoch 46/400\n",
      "398/398 - 0s - loss: 284.1031\n",
      "Epoch 47/400\n",
      "398/398 - 0s - loss: 280.1751\n",
      "Epoch 48/400\n",
      "398/398 - 0s - loss: 276.2384\n",
      "Epoch 49/400\n",
      "398/398 - 0s - loss: 272.4429\n",
      "Epoch 50/400\n",
      "398/398 - 0s - loss: 268.7119\n",
      "Epoch 51/400\n",
      "398/398 - 0s - loss: 264.9631\n",
      "Epoch 52/400\n",
      "398/398 - 0s - loss: 261.2771\n",
      "Epoch 53/400\n",
      "398/398 - 0s - loss: 257.6984\n",
      "Epoch 54/400\n",
      "398/398 - 0s - loss: 254.1226\n",
      "Epoch 55/400\n",
      "398/398 - 0s - loss: 250.6449\n",
      "Epoch 56/400\n",
      "398/398 - 0s - loss: 247.1738\n",
      "Epoch 57/400\n",
      "398/398 - 0s - loss: 243.7975\n",
      "Epoch 58/400\n",
      "398/398 - 0s - loss: 240.4601\n",
      "Epoch 59/400\n",
      "398/398 - 0s - loss: 237.1640\n",
      "Epoch 60/400\n",
      "398/398 - 0s - loss: 233.8297\n",
      "Epoch 61/400\n",
      "398/398 - 0s - loss: 230.6481\n",
      "Epoch 62/400\n",
      "398/398 - 0s - loss: 227.4332\n",
      "Epoch 63/400\n",
      "398/398 - 0s - loss: 224.3163\n",
      "Epoch 64/400\n",
      "398/398 - 0s - loss: 221.2258\n",
      "Epoch 65/400\n",
      "398/398 - 0s - loss: 218.1860\n",
      "Epoch 66/400\n",
      "398/398 - 0s - loss: 215.2228\n",
      "Epoch 67/400\n",
      "398/398 - 0s - loss: 212.3084\n",
      "Epoch 68/400\n",
      "398/398 - 0s - loss: 209.3812\n",
      "Epoch 69/400\n",
      "398/398 - 0s - loss: 206.5258\n",
      "Epoch 70/400\n",
      "398/398 - 0s - loss: 203.6957\n",
      "Epoch 71/400\n",
      "398/398 - 0s - loss: 200.9445\n",
      "Epoch 72/400\n",
      "398/398 - 0s - loss: 198.2295\n",
      "Epoch 73/400\n",
      "398/398 - 0s - loss: 195.5232\n",
      "Epoch 74/400\n",
      "398/398 - 0s - loss: 192.8750\n",
      "Epoch 75/400\n",
      "398/398 - 0s - loss: 190.2599\n",
      "Epoch 76/400\n",
      "398/398 - 0s - loss: 187.6881\n",
      "Epoch 77/400\n",
      "398/398 - 0s - loss: 185.1539\n",
      "Epoch 78/400\n",
      "398/398 - 0s - loss: 182.6923\n",
      "Epoch 79/400\n",
      "398/398 - 0s - loss: 180.2004\n",
      "Epoch 80/400\n",
      "398/398 - 0s - loss: 177.8139\n",
      "Epoch 81/400\n",
      "398/398 - 0s - loss: 175.4295\n",
      "Epoch 82/400\n",
      "398/398 - 0s - loss: 173.1007\n",
      "Epoch 83/400\n",
      "398/398 - 0s - loss: 170.8023\n",
      "Epoch 84/400\n",
      "398/398 - 0s - loss: 168.5209\n",
      "Epoch 85/400\n",
      "398/398 - 0s - loss: 166.3050\n",
      "Epoch 86/400\n",
      "398/398 - 0s - loss: 164.1033\n",
      "Epoch 87/400\n",
      "398/398 - 0s - loss: 161.9304\n",
      "Epoch 88/400\n",
      "398/398 - 0s - loss: 159.7803\n",
      "Epoch 89/400\n",
      "398/398 - 0s - loss: 157.7115\n",
      "Epoch 90/400\n",
      "398/398 - 0s - loss: 155.6226\n",
      "Epoch 91/400\n",
      "398/398 - 0s - loss: 153.5967\n",
      "Epoch 92/400\n",
      "398/398 - 0s - loss: 151.6195\n",
      "Epoch 93/400\n",
      "398/398 - 0s - loss: 149.6920\n",
      "Epoch 94/400\n",
      "398/398 - 0s - loss: 147.7518\n",
      "Epoch 95/400\n",
      "398/398 - 0s - loss: 145.8823\n",
      "Epoch 96/400\n",
      "398/398 - 0s - loss: 144.0274\n",
      "Epoch 97/400\n",
      "398/398 - 0s - loss: 142.1929\n",
      "Epoch 98/400\n",
      "398/398 - 0s - loss: 140.4112\n",
      "Epoch 99/400\n",
      "398/398 - 0s - loss: 138.6662\n",
      "Epoch 100/400\n",
      "398/398 - 0s - loss: 136.9243\n",
      "Epoch 101/400\n",
      "398/398 - 0s - loss: 135.2350\n",
      "Epoch 102/400\n",
      "398/398 - 0s - loss: 133.6141\n",
      "Epoch 103/400\n",
      "398/398 - 0s - loss: 131.9906\n",
      "Epoch 104/400\n",
      "398/398 - 0s - loss: 130.3974\n",
      "Epoch 105/400\n",
      "398/398 - 0s - loss: 128.8241\n",
      "Epoch 106/400\n",
      "398/398 - 0s - loss: 127.2509\n",
      "Epoch 107/400\n",
      "398/398 - 0s - loss: 125.7629\n",
      "Epoch 108/400\n",
      "398/398 - 0s - loss: 124.2734\n",
      "Epoch 109/400\n",
      "398/398 - 0s - loss: 122.8298\n",
      "Epoch 110/400\n",
      "398/398 - 0s - loss: 121.4015\n",
      "Epoch 111/400\n",
      "398/398 - 0s - loss: 119.9862\n",
      "Epoch 112/400\n",
      "398/398 - 0s - loss: 118.5762\n",
      "Epoch 113/400\n",
      "398/398 - 0s - loss: 117.2532\n",
      "Epoch 114/400\n",
      "398/398 - 0s - loss: 115.8546\n",
      "Epoch 115/400\n",
      "398/398 - 0s - loss: 114.5412\n",
      "Epoch 116/400\n",
      "398/398 - 0s - loss: 113.3085\n",
      "Epoch 117/400\n",
      "398/398 - 0s - loss: 111.9642\n",
      "Epoch 118/400\n",
      "398/398 - 0s - loss: 110.7543\n",
      "Epoch 119/400\n",
      "398/398 - 0s - loss: 109.5120\n",
      "Epoch 120/400\n",
      "398/398 - 0s - loss: 108.3341\n",
      "Epoch 121/400\n",
      "398/398 - 0s - loss: 107.1654\n",
      "Epoch 122/400\n",
      "398/398 - 0s - loss: 105.9951\n",
      "Epoch 123/400\n",
      "398/398 - 0s - loss: 104.8567\n",
      "Epoch 124/400\n",
      "398/398 - 0s - loss: 103.7335\n",
      "Epoch 125/400\n",
      "398/398 - 0s - loss: 102.6758\n",
      "Epoch 126/400\n",
      "398/398 - 0s - loss: 101.6068\n",
      "Epoch 127/400\n",
      "398/398 - 0s - loss: 100.5657\n",
      "Epoch 128/400\n",
      "398/398 - 0s - loss: 99.5396\n",
      "Epoch 129/400\n",
      "398/398 - 0s - loss: 98.5638\n",
      "Epoch 130/400\n",
      "398/398 - 0s - loss: 97.5750\n",
      "Epoch 131/400\n",
      "398/398 - 0s - loss: 96.6493\n",
      "Epoch 132/400\n",
      "398/398 - 0s - loss: 95.7024\n",
      "Epoch 133/400\n",
      "398/398 - 0s - loss: 94.8202\n",
      "Epoch 134/400\n",
      "398/398 - 0s - loss: 93.8833\n",
      "Epoch 135/400\n",
      "398/398 - 0s - loss: 93.0028\n",
      "Epoch 136/400\n",
      "398/398 - 0s - loss: 92.1690\n",
      "Epoch 137/400\n",
      "398/398 - 0s - loss: 91.3089\n",
      "Epoch 138/400\n",
      "398/398 - 0s - loss: 90.4499\n",
      "Epoch 139/400\n",
      "398/398 - 0s - loss: 89.6939\n",
      "Epoch 140/400\n",
      "398/398 - 0s - loss: 88.8778\n",
      "Epoch 141/400\n",
      "398/398 - 0s - loss: 88.1154\n",
      "Epoch 142/400\n",
      "398/398 - 0s - loss: 87.3610\n",
      "Epoch 143/400\n",
      "398/398 - 0s - loss: 86.6266\n",
      "Epoch 144/400\n",
      "398/398 - 0s - loss: 85.8834\n",
      "Epoch 145/400\n",
      "398/398 - 0s - loss: 85.1884\n",
      "Epoch 146/400\n",
      "398/398 - 0s - loss: 84.4776\n",
      "Epoch 147/400\n",
      "398/398 - 0s - loss: 83.7920\n",
      "Epoch 148/400\n",
      "398/398 - 0s - loss: 83.1500\n",
      "Epoch 149/400\n",
      "398/398 - 0s - loss: 82.4968\n",
      "Epoch 150/400\n",
      "398/398 - 0s - loss: 81.8893\n",
      "Epoch 151/400\n",
      "398/398 - 0s - loss: 81.2401\n",
      "Epoch 152/400\n",
      "398/398 - 0s - loss: 80.6445\n",
      "Epoch 153/400\n",
      "398/398 - 0s - loss: 80.0572\n",
      "Epoch 154/400\n",
      "398/398 - 0s - loss: 79.4956\n",
      "Epoch 155/400\n",
      "398/398 - 0s - loss: 78.9192\n",
      "Epoch 156/400\n",
      "398/398 - 0s - loss: 78.3741\n",
      "Epoch 157/400\n",
      "398/398 - 0s - loss: 77.8235\n",
      "Epoch 158/400\n",
      "398/398 - 0s - loss: 77.3335\n",
      "Epoch 159/400\n",
      "398/398 - 0s - loss: 76.7990\n",
      "Epoch 160/400\n",
      "398/398 - 0s - loss: 76.3360\n",
      "Epoch 161/400\n",
      "398/398 - 0s - loss: 75.8388\n",
      "Epoch 162/400\n",
      "398/398 - 0s - loss: 75.3893\n",
      "Epoch 163/400\n",
      "398/398 - 0s - loss: 74.9382\n",
      "Epoch 164/400\n",
      "398/398 - 0s - loss: 74.4963\n",
      "Epoch 165/400\n",
      "398/398 - 0s - loss: 74.0519\n",
      "Epoch 166/400\n",
      "398/398 - 0s - loss: 73.6186\n",
      "Epoch 167/400\n",
      "398/398 - 0s - loss: 73.2164\n",
      "Epoch 168/400\n",
      "398/398 - 0s - loss: 72.8161\n",
      "Epoch 169/400\n",
      "398/398 - 0s - loss: 72.4290\n",
      "Epoch 170/400\n",
      "398/398 - 0s - loss: 72.0344\n",
      "Epoch 171/400\n",
      "398/398 - 0s - loss: 71.6713\n",
      "Epoch 172/400\n",
      "398/398 - 0s - loss: 71.3272\n",
      "Epoch 173/400\n",
      "398/398 - 0s - loss: 70.9791\n",
      "Epoch 174/400\n",
      "398/398 - 0s - loss: 70.6605\n",
      "Epoch 175/400\n",
      "398/398 - 0s - loss: 70.3308\n",
      "Epoch 176/400\n",
      "398/398 - 0s - loss: 70.0010\n",
      "Epoch 177/400\n",
      "398/398 - 0s - loss: 69.7020\n",
      "Epoch 178/400\n",
      "398/398 - 0s - loss: 69.3984\n",
      "Epoch 179/400\n",
      "398/398 - 0s - loss: 69.0993\n",
      "Epoch 180/400\n",
      "398/398 - 0s - loss: 68.8194\n",
      "Epoch 181/400\n",
      "398/398 - 0s - loss: 68.5440\n",
      "Epoch 182/400\n",
      "398/398 - 0s - loss: 68.2829\n",
      "Epoch 183/400\n",
      "398/398 - 0s - loss: 68.0232\n",
      "Epoch 184/400\n",
      "398/398 - 0s - loss: 67.7583\n",
      "Epoch 185/400\n",
      "398/398 - 0s - loss: 67.5099\n",
      "Epoch 186/400\n",
      "398/398 - 0s - loss: 67.2846\n",
      "Epoch 187/400\n",
      "398/398 - 0s - loss: 67.0426\n",
      "Epoch 188/400\n",
      "398/398 - 0s - loss: 66.8092\n",
      "Epoch 189/400\n",
      "398/398 - 0s - loss: 66.5920\n",
      "Epoch 190/400\n",
      "398/398 - 0s - loss: 66.3845\n"
     ]
    },
    {
     "name": "stdout",
     "output_type": "stream",
     "text": [
      "Epoch 191/400\n",
      "398/398 - 0s - loss: 66.1705\n",
      "Epoch 192/400\n",
      "398/398 - 0s - loss: 65.9765\n",
      "Epoch 193/400\n",
      "398/398 - 0s - loss: 65.7886\n",
      "Epoch 194/400\n",
      "398/398 - 0s - loss: 65.5992\n",
      "Epoch 195/400\n",
      "398/398 - 0s - loss: 65.4229\n",
      "Epoch 196/400\n",
      "398/398 - 0s - loss: 65.2662\n",
      "Epoch 197/400\n",
      "398/398 - 0s - loss: 65.1019\n",
      "Epoch 198/400\n",
      "398/398 - 0s - loss: 64.9430\n",
      "Epoch 199/400\n",
      "398/398 - 0s - loss: 64.7934\n",
      "Epoch 200/400\n",
      "398/398 - 0s - loss: 64.6446\n",
      "Epoch 201/400\n",
      "398/398 - 0s - loss: 64.5025\n",
      "Epoch 202/400\n",
      "398/398 - 0s - loss: 64.3684\n",
      "Epoch 203/400\n",
      "398/398 - 0s - loss: 64.2242\n",
      "Epoch 204/400\n",
      "398/398 - 0s - loss: 64.1108\n",
      "Epoch 205/400\n",
      "398/398 - 0s - loss: 63.9893\n",
      "Epoch 206/400\n",
      "398/398 - 0s - loss: 63.8638\n",
      "Epoch 207/400\n",
      "398/398 - 0s - loss: 63.7647\n",
      "Epoch 208/400\n",
      "398/398 - 0s - loss: 63.6336\n",
      "Epoch 209/400\n",
      "398/398 - 0s - loss: 63.5306\n",
      "Epoch 210/400\n",
      "398/398 - 0s - loss: 63.4151\n",
      "Epoch 211/400\n",
      "398/398 - 0s - loss: 63.3242\n",
      "Epoch 212/400\n",
      "398/398 - 0s - loss: 63.2086\n",
      "Epoch 213/400\n",
      "398/398 - 0s - loss: 63.1222\n",
      "Epoch 214/400\n",
      "398/398 - 0s - loss: 63.0260\n",
      "Epoch 215/400\n",
      "398/398 - 0s - loss: 62.9294\n",
      "Epoch 216/400\n",
      "398/398 - 0s - loss: 62.8411\n",
      "Epoch 217/400\n",
      "398/398 - 0s - loss: 62.7635\n",
      "Epoch 218/400\n",
      "398/398 - 0s - loss: 62.6778\n",
      "Epoch 219/400\n",
      "398/398 - 0s - loss: 62.6034\n",
      "Epoch 220/400\n",
      "398/398 - 0s - loss: 62.5289\n",
      "Epoch 221/400\n",
      "398/398 - 0s - loss: 62.4619\n",
      "Epoch 222/400\n",
      "398/398 - 0s - loss: 62.3901\n",
      "Epoch 223/400\n",
      "398/398 - 0s - loss: 62.3387\n",
      "Epoch 224/400\n",
      "398/398 - 0s - loss: 62.2619\n",
      "Epoch 225/400\n",
      "398/398 - 0s - loss: 62.2037\n",
      "Epoch 226/400\n",
      "398/398 - 0s - loss: 62.1516\n",
      "Epoch 227/400\n",
      "398/398 - 0s - loss: 62.1013\n",
      "Epoch 228/400\n",
      "398/398 - 0s - loss: 62.0436\n",
      "Epoch 229/400\n",
      "398/398 - 0s - loss: 61.9967\n",
      "Epoch 230/400\n",
      "398/398 - 0s - loss: 61.9455\n",
      "Epoch 231/400\n",
      "398/398 - 0s - loss: 61.8937\n",
      "Epoch 232/400\n",
      "398/398 - 0s - loss: 61.8499\n",
      "Epoch 233/400\n",
      "398/398 - 0s - loss: 61.8029\n",
      "Epoch 234/400\n",
      "398/398 - 0s - loss: 61.7635\n",
      "Epoch 235/400\n",
      "398/398 - 0s - loss: 61.7247\n",
      "Epoch 236/400\n",
      "398/398 - 0s - loss: 61.6847\n",
      "Epoch 237/400\n",
      "398/398 - 0s - loss: 61.6517\n",
      "Epoch 238/400\n",
      "398/398 - 0s - loss: 61.6056\n",
      "Epoch 239/400\n",
      "398/398 - 0s - loss: 61.5796\n",
      "Epoch 240/400\n",
      "398/398 - 0s - loss: 61.5413\n",
      "Epoch 241/400\n",
      "398/398 - 0s - loss: 61.5116\n",
      "Epoch 242/400\n",
      "398/398 - 0s - loss: 61.4861\n",
      "Epoch 243/400\n",
      "398/398 - 0s - loss: 61.4562\n",
      "Epoch 244/400\n",
      "398/398 - 0s - loss: 61.4317\n",
      "Epoch 245/400\n",
      "398/398 - 0s - loss: 61.4075\n",
      "Epoch 246/400\n",
      "398/398 - 0s - loss: 61.3811\n",
      "Epoch 247/400\n",
      "398/398 - 0s - loss: 61.3659\n",
      "Epoch 248/400\n",
      "398/398 - 0s - loss: 61.3367\n",
      "Epoch 249/400\n",
      "398/398 - 0s - loss: 61.3204\n",
      "Epoch 250/400\n",
      "398/398 - 0s - loss: 61.2958\n",
      "Epoch 251/400\n",
      "398/398 - 0s - loss: 61.2899\n",
      "Epoch 252/400\n",
      "398/398 - 0s - loss: 61.2630\n",
      "Epoch 253/400\n",
      "398/398 - 0s - loss: 61.2419\n",
      "Epoch 254/400\n",
      "398/398 - 0s - loss: 61.2319\n",
      "Epoch 255/400\n",
      "398/398 - 0s - loss: 61.2128\n",
      "Epoch 256/400\n",
      "398/398 - 0s - loss: 61.1957\n",
      "Epoch 257/400\n",
      "398/398 - 0s - loss: 61.1809\n",
      "Epoch 258/400\n",
      "398/398 - 0s - loss: 61.1678\n",
      "Epoch 259/400\n",
      "398/398 - 0s - loss: 61.1538\n",
      "Epoch 260/400\n",
      "398/398 - 0s - loss: 61.1401\n",
      "Epoch 261/400\n",
      "398/398 - 0s - loss: 61.1282\n",
      "Epoch 262/400\n",
      "398/398 - 0s - loss: 61.1227\n",
      "Epoch 263/400\n",
      "398/398 - 0s - loss: 61.1088\n",
      "Epoch 264/400\n",
      "398/398 - 0s - loss: 61.1048\n",
      "Epoch 265/400\n",
      "398/398 - 0s - loss: 61.0889\n",
      "Epoch 266/400\n",
      "398/398 - 0s - loss: 61.0808\n",
      "Epoch 267/400\n",
      "398/398 - 0s - loss: 61.0710\n",
      "Epoch 268/400\n",
      "398/398 - 0s - loss: 61.0624\n",
      "Epoch 269/400\n",
      "398/398 - 0s - loss: 61.0548\n",
      "Epoch 270/400\n",
      "398/398 - 0s - loss: 61.0484\n",
      "Epoch 271/400\n",
      "398/398 - 0s - loss: 61.0411\n",
      "Epoch 272/400\n",
      "398/398 - 0s - loss: 61.0391\n",
      "Epoch 273/400\n",
      "398/398 - 0s - loss: 61.0247\n",
      "Epoch 274/400\n",
      "398/398 - 0s - loss: 61.0232\n",
      "Epoch 275/400\n",
      "398/398 - 0s - loss: 61.0141\n",
      "Epoch 276/400\n",
      "398/398 - 0s - loss: 61.0081\n",
      "Epoch 277/400\n",
      "398/398 - 0s - loss: 61.0057\n",
      "Epoch 278/400\n",
      "398/398 - 0s - loss: 60.9989\n",
      "Epoch 279/400\n",
      "398/398 - 0s - loss: 60.9980\n",
      "Epoch 280/400\n",
      "398/398 - 0s - loss: 60.9915\n",
      "Epoch 281/400\n",
      "398/398 - 0s - loss: 60.9883\n",
      "Epoch 282/400\n",
      "398/398 - 0s - loss: 60.9884\n",
      "Epoch 283/400\n",
      "398/398 - 0s - loss: 60.9839\n",
      "Epoch 284/400\n",
      "398/398 - 0s - loss: 60.9796\n",
      "Epoch 285/400\n",
      "398/398 - 0s - loss: 60.9842\n",
      "Epoch 286/400\n",
      "398/398 - 0s - loss: 60.9736\n",
      "Epoch 287/400\n",
      "398/398 - 0s - loss: 60.9723\n",
      "Epoch 288/400\n",
      "398/398 - 0s - loss: 60.9698\n",
      "Epoch 289/400\n",
      "398/398 - 0s - loss: 60.9737\n",
      "Epoch 290/400\n",
      "398/398 - 0s - loss: 60.9675\n",
      "Epoch 291/400\n",
      "398/398 - 0s - loss: 60.9665\n",
      "Epoch 292/400\n",
      "398/398 - 0s - loss: 60.9650\n",
      "Epoch 293/400\n",
      "398/398 - 0s - loss: 60.9605\n",
      "Epoch 294/400\n",
      "398/398 - 0s - loss: 60.9592\n",
      "Epoch 295/400\n",
      "398/398 - 0s - loss: 60.9574\n",
      "Epoch 296/400\n",
      "398/398 - 0s - loss: 60.9582\n",
      "Epoch 297/400\n",
      "398/398 - 0s - loss: 60.9577\n",
      "Epoch 298/400\n",
      "398/398 - 0s - loss: 60.9542\n",
      "Epoch 299/400\n",
      "398/398 - 0s - loss: 60.9532\n",
      "Epoch 300/400\n",
      "398/398 - 0s - loss: 60.9527\n",
      "Epoch 301/400\n",
      "398/398 - 0s - loss: 60.9523\n",
      "Epoch 302/400\n",
      "398/398 - 0s - loss: 60.9518\n",
      "Epoch 303/400\n",
      "398/398 - 0s - loss: 60.9530\n",
      "Epoch 304/400\n",
      "398/398 - 0s - loss: 60.9513\n",
      "Epoch 305/400\n",
      "398/398 - 0s - loss: 60.9501\n",
      "Epoch 306/400\n",
      "398/398 - 0s - loss: 60.9496\n",
      "Epoch 307/400\n",
      "398/398 - 0s - loss: 60.9486\n",
      "Epoch 308/400\n",
      "398/398 - 0s - loss: 60.9499\n",
      "Epoch 309/400\n",
      "398/398 - 0s - loss: 60.9466\n",
      "Epoch 310/400\n",
      "398/398 - 0s - loss: 60.9471\n",
      "Epoch 311/400\n",
      "398/398 - 0s - loss: 60.9499\n",
      "Epoch 312/400\n",
      "398/398 - 0s - loss: 60.9487\n",
      "Epoch 313/400\n",
      "398/398 - 0s - loss: 60.9479\n",
      "Epoch 314/400\n",
      "398/398 - 0s - loss: 60.9457\n",
      "Epoch 315/400\n",
      "398/398 - 0s - loss: 60.9463\n",
      "Epoch 316/400\n",
      "398/398 - 0s - loss: 60.9440\n",
      "Epoch 317/400\n",
      "398/398 - 0s - loss: 60.9446\n",
      "Epoch 318/400\n",
      "398/398 - 0s - loss: 60.9450\n",
      "Epoch 319/400\n",
      "398/398 - 0s - loss: 60.9438\n",
      "Epoch 320/400\n",
      "398/398 - 0s - loss: 60.9426\n",
      "Epoch 321/400\n",
      "398/398 - 0s - loss: 60.9438\n",
      "Epoch 322/400\n",
      "398/398 - 0s - loss: 60.9468\n",
      "Epoch 323/400\n",
      "398/398 - 0s - loss: 60.9459\n",
      "Epoch 324/400\n",
      "398/398 - 0s - loss: 60.9435\n",
      "Epoch 325/400\n",
      "398/398 - 0s - loss: 60.9439\n",
      "Epoch 326/400\n",
      "398/398 - 0s - loss: 60.9423\n",
      "Epoch 327/400\n",
      "398/398 - 0s - loss: 60.9450\n",
      "Epoch 328/400\n",
      "398/398 - 0s - loss: 60.9433\n",
      "Epoch 329/400\n",
      "398/398 - 0s - loss: 60.9434\n",
      "Epoch 330/400\n",
      "398/398 - 0s - loss: 60.9441\n",
      "Epoch 331/400\n",
      "398/398 - 0s - loss: 60.9427\n",
      "Epoch 332/400\n",
      "398/398 - 0s - loss: 60.9422\n",
      "Epoch 333/400\n",
      "398/398 - 0s - loss: 60.9450\n",
      "Epoch 334/400\n",
      "398/398 - 0s - loss: 60.9426\n",
      "Epoch 335/400\n",
      "398/398 - 0s - loss: 60.9433\n",
      "Epoch 336/400\n",
      "398/398 - 0s - loss: 60.9474\n",
      "Epoch 337/400\n",
      "398/398 - 0s - loss: 60.9415\n",
      "Epoch 338/400\n",
      "398/398 - 0s - loss: 60.9458\n",
      "Epoch 339/400\n",
      "398/398 - 0s - loss: 60.9450\n",
      "Epoch 340/400\n",
      "398/398 - 0s - loss: 60.9451\n",
      "Epoch 341/400\n",
      "398/398 - 0s - loss: 60.9411\n",
      "Epoch 342/400\n",
      "398/398 - 0s - loss: 60.9473\n",
      "Epoch 343/400\n",
      "398/398 - 0s - loss: 60.9409\n",
      "Epoch 344/400\n",
      "398/398 - 0s - loss: 60.9432\n",
      "Epoch 345/400\n",
      "398/398 - 0s - loss: 60.9449\n",
      "Epoch 346/400\n",
      "398/398 - 0s - loss: 60.9420\n",
      "Epoch 347/400\n",
      "398/398 - 0s - loss: 60.9420\n",
      "Epoch 348/400\n",
      "398/398 - 0s - loss: 60.9405\n",
      "Epoch 349/400\n",
      "398/398 - 0s - loss: 60.9420\n",
      "Epoch 350/400\n",
      "398/398 - 0s - loss: 60.9415\n",
      "Epoch 351/400\n",
      "398/398 - 0s - loss: 60.9431\n",
      "Epoch 352/400\n",
      "398/398 - 0s - loss: 60.9438\n",
      "Epoch 353/400\n",
      "398/398 - 0s - loss: 60.9430\n",
      "Epoch 354/400\n",
      "398/398 - 0s - loss: 60.9424\n",
      "Epoch 355/400\n",
      "398/398 - 0s - loss: 60.9424\n",
      "Epoch 356/400\n",
      "398/398 - 0s - loss: 60.9448\n",
      "Epoch 357/400\n",
      "398/398 - 0s - loss: 60.9424\n",
      "Epoch 358/400\n",
      "398/398 - 0s - loss: 60.9416\n",
      "Epoch 359/400\n",
      "398/398 - 0s - loss: 60.9412\n",
      "Epoch 360/400\n",
      "398/398 - 0s - loss: 60.9422\n",
      "Epoch 361/400\n",
      "398/398 - 0s - loss: 60.9414\n",
      "Epoch 362/400\n",
      "398/398 - 0s - loss: 60.9414\n",
      "Epoch 363/400\n",
      "398/398 - 0s - loss: 60.9426\n",
      "Epoch 364/400\n",
      "398/398 - 0s - loss: 60.9410\n",
      "Epoch 365/400\n",
      "398/398 - 0s - loss: 60.9412\n",
      "Epoch 366/400\n",
      "398/398 - 0s - loss: 60.9411\n",
      "Epoch 367/400\n",
      "398/398 - 0s - loss: 60.9427\n",
      "Epoch 368/400\n",
      "398/398 - 0s - loss: 60.9409\n",
      "Epoch 369/400\n",
      "398/398 - 0s - loss: 60.9447\n",
      "Epoch 370/400\n",
      "398/398 - 0s - loss: 60.9394\n",
      "Epoch 371/400\n",
      "398/398 - 0s - loss: 60.9409\n",
      "Epoch 372/400\n",
      "398/398 - 0s - loss: 60.9426\n",
      "Epoch 373/400\n",
      "398/398 - 0s - loss: 60.9440\n",
      "Epoch 374/400\n",
      "398/398 - 0s - loss: 60.9432\n",
      "Epoch 375/400\n",
      "398/398 - 0s - loss: 60.9467\n",
      "Epoch 376/400\n",
      "398/398 - 0s - loss: 60.9386\n",
      "Epoch 377/400\n",
      "398/398 - 0s - loss: 60.9432\n",
      "Epoch 378/400\n",
      "398/398 - 0s - loss: 60.9426\n",
      "Epoch 379/400\n",
      "398/398 - 0s - loss: 60.9412\n",
      "Epoch 380/400\n",
      "398/398 - 0s - loss: 60.9415\n",
      "Epoch 381/400\n",
      "398/398 - 0s - loss: 60.9409\n"
     ]
    },
    {
     "name": "stdout",
     "output_type": "stream",
     "text": [
      "Epoch 382/400\n",
      "398/398 - 0s - loss: 60.9409\n",
      "Epoch 383/400\n",
      "398/398 - 0s - loss: 60.9425\n",
      "Epoch 384/400\n",
      "398/398 - 0s - loss: 60.9407\n",
      "Epoch 385/400\n",
      "398/398 - 0s - loss: 60.9410\n",
      "Epoch 386/400\n",
      "398/398 - 0s - loss: 60.9468\n",
      "Epoch 387/400\n",
      "398/398 - 0s - loss: 60.9434\n",
      "Epoch 388/400\n",
      "398/398 - 0s - loss: 60.9440\n",
      "Epoch 389/400\n",
      "398/398 - 0s - loss: 60.9433\n",
      "Epoch 390/400\n",
      "398/398 - 0s - loss: 60.9418\n",
      "Epoch 391/400\n",
      "398/398 - 0s - loss: 60.9458\n",
      "Epoch 392/400\n",
      "398/398 - 0s - loss: 60.9443\n",
      "Epoch 393/400\n",
      "398/398 - 0s - loss: 60.9424\n",
      "Epoch 394/400\n",
      "398/398 - 0s - loss: 60.9415\n",
      "Epoch 395/400\n",
      "398/398 - 0s - loss: 60.9417\n",
      "Epoch 396/400\n",
      "398/398 - 0s - loss: 60.9427\n",
      "Epoch 397/400\n",
      "398/398 - 0s - loss: 60.9402\n",
      "Epoch 398/400\n",
      "398/398 - 0s - loss: 60.9490\n",
      "Epoch 399/400\n",
      "398/398 - 0s - loss: 60.9405\n",
      "Epoch 400/400\n",
      "398/398 - 0s - loss: 60.9441\n"
     ]
    },
    {
     "data": {
      "text/plain": [
       "<tensorflow.python.keras.callbacks.History at 0x1a3c488438>"
      ]
     },
     "execution_count": 30,
     "metadata": {},
     "output_type": "execute_result"
    }
   ],
   "source": [
    "from tensorflow.keras.models import Sequential\n",
    "from tensorflow.keras.layers import Dense, Activation\n",
    "import pandas as pd\n",
    "import io\n",
    "import os\n",
    "import requests\n",
    "import numpy as np\n",
    "from sklearn import metrics\n",
    "\n",
    "df = pd.read_csv(\n",
    "    \"https://data.heatonresearch.com/data/t81-558/auto-mpg.csv\", \n",
    "    na_values=['NA', '?'])\n",
    "\n",
    "cars = df['name']\n",
    "\n",
    "# Handle missing value\n",
    "df['horsepower'] = df['horsepower'].fillna(df['horsepower'].median())\n",
    "\n",
    "# Pandas to Numpy\n",
    "x = df[['cylinders', 'displacement', 'horsepower', 'weight',\n",
    "       'acceleration', 'year', 'origin']].values\n",
    "y = df['mpg'].values # regression\n",
    "\n",
    "# Build the neural network\n",
    "sgd = tf.keras.optimizers.SGD(lr=1e-10, decay=1e-6, momentum=0.9, nesterov=True)\n",
    "model = Sequential()\n",
    "model.add(Dense(25, input_dim=x.shape[1], activation=elliot_sym)) # Hidden 1\n",
    "model.add(Dense(10, activation=elliot_sym)) # Hidden 2\n",
    "model.add(Dense(1)) # Output\n",
    "model.compile(loss='mean_squared_error', optimizer='adam')\n",
    "model.fit(x,y,verbose=2,epochs=400)"
   ]
  },
  {
   "cell_type": "code",
   "execution_count": null,
   "metadata": {},
   "outputs": [],
   "source": []
  }
 ],
 "metadata": {
  "kernelspec": {
   "display_name": "Python 3.6 (tensorflow)",
   "language": "python",
   "name": "rga"
  },
  "language_info": {
   "codemirror_mode": {
    "name": "ipython",
    "version": 3
   },
   "file_extension": ".py",
   "mimetype": "text/x-python",
   "name": "python",
   "nbconvert_exporter": "python",
   "pygments_lexer": "ipython3",
   "version": "3.6.9"
  }
 },
 "nbformat": 4,
 "nbformat_minor": 2
}
