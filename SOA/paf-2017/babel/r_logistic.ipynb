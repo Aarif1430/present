{
 "cells": [
  {
   "cell_type": "markdown",
   "metadata": {},
   "source": [
    "# Session 15: Languages of Predictive Analytics: A Tower of Babel?\n",
    "# SOA Predictive Analytics Symposium 2017\n",
    "by [Jeff Heaton](http://www.heatonresearch.com)"
   ]
  },
  {
   "cell_type": "code",
   "execution_count": 1,
   "metadata": {},
   "outputs": [
    {
     "data": {
      "text/html": [
       "<table>\n",
       "<thead><tr><th scope=col>Survived</th><th scope=col>Pclass</th><th scope=col>Sex</th><th scope=col>Age</th><th scope=col>SibSp</th><th scope=col>Parch</th><th scope=col>Fare</th><th scope=col>Embarked</th></tr></thead>\n",
       "<tbody>\n",
       "\t<tr><td>0      </td><td>3      </td><td>male   </td><td>22     </td><td>1      </td><td>0      </td><td> 7.2500</td><td>S      </td></tr>\n",
       "\t<tr><td>1      </td><td>1      </td><td>female </td><td>38     </td><td>1      </td><td>0      </td><td>71.2833</td><td>C      </td></tr>\n",
       "\t<tr><td>1      </td><td>3      </td><td>female </td><td>26     </td><td>0      </td><td>0      </td><td> 7.9250</td><td>S      </td></tr>\n",
       "\t<tr><td>1      </td><td>1      </td><td>female </td><td>35     </td><td>1      </td><td>0      </td><td>53.1000</td><td>S      </td></tr>\n",
       "\t<tr><td>0      </td><td>3      </td><td>male   </td><td>35     </td><td>0      </td><td>0      </td><td> 8.0500</td><td>S      </td></tr>\n",
       "</tbody>\n",
       "</table>\n"
      ],
      "text/latex": [
       "\\begin{tabular}{r|llllllll}\n",
       " Survived & Pclass & Sex & Age & SibSp & Parch & Fare & Embarked\\\\\n",
       "\\hline\n",
       "\t 0       & 3       & male    & 22      & 1       & 0       &  7.2500 & S      \\\\\n",
       "\t 1       & 1       & female  & 38      & 1       & 0       & 71.2833 & C      \\\\\n",
       "\t 1       & 3       & female  & 26      & 0       & 0       &  7.9250 & S      \\\\\n",
       "\t 1       & 1       & female  & 35      & 1       & 0       & 53.1000 & S      \\\\\n",
       "\t 0       & 3       & male    & 35      & 0       & 0       &  8.0500 & S      \\\\\n",
       "\\end{tabular}\n"
      ],
      "text/markdown": [
       "\n",
       "Survived | Pclass | Sex | Age | SibSp | Parch | Fare | Embarked | \n",
       "|---|---|---|---|---|\n",
       "| 0       | 3       | male    | 22      | 1       | 0       |  7.2500 | S       | \n",
       "| 1       | 1       | female  | 38      | 1       | 0       | 71.2833 | C       | \n",
       "| 1       | 3       | female  | 26      | 0       | 0       |  7.9250 | S       | \n",
       "| 1       | 1       | female  | 35      | 1       | 0       | 53.1000 | S       | \n",
       "| 0       | 3       | male    | 35      | 0       | 0       |  8.0500 | S       | \n",
       "\n",
       "\n"
      ],
      "text/plain": [
       "  Survived Pclass Sex    Age SibSp Parch Fare    Embarked\n",
       "1 0        3      male   22  1     0      7.2500 S       \n",
       "2 1        1      female 38  1     0     71.2833 C       \n",
       "3 1        3      female 26  0     0      7.9250 S       \n",
       "4 1        1      female 35  1     0     53.1000 S       \n",
       "5 0        3      male   35  0     0      8.0500 S       "
      ]
     },
     "metadata": {},
     "output_type": "display_data"
    }
   ],
   "source": [
    "df = read.csv(\"./data/titanic-dataset.csv\", header = TRUE)\n",
    "\n",
    "drops <- c(\"PassengerId\",\"Name\", \"Ticket\", \"Cabin\")\n",
    "df <- df[ , !(names(df) %in% drops)]\n",
    "df$Age[is.na(df$Age)] <- median(df$Age, na.rm=TRUE)\n",
    "df$Embarked[is.na(df$Embarked)] <- 'S'\n",
    "\n",
    "df[1:5,]"
   ]
  },
  {
   "cell_type": "code",
   "execution_count": 2,
   "metadata": {
    "collapsed": true
   },
   "outputs": [],
   "source": [
    "smp_size <- floor(0.75 * nrow(df))\n",
    "\n",
    "set.seed(42)\n",
    "train_ind <- sample(seq_len(nrow(df)), size = smp_size)\n",
    "\n",
    "train <- df[train_ind, ]\n",
    "test <- df[-train_ind, ]\n",
    "\n",
    "model <- glm(Survived ~.,family=binomial(link='logit'),data=train)"
   ]
  },
  {
   "cell_type": "code",
   "execution_count": 3,
   "metadata": {},
   "outputs": [
    {
     "data": {
      "text/html": [
       "'Accuracy: 0.780269'"
      ],
      "text/latex": [
       "'Accuracy: 0.780269'"
      ],
      "text/markdown": [
       "'Accuracy: 0.780269'"
      ],
      "text/plain": [
       "[1] \"Accuracy: 0.780269\""
      ]
     },
     "metadata": {},
     "output_type": "display_data"
    }
   ],
   "source": [
    "pred <- predict(model,newdata=test,type='response')\n",
    "pred_survived <- round(pred)\n",
    "\n",
    "sprintf( \"Accuracy: %f\", sum(pred_survived == test$Survived) / nrow(test) )"
   ]
  },
  {
   "cell_type": "code",
   "execution_count": null,
   "metadata": {
    "collapsed": true
   },
   "outputs": [],
   "source": []
  }
 ],
 "metadata": {
  "kernelspec": {
   "display_name": "R",
   "language": "R",
   "name": "ir"
  },
  "language_info": {
   "codemirror_mode": "r",
   "file_extension": ".r",
   "mimetype": "text/x-r-source",
   "name": "R",
   "pygments_lexer": "r",
   "version": "3.4.1"
  }
 },
 "nbformat": 4,
 "nbformat_minor": 2
}
