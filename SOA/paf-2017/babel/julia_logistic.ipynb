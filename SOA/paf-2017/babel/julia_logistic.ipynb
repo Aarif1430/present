{
 "cells": [
  {
   "cell_type": "code",
   "execution_count": 36,
   "metadata": {
    "collapsed": false
   },
   "outputs": [
    {
     "data": {
      "text/plain": [
       "3-element DataArrays.DataArray{Float64,1}:\n",
       " 1.83333\n",
       " 4.33333\n",
       " 6.83333"
      ]
     },
     "execution_count": 36,
     "metadata": {},
     "output_type": "execute_result"
    }
   ],
   "source": [
    "data = DataFrame(X=[1,2,3], Y=[2,4,7]);\n",
    "model = glm(@formula(Y ~ X), data, Normal(), IdentityLink());\n",
    "predict(model,data)"
   ]
  },
  {
   "cell_type": "code",
   "execution_count": 118,
   "metadata": {
    "collapsed": false
   },
   "outputs": [
    {
     "name": "stdout",
     "output_type": "stream",
     "text": [
      "DataArrays.DataArray{Float64,1}\n",
      "DataArrays.DataArray{Float64,1}\n",
      "[1, 2, 3]\n"
     ]
    },
    {
     "ename": "LoadError",
     "evalue": "\u001b[91mMethodError: no method matching round(::Type{Int64}, ::DataArrays.NAtype)\u001b[0m\nClosest candidates are:\n  round(::Type{T<:Integer}, \u001b[91m::Integer\u001b[39m) where T<:Integer at int.jl:408\n  round(::Type{T<:Integer}, \u001b[91m::Float16\u001b[39m) where T<:Integer at float.jl:338\n  round(::Type{T<:Union{Signed, Unsigned}}, \u001b[91m::BigFloat\u001b[39m) where T<:Union{Signed, Unsigned} at mpfr.jl:214\n  ...\u001b[39m",
     "output_type": "error",
     "traceback": [
      "\u001b[91mMethodError: no method matching round(::Type{Int64}, ::DataArrays.NAtype)\u001b[0m\nClosest candidates are:\n  round(::Type{T<:Integer}, \u001b[91m::Integer\u001b[39m) where T<:Integer at int.jl:408\n  round(::Type{T<:Integer}, \u001b[91m::Float16\u001b[39m) where T<:Integer at float.jl:338\n  round(::Type{T<:Union{Signed, Unsigned}}, \u001b[91m::BigFloat\u001b[39m) where T<:Union{Signed, Unsigned} at mpfr.jl:214\n  ...\u001b[39m",
      "",
      "Stacktrace:",
      " [1] \u001b[1mmacro expansion\u001b[22m\u001b[22m at \u001b[1mC:\\Users\\JHeaton\\.julia\\v0.6\\DataArrays\\src\\broadcast.jl:32\u001b[22m\u001b[22m [inlined]",
      " [2] \u001b[1mmacro expansion\u001b[22m\u001b[22m at \u001b[1m.\\cartesian.jl:64\u001b[22m\u001b[22m [inlined]",
      " [3] \u001b[1mmacro expansion\u001b[22m\u001b[22m at \u001b[1mC:\\Users\\JHeaton\\.julia\\v0.6\\DataArrays\\src\\broadcast.jl:111\u001b[22m\u001b[22m [inlined]",
      " [4] \u001b[1m_broadcast!\u001b[22m\u001b[22m\u001b[1m(\u001b[22m\u001b[22m::DataArrays.##116#117{Int64,Base.#round}, ::DataArrays.DataArray{Int64,1}, ::DataArrays.DataArray{Float64,1}\u001b[1m)\u001b[22m\u001b[22m at \u001b[1mC:\\Users\\JHeaton\\.julia\\v0.6\\DataArrays\\src\\broadcast.jl:67\u001b[22m\u001b[22m",
      " [5] \u001b[1mbroadcast!\u001b[22m\u001b[22m\u001b[1m(\u001b[22m\u001b[22m::Function, ::DataArrays.DataArray{Int64,1}, ::Type{Int64}, ::DataArrays.DataArray{Float64,1}\u001b[1m)\u001b[22m\u001b[22m at \u001b[1mC:\\Users\\JHeaton\\.julia\\v0.6\\DataArrays\\src\\broadcast.jl:169\u001b[22m\u001b[22m",
      " [6] \u001b[1mbroadcast\u001b[22m\u001b[22m\u001b[1m(\u001b[22m\u001b[22m::Function, ::Type{T} where T, ::DataArrays.DataArray{Float64,1}\u001b[1m)\u001b[22m\u001b[22m at \u001b[1m.\\broadcast.jl:434\u001b[22m\u001b[22m",
      " [7] \u001b[1minclude_string\u001b[22m\u001b[22m\u001b[1m(\u001b[22m\u001b[22m::String, ::String\u001b[1m)\u001b[22m\u001b[22m at \u001b[1m.\\loading.jl:515\u001b[22m\u001b[22m"
     ]
    }
   ],
   "source": [
    "z = DataArray([1.0,2.0,3.0]);\n",
    "println(typeof(z));\n",
    "println(typeof(pred));\n",
    "println(round.(Int64,z));\n",
    "println(round.(Int64,pred));"
   ]
  },
  {
   "cell_type": "code",
   "execution_count": null,
   "metadata": {
    "collapsed": true
   },
   "outputs": [],
   "source": []
  }
 ],
 "metadata": {
  "kernelspec": {
   "display_name": "Julia 0.6.0",
   "language": "julia",
   "name": "julia-0.6"
  },
  "language_info": {
   "file_extension": ".jl",
   "mimetype": "application/julia",
   "name": "julia",
   "version": "0.6.0"
  }
 },
 "nbformat": 4,
 "nbformat_minor": 2
}
