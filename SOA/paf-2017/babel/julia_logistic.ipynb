{
 "cells": [
  {
   "cell_type": "markdown",
   "metadata": {},
   "source": [
    "# Session 15: Languages of Predictive Analytics: A Tower of Babel?\n",
    "# SOA Predictive Analytics Symposium 2017\n",
    "by [Jeff Heaton](http://www.heatonresearch.com)"
   ]
  },
  {
   "cell_type": "code",
   "execution_count": 76,
   "metadata": {},
   "outputs": [
    {
     "name": "stdout",
     "output_type": "stream",
     "text": [
      "Accuracy: 0.8022388059701493\n"
     ]
    }
   ],
   "source": [
    "using DataFrames;\n",
    "using GLM;\n",
    "\n",
    "df = readtable(\"./data/titanic-dataset.csv\");\n",
    "\n",
    "delete!(df, :PassengerId);\n",
    "delete!(df, :Name);\n",
    "delete!(df, :Ticket);\n",
    "delete!(df, :Cabin);\n",
    "df[isna.(df[:Age]),:Age] = median(df[ .~isna.(df[:Age]),:Age])\n",
    "df[isna.(df[:Embarked]),:Embarked] = \"S\"\n",
    "pool!(df, [:Sex]);\n",
    "pool!(df, [:Embarked]);\n",
    "\n",
    "split_pt = trunc(Int,size(df,1)*0.7) # 70% validation\n",
    "shuffle_idx = sample(1:size(df,1),size(df,1));\n",
    "df_train = df[1:split_pt,:];\n",
    "df_validate = df[split_pt+1:size(df,1),:];\n",
    "\n",
    "model = glm(@formula(Survived ~ Pclass + Sex + Age + SibSp + Parch + Fare + Embarked), df_train, Binomial(), LogitLink());\n",
    "pred = predict(model,df_validate);\n",
    "pred = convert(DataArray{Int}, round.(pred));\n",
    "\n",
    "print(\"Accuracy: \")\n",
    "println( sum(pred .== df_validate[:Survived]) / length(pred))\n"
   ]
  },
  {
   "cell_type": "code",
   "execution_count": null,
   "metadata": {
    "collapsed": true
   },
   "outputs": [],
   "source": []
  }
 ],
 "metadata": {
  "kernelspec": {
   "display_name": "Julia 0.6.0",
   "language": "julia",
   "name": "julia-0.6"
  },
  "language_info": {
   "file_extension": ".jl",
   "mimetype": "application/julia",
   "name": "julia",
   "version": "0.6.0"
  }
 },
 "nbformat": 4,
 "nbformat_minor": 2
}
